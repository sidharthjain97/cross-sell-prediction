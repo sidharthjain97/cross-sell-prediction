{
  "nbformat": 4,
  "nbformat_minor": 0,
  "metadata": {
    "colab": {
      "name": "cross-sell-prediction-main.ipynb",
      "provenance": [],
      "collapsed_sections": [
        "lPJ1ejJBUzhL"
      ],
      "toc_visible": true
    },
    "kernelspec": {
      "name": "python3",
      "display_name": "Python 3"
    },
    "language_info": {
      "name": "python"
    }
  },
  "cells": [
    {
      "cell_type": "code",
      "execution_count": null,
      "metadata": {
        "id": "7a4_P60pUx7O"
      },
      "outputs": [],
      "source": [
        ""
      ]
    },
    {
      "cell_type": "markdown",
      "source": [
        "# Importing Libraries"
      ],
      "metadata": {
        "id": "-XjdooRTUyls"
      }
    },
    {
      "cell_type": "code",
      "source": [
        "import pandas as pd\n",
        "import numpy as np\n",
        "import matplotlib.pyplot as plt\n",
        "import seaborn as sns\n",
        "from tqdm import tqdm\n",
        "from collections import Counter\n",
        "import warnings\n",
        "warnings.filterwarnings(\"ignore\")"
      ],
      "metadata": {
        "id": "LmUX8joCUyqj"
      },
      "execution_count": 3,
      "outputs": []
    },
    {
      "cell_type": "code",
      "source": [
        "from sklearn.metrics import accuracy_score, f1_score, auc, roc_curve, confusion_matrix, roc_auc_score\n",
        "from sklearn.linear_model import LogisticRegression\n",
        "from sklearn.tree import DecisionTreeClassifier\n",
        "from sklearn.ensemble import RandomForestClassifier\n",
        "from sklearn.model_selection import GridSearchCV"
      ],
      "metadata": {
        "id": "ZoVVMiuMUyua"
      },
      "execution_count": 4,
      "outputs": []
    },
    {
      "cell_type": "code",
      "source": [
        "train = pd.read_csv('train.csv')\n",
        "train.shape"
      ],
      "metadata": {
        "colab": {
          "base_uri": "https://localhost:8080/"
        },
        "id": "jOE0ZnlnUyyL",
        "outputId": "2cc61680-c378-4565-e649-13cfbed71964"
      },
      "execution_count": 5,
      "outputs": [
        {
          "output_type": "execute_result",
          "data": {
            "text/plain": [
              "(381109, 12)"
            ]
          },
          "metadata": {},
          "execution_count": 5
        }
      ]
    },
    {
      "cell_type": "code",
      "source": [
        "test = pd.read_csv('test.csv')\n",
        "test.shape"
      ],
      "metadata": {
        "colab": {
          "base_uri": "https://localhost:8080/"
        },
        "id": "z_kn7Eg01Fsp",
        "outputId": "6b1581d3-48a9-42d5-878f-c3d53ec537ed"
      },
      "execution_count": 6,
      "outputs": [
        {
          "output_type": "execute_result",
          "data": {
            "text/plain": [
              "(127037, 11)"
            ]
          },
          "metadata": {},
          "execution_count": 6
        }
      ]
    },
    {
      "cell_type": "code",
      "source": [
        "train.head()"
      ],
      "metadata": {
        "colab": {
          "base_uri": "https://localhost:8080/",
          "height": 206
        },
        "id": "HfQIaQGiUy2S",
        "outputId": "25182477-4bd2-4680-9ba2-17d104143c54"
      },
      "execution_count": 7,
      "outputs": [
        {
          "output_type": "execute_result",
          "data": {
            "text/html": [
              "\n",
              "  <div id=\"df-9f371af2-bb62-462d-8571-aa28342b4ed1\">\n",
              "    <div class=\"colab-df-container\">\n",
              "      <div>\n",
              "<style scoped>\n",
              "    .dataframe tbody tr th:only-of-type {\n",
              "        vertical-align: middle;\n",
              "    }\n",
              "\n",
              "    .dataframe tbody tr th {\n",
              "        vertical-align: top;\n",
              "    }\n",
              "\n",
              "    .dataframe thead th {\n",
              "        text-align: right;\n",
              "    }\n",
              "</style>\n",
              "<table border=\"1\" class=\"dataframe\">\n",
              "  <thead>\n",
              "    <tr style=\"text-align: right;\">\n",
              "      <th></th>\n",
              "      <th>id</th>\n",
              "      <th>Gender</th>\n",
              "      <th>Age</th>\n",
              "      <th>Driving_License</th>\n",
              "      <th>Region_Code</th>\n",
              "      <th>Previously_Insured</th>\n",
              "      <th>Vehicle_Age</th>\n",
              "      <th>Vehicle_Damage</th>\n",
              "      <th>Annual_Premium</th>\n",
              "      <th>Policy_Sales_Channel</th>\n",
              "      <th>Vintage</th>\n",
              "      <th>Response</th>\n",
              "    </tr>\n",
              "  </thead>\n",
              "  <tbody>\n",
              "    <tr>\n",
              "      <th>0</th>\n",
              "      <td>1</td>\n",
              "      <td>Male</td>\n",
              "      <td>44</td>\n",
              "      <td>1</td>\n",
              "      <td>28.0</td>\n",
              "      <td>0</td>\n",
              "      <td>&gt; 2 Years</td>\n",
              "      <td>Yes</td>\n",
              "      <td>40454.0</td>\n",
              "      <td>26.0</td>\n",
              "      <td>217</td>\n",
              "      <td>1</td>\n",
              "    </tr>\n",
              "    <tr>\n",
              "      <th>1</th>\n",
              "      <td>2</td>\n",
              "      <td>Male</td>\n",
              "      <td>76</td>\n",
              "      <td>1</td>\n",
              "      <td>3.0</td>\n",
              "      <td>0</td>\n",
              "      <td>1-2 Year</td>\n",
              "      <td>No</td>\n",
              "      <td>33536.0</td>\n",
              "      <td>26.0</td>\n",
              "      <td>183</td>\n",
              "      <td>0</td>\n",
              "    </tr>\n",
              "    <tr>\n",
              "      <th>2</th>\n",
              "      <td>3</td>\n",
              "      <td>Male</td>\n",
              "      <td>47</td>\n",
              "      <td>1</td>\n",
              "      <td>28.0</td>\n",
              "      <td>0</td>\n",
              "      <td>&gt; 2 Years</td>\n",
              "      <td>Yes</td>\n",
              "      <td>38294.0</td>\n",
              "      <td>26.0</td>\n",
              "      <td>27</td>\n",
              "      <td>1</td>\n",
              "    </tr>\n",
              "    <tr>\n",
              "      <th>3</th>\n",
              "      <td>4</td>\n",
              "      <td>Male</td>\n",
              "      <td>21</td>\n",
              "      <td>1</td>\n",
              "      <td>11.0</td>\n",
              "      <td>1</td>\n",
              "      <td>&lt; 1 Year</td>\n",
              "      <td>No</td>\n",
              "      <td>28619.0</td>\n",
              "      <td>152.0</td>\n",
              "      <td>203</td>\n",
              "      <td>0</td>\n",
              "    </tr>\n",
              "    <tr>\n",
              "      <th>4</th>\n",
              "      <td>5</td>\n",
              "      <td>Female</td>\n",
              "      <td>29</td>\n",
              "      <td>1</td>\n",
              "      <td>41.0</td>\n",
              "      <td>1</td>\n",
              "      <td>&lt; 1 Year</td>\n",
              "      <td>No</td>\n",
              "      <td>27496.0</td>\n",
              "      <td>152.0</td>\n",
              "      <td>39</td>\n",
              "      <td>0</td>\n",
              "    </tr>\n",
              "  </tbody>\n",
              "</table>\n",
              "</div>\n",
              "      <button class=\"colab-df-convert\" onclick=\"convertToInteractive('df-9f371af2-bb62-462d-8571-aa28342b4ed1')\"\n",
              "              title=\"Convert this dataframe to an interactive table.\"\n",
              "              style=\"display:none;\">\n",
              "        \n",
              "  <svg xmlns=\"http://www.w3.org/2000/svg\" height=\"24px\"viewBox=\"0 0 24 24\"\n",
              "       width=\"24px\">\n",
              "    <path d=\"M0 0h24v24H0V0z\" fill=\"none\"/>\n",
              "    <path d=\"M18.56 5.44l.94 2.06.94-2.06 2.06-.94-2.06-.94-.94-2.06-.94 2.06-2.06.94zm-11 1L8.5 8.5l.94-2.06 2.06-.94-2.06-.94L8.5 2.5l-.94 2.06-2.06.94zm10 10l.94 2.06.94-2.06 2.06-.94-2.06-.94-.94-2.06-.94 2.06-2.06.94z\"/><path d=\"M17.41 7.96l-1.37-1.37c-.4-.4-.92-.59-1.43-.59-.52 0-1.04.2-1.43.59L10.3 9.45l-7.72 7.72c-.78.78-.78 2.05 0 2.83L4 21.41c.39.39.9.59 1.41.59.51 0 1.02-.2 1.41-.59l7.78-7.78 2.81-2.81c.8-.78.8-2.07 0-2.86zM5.41 20L4 18.59l7.72-7.72 1.47 1.35L5.41 20z\"/>\n",
              "  </svg>\n",
              "      </button>\n",
              "      \n",
              "  <style>\n",
              "    .colab-df-container {\n",
              "      display:flex;\n",
              "      flex-wrap:wrap;\n",
              "      gap: 12px;\n",
              "    }\n",
              "\n",
              "    .colab-df-convert {\n",
              "      background-color: #E8F0FE;\n",
              "      border: none;\n",
              "      border-radius: 50%;\n",
              "      cursor: pointer;\n",
              "      display: none;\n",
              "      fill: #1967D2;\n",
              "      height: 32px;\n",
              "      padding: 0 0 0 0;\n",
              "      width: 32px;\n",
              "    }\n",
              "\n",
              "    .colab-df-convert:hover {\n",
              "      background-color: #E2EBFA;\n",
              "      box-shadow: 0px 1px 2px rgba(60, 64, 67, 0.3), 0px 1px 3px 1px rgba(60, 64, 67, 0.15);\n",
              "      fill: #174EA6;\n",
              "    }\n",
              "\n",
              "    [theme=dark] .colab-df-convert {\n",
              "      background-color: #3B4455;\n",
              "      fill: #D2E3FC;\n",
              "    }\n",
              "\n",
              "    [theme=dark] .colab-df-convert:hover {\n",
              "      background-color: #434B5C;\n",
              "      box-shadow: 0px 1px 3px 1px rgba(0, 0, 0, 0.15);\n",
              "      filter: drop-shadow(0px 1px 2px rgba(0, 0, 0, 0.3));\n",
              "      fill: #FFFFFF;\n",
              "    }\n",
              "  </style>\n",
              "\n",
              "      <script>\n",
              "        const buttonEl =\n",
              "          document.querySelector('#df-9f371af2-bb62-462d-8571-aa28342b4ed1 button.colab-df-convert');\n",
              "        buttonEl.style.display =\n",
              "          google.colab.kernel.accessAllowed ? 'block' : 'none';\n",
              "\n",
              "        async function convertToInteractive(key) {\n",
              "          const element = document.querySelector('#df-9f371af2-bb62-462d-8571-aa28342b4ed1');\n",
              "          const dataTable =\n",
              "            await google.colab.kernel.invokeFunction('convertToInteractive',\n",
              "                                                     [key], {});\n",
              "          if (!dataTable) return;\n",
              "\n",
              "          const docLinkHtml = 'Like what you see? Visit the ' +\n",
              "            '<a target=\"_blank\" href=https://colab.research.google.com/notebooks/data_table.ipynb>data table notebook</a>'\n",
              "            + ' to learn more about interactive tables.';\n",
              "          element.innerHTML = '';\n",
              "          dataTable['output_type'] = 'display_data';\n",
              "          await google.colab.output.renderOutput(dataTable, element);\n",
              "          const docLink = document.createElement('div');\n",
              "          docLink.innerHTML = docLinkHtml;\n",
              "          element.appendChild(docLink);\n",
              "        }\n",
              "      </script>\n",
              "    </div>\n",
              "  </div>\n",
              "  "
            ],
            "text/plain": [
              "   id  Gender  Age  ...  Policy_Sales_Channel  Vintage  Response\n",
              "0   1    Male   44  ...                  26.0      217         1\n",
              "1   2    Male   76  ...                  26.0      183         0\n",
              "2   3    Male   47  ...                  26.0       27         1\n",
              "3   4    Male   21  ...                 152.0      203         0\n",
              "4   5  Female   29  ...                 152.0       39         0\n",
              "\n",
              "[5 rows x 12 columns]"
            ]
          },
          "metadata": {},
          "execution_count": 7
        }
      ]
    },
    {
      "cell_type": "code",
      "source": [
        "train.info()"
      ],
      "metadata": {
        "colab": {
          "base_uri": "https://localhost:8080/"
        },
        "id": "bwq9wQUxUy6r",
        "outputId": "4a7d3a44-acb3-4f1a-8cd7-4e5b1e953159"
      },
      "execution_count": 8,
      "outputs": [
        {
          "output_type": "stream",
          "name": "stdout",
          "text": [
            "<class 'pandas.core.frame.DataFrame'>\n",
            "RangeIndex: 381109 entries, 0 to 381108\n",
            "Data columns (total 12 columns):\n",
            " #   Column                Non-Null Count   Dtype  \n",
            "---  ------                --------------   -----  \n",
            " 0   id                    381109 non-null  int64  \n",
            " 1   Gender                381109 non-null  object \n",
            " 2   Age                   381109 non-null  int64  \n",
            " 3   Driving_License       381109 non-null  int64  \n",
            " 4   Region_Code           381109 non-null  float64\n",
            " 5   Previously_Insured    381109 non-null  int64  \n",
            " 6   Vehicle_Age           381109 non-null  object \n",
            " 7   Vehicle_Damage        381109 non-null  object \n",
            " 8   Annual_Premium        381109 non-null  float64\n",
            " 9   Policy_Sales_Channel  381109 non-null  float64\n",
            " 10  Vintage               381109 non-null  int64  \n",
            " 11  Response              381109 non-null  int64  \n",
            "dtypes: float64(3), int64(6), object(3)\n",
            "memory usage: 34.9+ MB\n"
          ]
        }
      ]
    },
    {
      "cell_type": "code",
      "source": [
        "train.isna().sum()"
      ],
      "metadata": {
        "colab": {
          "base_uri": "https://localhost:8080/"
        },
        "id": "jlMaMREOUy-7",
        "outputId": "4fbe3997-450a-4814-c8a5-50a5fc2bc255"
      },
      "execution_count": 9,
      "outputs": [
        {
          "output_type": "execute_result",
          "data": {
            "text/plain": [
              "id                      0\n",
              "Gender                  0\n",
              "Age                     0\n",
              "Driving_License         0\n",
              "Region_Code             0\n",
              "Previously_Insured      0\n",
              "Vehicle_Age             0\n",
              "Vehicle_Damage          0\n",
              "Annual_Premium          0\n",
              "Policy_Sales_Channel    0\n",
              "Vintage                 0\n",
              "Response                0\n",
              "dtype: int64"
            ]
          },
          "metadata": {},
          "execution_count": 9
        }
      ]
    },
    {
      "cell_type": "code",
      "source": [
        ""
      ],
      "metadata": {
        "id": "MkOryW86UzCz"
      },
      "execution_count": 9,
      "outputs": []
    },
    {
      "cell_type": "markdown",
      "source": [
        "# Data Preprocessing\n",
        "* Convert the categorical features\n",
        "* Divide the numerical features into bins\n",
        "* Drop the unnecessary columns"
      ],
      "metadata": {
        "id": "OFhYy4RdUzGa"
      }
    },
    {
      "cell_type": "code",
      "source": [
        ""
      ],
      "metadata": {
        "id": "X0Gi9rcCUzKb"
      },
      "execution_count": 9,
      "outputs": []
    },
    {
      "cell_type": "code",
      "source": [
        "train['Gender'].unique()"
      ],
      "metadata": {
        "colab": {
          "base_uri": "https://localhost:8080/"
        },
        "id": "jJRvy5da2vA9",
        "outputId": "20393282-7094-46b6-dbe0-91dfaa0af3fd"
      },
      "execution_count": 10,
      "outputs": [
        {
          "output_type": "execute_result",
          "data": {
            "text/plain": [
              "array(['Male', 'Female'], dtype=object)"
            ]
          },
          "metadata": {},
          "execution_count": 10
        }
      ]
    },
    {
      "cell_type": "code",
      "source": [
        "train['Driving_License'].unique()"
      ],
      "metadata": {
        "colab": {
          "base_uri": "https://localhost:8080/"
        },
        "id": "-qsks13IjVcd",
        "outputId": "ad92df07-4446-4aee-f6dd-f5374b775913"
      },
      "execution_count": 11,
      "outputs": [
        {
          "output_type": "execute_result",
          "data": {
            "text/plain": [
              "array([1, 0])"
            ]
          },
          "metadata": {},
          "execution_count": 11
        }
      ]
    },
    {
      "cell_type": "code",
      "source": [
        "train['Previously_Insured'].unique()"
      ],
      "metadata": {
        "colab": {
          "base_uri": "https://localhost:8080/"
        },
        "id": "5rPkmxu1jZ3N",
        "outputId": "fd56094d-32f3-40f0-ab3f-4c134d30b83f"
      },
      "execution_count": 12,
      "outputs": [
        {
          "output_type": "execute_result",
          "data": {
            "text/plain": [
              "array([0, 1])"
            ]
          },
          "metadata": {},
          "execution_count": 12
        }
      ]
    },
    {
      "cell_type": "code",
      "source": [
        "train['Region_Code'].unique()"
      ],
      "metadata": {
        "colab": {
          "base_uri": "https://localhost:8080/"
        },
        "id": "gswBl0cijZrT",
        "outputId": "241a72ec-ccdc-4f38-abe8-bfc3009e95eb"
      },
      "execution_count": 13,
      "outputs": [
        {
          "output_type": "execute_result",
          "data": {
            "text/plain": [
              "array([28.,  3., 11., 41., 33.,  6., 35., 50., 15., 45.,  8., 36., 30.,\n",
              "       26., 16., 47., 48., 19., 39., 23., 37.,  5., 17.,  2.,  7., 29.,\n",
              "       46., 27., 25., 13., 18., 20., 49., 22., 44.,  0.,  9., 31., 12.,\n",
              "       34., 21., 10., 14., 38., 24., 40., 43., 32.,  4., 51., 42.,  1.,\n",
              "       52.])"
            ]
          },
          "metadata": {},
          "execution_count": 13
        }
      ]
    },
    {
      "cell_type": "code",
      "source": [
        "train['Vehicle_Age'].unique()"
      ],
      "metadata": {
        "colab": {
          "base_uri": "https://localhost:8080/"
        },
        "id": "NgO09oZajZQk",
        "outputId": "c342c42a-18b3-42d9-8f3c-46efd8382ca8"
      },
      "execution_count": 14,
      "outputs": [
        {
          "output_type": "execute_result",
          "data": {
            "text/plain": [
              "array(['> 2 Years', '1-2 Year', '< 1 Year'], dtype=object)"
            ]
          },
          "metadata": {},
          "execution_count": 14
        }
      ]
    },
    {
      "cell_type": "code",
      "source": [
        "train['Policy_Sales_Channel'].unique()"
      ],
      "metadata": {
        "colab": {
          "base_uri": "https://localhost:8080/"
        },
        "id": "VJPs_SWujwNW",
        "outputId": "d487131c-5a48-4320-ceff-3ff56f1b13ca"
      },
      "execution_count": 15,
      "outputs": [
        {
          "output_type": "execute_result",
          "data": {
            "text/plain": [
              "array([ 26., 152., 160., 124.,  14.,  13.,  30., 156., 163., 157., 122.,\n",
              "        19.,  22.,  15., 154.,  16.,  52., 155.,  11., 151., 125.,  25.,\n",
              "        61.,   1.,  86.,  31., 150.,  23.,  60.,  21., 121.,   3., 139.,\n",
              "        12.,  29.,  55.,   7.,  47., 127., 153.,  78., 158.,  89.,  32.,\n",
              "         8.,  10., 120.,  65.,   4.,  42.,  83., 136.,  24.,  18.,  56.,\n",
              "        48., 106.,  54.,  93., 116.,  91.,  45.,   9., 145., 147.,  44.,\n",
              "       109.,  37., 140., 107., 128., 131., 114., 118., 159., 119., 105.,\n",
              "       135.,  62., 138., 129.,  88.,  92., 111., 113.,  73.,  36.,  28.,\n",
              "        35.,  59.,  53., 148., 133., 108.,  64.,  39.,  94., 132.,  46.,\n",
              "        81., 103.,  90.,  51.,  27., 146.,  63.,  96.,  40.,  66., 100.,\n",
              "        95., 123.,  98.,  75.,  69., 130., 134.,  49.,  97.,  38.,  17.,\n",
              "       110.,  80.,  71., 117.,  58.,  20.,  76., 104.,  87.,  84., 137.,\n",
              "       126.,  68.,  67., 101., 115.,  57.,  82.,  79., 112.,  99.,  70.,\n",
              "         2.,  34.,  33.,  74., 102., 149.,  43.,   6.,  50., 144., 143.,\n",
              "        41.])"
            ]
          },
          "metadata": {},
          "execution_count": 15
        }
      ]
    },
    {
      "cell_type": "code",
      "source": [
        "train['Vehicle_Damage'].unique()"
      ],
      "metadata": {
        "colab": {
          "base_uri": "https://localhost:8080/"
        },
        "id": "0PvwXAiLj3tI",
        "outputId": "fb8505a1-9ea1-4daa-aa53-9c5b8b29772f"
      },
      "execution_count": 16,
      "outputs": [
        {
          "output_type": "execute_result",
          "data": {
            "text/plain": [
              "array(['Yes', 'No'], dtype=object)"
            ]
          },
          "metadata": {},
          "execution_count": 16
        }
      ]
    },
    {
      "cell_type": "code",
      "source": [
        ""
      ],
      "metadata": {
        "id": "QrZPqN0nj3gX"
      },
      "execution_count": null,
      "outputs": []
    },
    {
      "cell_type": "markdown",
      "source": [
        "Annual Premium could also be divided into bins"
      ],
      "metadata": {
        "id": "6SMuaawU1cX5"
      }
    },
    {
      "cell_type": "code",
      "source": [
        "def data_prep(data):\n",
        "    data = data.drop(columns=['id', 'Vintage'], axis=1)\n",
        "    cols = ['Gender', 'Vehicle_Damage', 'Vehicle_Age']\n",
        "    data = pd.get_dummies(data,columns=cols, drop_first=True)\n",
        "    data['Age'] = pd.cut(data['Age'], bins=[0,29,35,50,100])\n",
        "    data['Age'] = data['Age'].cat.codes\n",
        "    return data"
      ],
      "metadata": {
        "id": "8_P8omc3UzOr"
      },
      "execution_count": null,
      "outputs": []
    },
    {
      "cell_type": "code",
      "source": [
        "train_dum = data_prep(train)\n",
        "test_dum = data_prep(test)"
      ],
      "metadata": {
        "id": "DukJkVDRUzSU"
      },
      "execution_count": null,
      "outputs": []
    },
    {
      "cell_type": "code",
      "source": [
        "train_dum.head()"
      ],
      "metadata": {
        "colab": {
          "base_uri": "https://localhost:8080/",
          "height": 288
        },
        "id": "QAoSEIYPUzWD",
        "outputId": "39fdbe35-d00c-49c7-9d89-be4025f00533"
      },
      "execution_count": null,
      "outputs": [
        {
          "output_type": "execute_result",
          "data": {
            "text/html": [
              "\n",
              "  <div id=\"df-3c629d1a-61ce-4618-bd70-e24885b4382e\">\n",
              "    <div class=\"colab-df-container\">\n",
              "      <div>\n",
              "<style scoped>\n",
              "    .dataframe tbody tr th:only-of-type {\n",
              "        vertical-align: middle;\n",
              "    }\n",
              "\n",
              "    .dataframe tbody tr th {\n",
              "        vertical-align: top;\n",
              "    }\n",
              "\n",
              "    .dataframe thead th {\n",
              "        text-align: right;\n",
              "    }\n",
              "</style>\n",
              "<table border=\"1\" class=\"dataframe\">\n",
              "  <thead>\n",
              "    <tr style=\"text-align: right;\">\n",
              "      <th></th>\n",
              "      <th>Age</th>\n",
              "      <th>Driving_License</th>\n",
              "      <th>Region_Code</th>\n",
              "      <th>Previously_Insured</th>\n",
              "      <th>Annual_Premium</th>\n",
              "      <th>Policy_Sales_Channel</th>\n",
              "      <th>Response</th>\n",
              "      <th>Gender_Male</th>\n",
              "      <th>Vehicle_Damage_Yes</th>\n",
              "      <th>Vehicle_Age_&lt; 1 Year</th>\n",
              "      <th>Vehicle_Age_&gt; 2 Years</th>\n",
              "    </tr>\n",
              "  </thead>\n",
              "  <tbody>\n",
              "    <tr>\n",
              "      <th>0</th>\n",
              "      <td>2</td>\n",
              "      <td>1</td>\n",
              "      <td>28.0</td>\n",
              "      <td>0</td>\n",
              "      <td>40454.0</td>\n",
              "      <td>26.0</td>\n",
              "      <td>1</td>\n",
              "      <td>1</td>\n",
              "      <td>1</td>\n",
              "      <td>0</td>\n",
              "      <td>1</td>\n",
              "    </tr>\n",
              "    <tr>\n",
              "      <th>1</th>\n",
              "      <td>3</td>\n",
              "      <td>1</td>\n",
              "      <td>3.0</td>\n",
              "      <td>0</td>\n",
              "      <td>33536.0</td>\n",
              "      <td>26.0</td>\n",
              "      <td>0</td>\n",
              "      <td>1</td>\n",
              "      <td>0</td>\n",
              "      <td>0</td>\n",
              "      <td>0</td>\n",
              "    </tr>\n",
              "    <tr>\n",
              "      <th>2</th>\n",
              "      <td>2</td>\n",
              "      <td>1</td>\n",
              "      <td>28.0</td>\n",
              "      <td>0</td>\n",
              "      <td>38294.0</td>\n",
              "      <td>26.0</td>\n",
              "      <td>1</td>\n",
              "      <td>1</td>\n",
              "      <td>1</td>\n",
              "      <td>0</td>\n",
              "      <td>1</td>\n",
              "    </tr>\n",
              "    <tr>\n",
              "      <th>3</th>\n",
              "      <td>0</td>\n",
              "      <td>1</td>\n",
              "      <td>11.0</td>\n",
              "      <td>1</td>\n",
              "      <td>28619.0</td>\n",
              "      <td>152.0</td>\n",
              "      <td>0</td>\n",
              "      <td>1</td>\n",
              "      <td>0</td>\n",
              "      <td>1</td>\n",
              "      <td>0</td>\n",
              "    </tr>\n",
              "    <tr>\n",
              "      <th>4</th>\n",
              "      <td>0</td>\n",
              "      <td>1</td>\n",
              "      <td>41.0</td>\n",
              "      <td>1</td>\n",
              "      <td>27496.0</td>\n",
              "      <td>152.0</td>\n",
              "      <td>0</td>\n",
              "      <td>0</td>\n",
              "      <td>0</td>\n",
              "      <td>1</td>\n",
              "      <td>0</td>\n",
              "    </tr>\n",
              "  </tbody>\n",
              "</table>\n",
              "</div>\n",
              "      <button class=\"colab-df-convert\" onclick=\"convertToInteractive('df-3c629d1a-61ce-4618-bd70-e24885b4382e')\"\n",
              "              title=\"Convert this dataframe to an interactive table.\"\n",
              "              style=\"display:none;\">\n",
              "        \n",
              "  <svg xmlns=\"http://www.w3.org/2000/svg\" height=\"24px\"viewBox=\"0 0 24 24\"\n",
              "       width=\"24px\">\n",
              "    <path d=\"M0 0h24v24H0V0z\" fill=\"none\"/>\n",
              "    <path d=\"M18.56 5.44l.94 2.06.94-2.06 2.06-.94-2.06-.94-.94-2.06-.94 2.06-2.06.94zm-11 1L8.5 8.5l.94-2.06 2.06-.94-2.06-.94L8.5 2.5l-.94 2.06-2.06.94zm10 10l.94 2.06.94-2.06 2.06-.94-2.06-.94-.94-2.06-.94 2.06-2.06.94z\"/><path d=\"M17.41 7.96l-1.37-1.37c-.4-.4-.92-.59-1.43-.59-.52 0-1.04.2-1.43.59L10.3 9.45l-7.72 7.72c-.78.78-.78 2.05 0 2.83L4 21.41c.39.39.9.59 1.41.59.51 0 1.02-.2 1.41-.59l7.78-7.78 2.81-2.81c.8-.78.8-2.07 0-2.86zM5.41 20L4 18.59l7.72-7.72 1.47 1.35L5.41 20z\"/>\n",
              "  </svg>\n",
              "      </button>\n",
              "      \n",
              "  <style>\n",
              "    .colab-df-container {\n",
              "      display:flex;\n",
              "      flex-wrap:wrap;\n",
              "      gap: 12px;\n",
              "    }\n",
              "\n",
              "    .colab-df-convert {\n",
              "      background-color: #E8F0FE;\n",
              "      border: none;\n",
              "      border-radius: 50%;\n",
              "      cursor: pointer;\n",
              "      display: none;\n",
              "      fill: #1967D2;\n",
              "      height: 32px;\n",
              "      padding: 0 0 0 0;\n",
              "      width: 32px;\n",
              "    }\n",
              "\n",
              "    .colab-df-convert:hover {\n",
              "      background-color: #E2EBFA;\n",
              "      box-shadow: 0px 1px 2px rgba(60, 64, 67, 0.3), 0px 1px 3px 1px rgba(60, 64, 67, 0.15);\n",
              "      fill: #174EA6;\n",
              "    }\n",
              "\n",
              "    [theme=dark] .colab-df-convert {\n",
              "      background-color: #3B4455;\n",
              "      fill: #D2E3FC;\n",
              "    }\n",
              "\n",
              "    [theme=dark] .colab-df-convert:hover {\n",
              "      background-color: #434B5C;\n",
              "      box-shadow: 0px 1px 3px 1px rgba(0, 0, 0, 0.15);\n",
              "      filter: drop-shadow(0px 1px 2px rgba(0, 0, 0, 0.3));\n",
              "      fill: #FFFFFF;\n",
              "    }\n",
              "  </style>\n",
              "\n",
              "      <script>\n",
              "        const buttonEl =\n",
              "          document.querySelector('#df-3c629d1a-61ce-4618-bd70-e24885b4382e button.colab-df-convert');\n",
              "        buttonEl.style.display =\n",
              "          google.colab.kernel.accessAllowed ? 'block' : 'none';\n",
              "\n",
              "        async function convertToInteractive(key) {\n",
              "          const element = document.querySelector('#df-3c629d1a-61ce-4618-bd70-e24885b4382e');\n",
              "          const dataTable =\n",
              "            await google.colab.kernel.invokeFunction('convertToInteractive',\n",
              "                                                     [key], {});\n",
              "          if (!dataTable) return;\n",
              "\n",
              "          const docLinkHtml = 'Like what you see? Visit the ' +\n",
              "            '<a target=\"_blank\" href=https://colab.research.google.com/notebooks/data_table.ipynb>data table notebook</a>'\n",
              "            + ' to learn more about interactive tables.';\n",
              "          element.innerHTML = '';\n",
              "          dataTable['output_type'] = 'display_data';\n",
              "          await google.colab.output.renderOutput(dataTable, element);\n",
              "          const docLink = document.createElement('div');\n",
              "          docLink.innerHTML = docLinkHtml;\n",
              "          element.appendChild(docLink);\n",
              "        }\n",
              "      </script>\n",
              "    </div>\n",
              "  </div>\n",
              "  "
            ],
            "text/plain": [
              "   Age  Driving_License  ...  Vehicle_Age_< 1 Year  Vehicle_Age_> 2 Years\n",
              "0    2                1  ...                     0                      1\n",
              "1    3                1  ...                     0                      0\n",
              "2    2                1  ...                     0                      1\n",
              "3    0                1  ...                     1                      0\n",
              "4    0                1  ...                     1                      0\n",
              "\n",
              "[5 rows x 11 columns]"
            ]
          },
          "metadata": {},
          "execution_count": 32
        }
      ]
    },
    {
      "cell_type": "code",
      "source": [
        "test_dum.head()"
      ],
      "metadata": {
        "colab": {
          "base_uri": "https://localhost:8080/",
          "height": 288
        },
        "id": "NSgMQyPkUzZo",
        "outputId": "7e9a1aa5-133d-4bdd-ce47-522aaf3dedef"
      },
      "execution_count": null,
      "outputs": [
        {
          "output_type": "execute_result",
          "data": {
            "text/html": [
              "\n",
              "  <div id=\"df-0431a45e-bb7a-40f0-9fbe-da0c1b29a502\">\n",
              "    <div class=\"colab-df-container\">\n",
              "      <div>\n",
              "<style scoped>\n",
              "    .dataframe tbody tr th:only-of-type {\n",
              "        vertical-align: middle;\n",
              "    }\n",
              "\n",
              "    .dataframe tbody tr th {\n",
              "        vertical-align: top;\n",
              "    }\n",
              "\n",
              "    .dataframe thead th {\n",
              "        text-align: right;\n",
              "    }\n",
              "</style>\n",
              "<table border=\"1\" class=\"dataframe\">\n",
              "  <thead>\n",
              "    <tr style=\"text-align: right;\">\n",
              "      <th></th>\n",
              "      <th>Age</th>\n",
              "      <th>Driving_License</th>\n",
              "      <th>Region_Code</th>\n",
              "      <th>Previously_Insured</th>\n",
              "      <th>Annual_Premium</th>\n",
              "      <th>Policy_Sales_Channel</th>\n",
              "      <th>Gender_Male</th>\n",
              "      <th>Vehicle_Damage_Yes</th>\n",
              "      <th>Vehicle_Age_&lt; 1 Year</th>\n",
              "      <th>Vehicle_Age_&gt; 2 Years</th>\n",
              "    </tr>\n",
              "  </thead>\n",
              "  <tbody>\n",
              "    <tr>\n",
              "      <th>0</th>\n",
              "      <td>0</td>\n",
              "      <td>1</td>\n",
              "      <td>11.0</td>\n",
              "      <td>1</td>\n",
              "      <td>35786.0</td>\n",
              "      <td>152.0</td>\n",
              "      <td>1</td>\n",
              "      <td>0</td>\n",
              "      <td>1</td>\n",
              "      <td>0</td>\n",
              "    </tr>\n",
              "    <tr>\n",
              "      <th>1</th>\n",
              "      <td>2</td>\n",
              "      <td>1</td>\n",
              "      <td>28.0</td>\n",
              "      <td>0</td>\n",
              "      <td>33762.0</td>\n",
              "      <td>7.0</td>\n",
              "      <td>1</td>\n",
              "      <td>1</td>\n",
              "      <td>0</td>\n",
              "      <td>0</td>\n",
              "    </tr>\n",
              "    <tr>\n",
              "      <th>2</th>\n",
              "      <td>2</td>\n",
              "      <td>1</td>\n",
              "      <td>28.0</td>\n",
              "      <td>0</td>\n",
              "      <td>40050.0</td>\n",
              "      <td>124.0</td>\n",
              "      <td>1</td>\n",
              "      <td>1</td>\n",
              "      <td>0</td>\n",
              "      <td>0</td>\n",
              "    </tr>\n",
              "    <tr>\n",
              "      <th>3</th>\n",
              "      <td>0</td>\n",
              "      <td>1</td>\n",
              "      <td>27.0</td>\n",
              "      <td>1</td>\n",
              "      <td>37356.0</td>\n",
              "      <td>152.0</td>\n",
              "      <td>1</td>\n",
              "      <td>1</td>\n",
              "      <td>1</td>\n",
              "      <td>0</td>\n",
              "    </tr>\n",
              "    <tr>\n",
              "      <th>4</th>\n",
              "      <td>0</td>\n",
              "      <td>1</td>\n",
              "      <td>28.0</td>\n",
              "      <td>1</td>\n",
              "      <td>59097.0</td>\n",
              "      <td>152.0</td>\n",
              "      <td>1</td>\n",
              "      <td>0</td>\n",
              "      <td>1</td>\n",
              "      <td>0</td>\n",
              "    </tr>\n",
              "  </tbody>\n",
              "</table>\n",
              "</div>\n",
              "      <button class=\"colab-df-convert\" onclick=\"convertToInteractive('df-0431a45e-bb7a-40f0-9fbe-da0c1b29a502')\"\n",
              "              title=\"Convert this dataframe to an interactive table.\"\n",
              "              style=\"display:none;\">\n",
              "        \n",
              "  <svg xmlns=\"http://www.w3.org/2000/svg\" height=\"24px\"viewBox=\"0 0 24 24\"\n",
              "       width=\"24px\">\n",
              "    <path d=\"M0 0h24v24H0V0z\" fill=\"none\"/>\n",
              "    <path d=\"M18.56 5.44l.94 2.06.94-2.06 2.06-.94-2.06-.94-.94-2.06-.94 2.06-2.06.94zm-11 1L8.5 8.5l.94-2.06 2.06-.94-2.06-.94L8.5 2.5l-.94 2.06-2.06.94zm10 10l.94 2.06.94-2.06 2.06-.94-2.06-.94-.94-2.06-.94 2.06-2.06.94z\"/><path d=\"M17.41 7.96l-1.37-1.37c-.4-.4-.92-.59-1.43-.59-.52 0-1.04.2-1.43.59L10.3 9.45l-7.72 7.72c-.78.78-.78 2.05 0 2.83L4 21.41c.39.39.9.59 1.41.59.51 0 1.02-.2 1.41-.59l7.78-7.78 2.81-2.81c.8-.78.8-2.07 0-2.86zM5.41 20L4 18.59l7.72-7.72 1.47 1.35L5.41 20z\"/>\n",
              "  </svg>\n",
              "      </button>\n",
              "      \n",
              "  <style>\n",
              "    .colab-df-container {\n",
              "      display:flex;\n",
              "      flex-wrap:wrap;\n",
              "      gap: 12px;\n",
              "    }\n",
              "\n",
              "    .colab-df-convert {\n",
              "      background-color: #E8F0FE;\n",
              "      border: none;\n",
              "      border-radius: 50%;\n",
              "      cursor: pointer;\n",
              "      display: none;\n",
              "      fill: #1967D2;\n",
              "      height: 32px;\n",
              "      padding: 0 0 0 0;\n",
              "      width: 32px;\n",
              "    }\n",
              "\n",
              "    .colab-df-convert:hover {\n",
              "      background-color: #E2EBFA;\n",
              "      box-shadow: 0px 1px 2px rgba(60, 64, 67, 0.3), 0px 1px 3px 1px rgba(60, 64, 67, 0.15);\n",
              "      fill: #174EA6;\n",
              "    }\n",
              "\n",
              "    [theme=dark] .colab-df-convert {\n",
              "      background-color: #3B4455;\n",
              "      fill: #D2E3FC;\n",
              "    }\n",
              "\n",
              "    [theme=dark] .colab-df-convert:hover {\n",
              "      background-color: #434B5C;\n",
              "      box-shadow: 0px 1px 3px 1px rgba(0, 0, 0, 0.15);\n",
              "      filter: drop-shadow(0px 1px 2px rgba(0, 0, 0, 0.3));\n",
              "      fill: #FFFFFF;\n",
              "    }\n",
              "  </style>\n",
              "\n",
              "      <script>\n",
              "        const buttonEl =\n",
              "          document.querySelector('#df-0431a45e-bb7a-40f0-9fbe-da0c1b29a502 button.colab-df-convert');\n",
              "        buttonEl.style.display =\n",
              "          google.colab.kernel.accessAllowed ? 'block' : 'none';\n",
              "\n",
              "        async function convertToInteractive(key) {\n",
              "          const element = document.querySelector('#df-0431a45e-bb7a-40f0-9fbe-da0c1b29a502');\n",
              "          const dataTable =\n",
              "            await google.colab.kernel.invokeFunction('convertToInteractive',\n",
              "                                                     [key], {});\n",
              "          if (!dataTable) return;\n",
              "\n",
              "          const docLinkHtml = 'Like what you see? Visit the ' +\n",
              "            '<a target=\"_blank\" href=https://colab.research.google.com/notebooks/data_table.ipynb>data table notebook</a>'\n",
              "            + ' to learn more about interactive tables.';\n",
              "          element.innerHTML = '';\n",
              "          dataTable['output_type'] = 'display_data';\n",
              "          await google.colab.output.renderOutput(dataTable, element);\n",
              "          const docLink = document.createElement('div');\n",
              "          docLink.innerHTML = docLinkHtml;\n",
              "          element.appendChild(docLink);\n",
              "        }\n",
              "      </script>\n",
              "    </div>\n",
              "  </div>\n",
              "  "
            ],
            "text/plain": [
              "   Age  Driving_License  ...  Vehicle_Age_< 1 Year  Vehicle_Age_> 2 Years\n",
              "0    0                1  ...                     1                      0\n",
              "1    2                1  ...                     0                      0\n",
              "2    2                1  ...                     0                      0\n",
              "3    0                1  ...                     1                      0\n",
              "4    0                1  ...                     1                      0\n",
              "\n",
              "[5 rows x 10 columns]"
            ]
          },
          "metadata": {},
          "execution_count": 33
        }
      ]
    },
    {
      "cell_type": "code",
      "source": [
        ""
      ],
      "metadata": {
        "id": "wSagMv7C2WzR"
      },
      "execution_count": null,
      "outputs": []
    },
    {
      "cell_type": "markdown",
      "source": [
        "### Gender"
      ],
      "metadata": {
        "id": "5kNzJWJi2Wvi"
      }
    },
    {
      "cell_type": "code",
      "source": [
        "x_train_gender = train['Gender'].apply(lambda x: 1 if x=='Male' else 0)\n",
        "x_train_gender = x_train_gender.values.reshape(-1, 1)\n",
        "\n",
        "x_test_gender = test['Gender'].apply(lambda x:1 if x=='Male' else 0)\n",
        "x_test_gender = x_test_gender.values.reshape(-1, 1)\n",
        "\n",
        "print(x_train_gender.shape)\n",
        "print(x_test_gender.shape)"
      ],
      "metadata": {
        "colab": {
          "base_uri": "https://localhost:8080/"
        },
        "id": "GOwkGvG-2WtB",
        "outputId": "23b8ce65-5da2-4222-8e5b-d2785d02c912"
      },
      "execution_count": 17,
      "outputs": [
        {
          "output_type": "stream",
          "name": "stdout",
          "text": [
            "(381109, 1)\n",
            "(127037, 1)\n"
          ]
        }
      ]
    },
    {
      "cell_type": "code",
      "source": [
        ""
      ],
      "metadata": {
        "id": "e4TNLaW72WlJ"
      },
      "execution_count": 17,
      "outputs": []
    },
    {
      "cell_type": "markdown",
      "source": [
        "### Age"
      ],
      "metadata": {
        "id": "jBmVkH_f2We5"
      }
    },
    {
      "cell_type": "code",
      "source": [
        "from sklearn.preprocessing import MinMaxScaler"
      ],
      "metadata": {
        "id": "6qxJg9zM2WbJ"
      },
      "execution_count": 18,
      "outputs": []
    },
    {
      "cell_type": "code",
      "source": [
        "scaler = MinMaxScaler()\n",
        "\n",
        "scaler.fit(train['Age'].values.reshape(-1,1))\n",
        "x_train_age = scaler.transform(train['Age'].values.reshape(-1,1))\n",
        "x_test_age = scaler.transform(test['Age'].values.reshape(-1,1))\n",
        "\n",
        "print(x_train_age.shape)\n",
        "print(x_test_age.shape)"
      ],
      "metadata": {
        "colab": {
          "base_uri": "https://localhost:8080/"
        },
        "id": "mLsyG2l92WY5",
        "outputId": "57d1a443-3945-4839-8624-c6cc0c9dafac"
      },
      "execution_count": 19,
      "outputs": [
        {
          "output_type": "stream",
          "name": "stdout",
          "text": [
            "(381109, 1)\n",
            "(127037, 1)\n"
          ]
        }
      ]
    },
    {
      "cell_type": "code",
      "source": [
        ""
      ],
      "metadata": {
        "id": "wA7hn0ET2WUQ"
      },
      "execution_count": 19,
      "outputs": []
    },
    {
      "cell_type": "code",
      "source": [
        "x_train_age_n = train['Age'].values.reshape(-1,1)\n",
        "x_test_age_n = test['Age'].values.reshape(-1,1)\n",
        "\n",
        "print(x_train_age_n.shape)\n",
        "print(x_test_age_n.shape)"
      ],
      "metadata": {
        "colab": {
          "base_uri": "https://localhost:8080/"
        },
        "id": "i1ioxLBd2WNV",
        "outputId": "da97e9f9-6bf2-4ad7-b85c-6c69e5eca029"
      },
      "execution_count": 20,
      "outputs": [
        {
          "output_type": "stream",
          "name": "stdout",
          "text": [
            "(381109, 1)\n",
            "(127037, 1)\n"
          ]
        }
      ]
    },
    {
      "cell_type": "code",
      "source": [
        ""
      ],
      "metadata": {
        "id": "45dPF1yB2WJi"
      },
      "execution_count": 20,
      "outputs": []
    },
    {
      "cell_type": "markdown",
      "source": [
        "Feature engineering: new categorical feature for Age"
      ],
      "metadata": {
        "id": "p_yq6gzv2WFx"
      }
    },
    {
      "cell_type": "code",
      "source": [
        "x_train_age_cat = train['Age'].apply(lambda x:1 if x>=30 else 0)\n",
        "x_train_age_cat = x_train_age_cat.values.reshape(-1, 1)\n",
        "\n",
        "x_test_age_cat = test['Age'].apply(lambda x:1 if x>=30 else 0)\n",
        "x_test_age_cat = x_test_age_cat.values.reshape(-1, 1)\n",
        "\n",
        "print(x_train_age_cat.shape)\n",
        "print(x_test_age_cat.shape)"
      ],
      "metadata": {
        "colab": {
          "base_uri": "https://localhost:8080/"
        },
        "id": "ZyA9ZP6zBuRV",
        "outputId": "6b0de89e-e4e0-4360-f6cd-1caec5fbae2d"
      },
      "execution_count": 21,
      "outputs": [
        {
          "output_type": "stream",
          "name": "stdout",
          "text": [
            "(381109, 1)\n",
            "(127037, 1)\n"
          ]
        }
      ]
    },
    {
      "cell_type": "code",
      "source": [
        ""
      ],
      "metadata": {
        "id": "6yGxuHbrBuLg"
      },
      "execution_count": 21,
      "outputs": []
    },
    {
      "cell_type": "markdown",
      "source": [
        "### Driving License"
      ],
      "metadata": {
        "id": "-g6f3oBJBuEQ"
      }
    },
    {
      "cell_type": "code",
      "source": [
        "x_train_license = train['Driving_License'].values.reshape(-1, 1)\n",
        "x_test_license = test['Driving_License'].values.reshape(-1, 1)\n",
        "\n",
        "print(x_train_license.shape)\n",
        "print(x_test_license.shape)"
      ],
      "metadata": {
        "colab": {
          "base_uri": "https://localhost:8080/"
        },
        "id": "wkS5zbZ-2WCh",
        "outputId": "1edad990-8e03-46ba-8d06-9be4079cedeb"
      },
      "execution_count": 22,
      "outputs": [
        {
          "output_type": "stream",
          "name": "stdout",
          "text": [
            "(381109, 1)\n",
            "(127037, 1)\n"
          ]
        }
      ]
    },
    {
      "cell_type": "code",
      "source": [
        ""
      ],
      "metadata": {
        "id": "6GxTZ2ckCjYk"
      },
      "execution_count": 22,
      "outputs": []
    },
    {
      "cell_type": "markdown",
      "source": [
        "### Region Code"
      ],
      "metadata": {
        "id": "46HTjY_XCjc4"
      }
    },
    {
      "cell_type": "code",
      "source": [
        "from sklearn.preprocessing import OneHotEncoder"
      ],
      "metadata": {
        "id": "XktmurNtCjgy"
      },
      "execution_count": 23,
      "outputs": []
    },
    {
      "cell_type": "code",
      "source": [
        "encoder = OneHotEncoder()\n",
        "encoder.fit(train[\"Region_Code\"].values.reshape(-1, 1))\n",
        "\n",
        "x_train_region_code = encoder.transform(train['Region_Code'].values.reshape(-1, 1))\n",
        "x_test_region_code = encoder.transform(test['Region_Code'].values.reshape(-1, 1))\n",
        "\n",
        "print(x_train_region_code.shape)\n",
        "print(x_test_region_code.shape)"
      ],
      "metadata": {
        "colab": {
          "base_uri": "https://localhost:8080/"
        },
        "id": "NhRz1xVOCjkd",
        "outputId": "d1c7c8c3-57d3-4dba-f6be-6ff24a31417c"
      },
      "execution_count": 24,
      "outputs": [
        {
          "output_type": "stream",
          "name": "stdout",
          "text": [
            "(381109, 53)\n",
            "(127037, 53)\n"
          ]
        }
      ]
    },
    {
      "cell_type": "code",
      "source": [
        "train['Region_Code'].value_counts()"
      ],
      "metadata": {
        "colab": {
          "base_uri": "https://localhost:8080/"
        },
        "id": "m8nF7NxZCjno",
        "outputId": "c9eb1b18-233d-49e8-d360-844353d898c9",
        "collapsed": true
      },
      "execution_count": 25,
      "outputs": [
        {
          "output_type": "execute_result",
          "data": {
            "text/plain": [
              "28.0    106415\n",
              "8.0      33877\n",
              "46.0     19749\n",
              "41.0     18263\n",
              "15.0     13308\n",
              "30.0     12191\n",
              "29.0     11065\n",
              "50.0     10243\n",
              "3.0       9251\n",
              "11.0      9232\n",
              "36.0      8797\n",
              "33.0      7654\n",
              "47.0      7436\n",
              "35.0      6942\n",
              "6.0       6280\n",
              "45.0      5605\n",
              "37.0      5501\n",
              "18.0      5153\n",
              "48.0      4681\n",
              "14.0      4678\n",
              "39.0      4644\n",
              "10.0      4374\n",
              "21.0      4266\n",
              "2.0       4038\n",
              "13.0      4036\n",
              "7.0       3279\n",
              "12.0      3198\n",
              "9.0       3101\n",
              "27.0      2823\n",
              "32.0      2787\n",
              "43.0      2639\n",
              "17.0      2617\n",
              "26.0      2587\n",
              "25.0      2503\n",
              "24.0      2415\n",
              "38.0      2026\n",
              "0.0       2021\n",
              "16.0      2007\n",
              "31.0      1960\n",
              "23.0      1960\n",
              "20.0      1935\n",
              "49.0      1832\n",
              "4.0       1801\n",
              "34.0      1664\n",
              "19.0      1535\n",
              "22.0      1309\n",
              "40.0      1295\n",
              "5.0       1279\n",
              "1.0       1008\n",
              "44.0       808\n",
              "42.0       591\n",
              "52.0       267\n",
              "51.0       183\n",
              "Name: Region_Code, dtype: int64"
            ]
          },
          "metadata": {},
          "execution_count": 25
        }
      ]
    },
    {
      "cell_type": "code",
      "source": [
        ""
      ],
      "metadata": {
        "id": "0LlF9ab_Cjqx"
      },
      "execution_count": 25,
      "outputs": []
    },
    {
      "cell_type": "markdown",
      "source": [
        "in response coding, when we calculate the probability of a feature value belonging to a particular class"
      ],
      "metadata": {
        "id": "4xfnhKK5CjuR"
      }
    },
    {
      "cell_type": "code",
      "source": [
        "def get_feature_dict(feature):\n",
        "    value_counts = train[feature].value_counts()\n",
        "    my_dict = dict()\n",
        "    for i, denominator in value_counts.items():\n",
        "        class_count = train[(train['Response']==1) & (train[feature]==i)]\n",
        "        my_dict[i] = round((class_count.shape[0]/ denominator), 6)\n",
        "    return my_dict"
      ],
      "metadata": {
        "id": "Zk5Dw_zwCjyC"
      },
      "execution_count": 26,
      "outputs": []
    },
    {
      "cell_type": "code",
      "source": [
        "region_code_dict = get_feature_dict('Region_Code')\n",
        "region_code_dict"
      ],
      "metadata": {
        "colab": {
          "base_uri": "https://localhost:8080/"
        },
        "id": "iaWMxBRbCj16",
        "outputId": "e9d9fca1-9d2b-4bb6-c8a1-7ba34c020b5a",
        "collapsed": true
      },
      "execution_count": 27,
      "outputs": [
        {
          "output_type": "execute_result",
          "data": {
            "text/plain": [
              "{0.0: 0.086096,\n",
              " 1.0: 0.108135,\n",
              " 2.0: 0.071075,\n",
              " 3.0: 0.127662,\n",
              " 4.0: 0.158245,\n",
              " 5.0: 0.115715,\n",
              " 6.0: 0.069904,\n",
              " 7.0: 0.131747,\n",
              " 8.0: 0.096142,\n",
              " 9.0: 0.081587,\n",
              " 10.0: 0.060128,\n",
              " 11.0: 0.11276,\n",
              " 12.0: 0.097561,\n",
              " 13.0: 0.090188,\n",
              " 14.0: 0.090209,\n",
              " 15.0: 0.071987,\n",
              " 16.0: 0.066766,\n",
              " 17.0: 0.07031,\n",
              " 18.0: 0.131574,\n",
              " 19.0: 0.162866,\n",
              " 20.0: 0.115245,\n",
              " 21.0: 0.071027,\n",
              " 22.0: 0.063407,\n",
              " 23.0: 0.153061,\n",
              " 24.0: 0.141615,\n",
              " 25.0: 0.042749,\n",
              " 26.0: 0.072284,\n",
              " 27.0: 0.074035,\n",
              " 28.0: 0.187163,\n",
              " 29.0: 0.123362,\n",
              " 30.0: 0.073825,\n",
              " 31.0: 0.10051,\n",
              " 32.0: 0.085755,\n",
              " 33.0: 0.099294,\n",
              " 34.0: 0.075721,\n",
              " 35.0: 0.124604,\n",
              " 36.0: 0.079914,\n",
              " 37.0: 0.079258,\n",
              " 38.0: 0.192004,\n",
              " 39.0: 0.1236,\n",
              " 40.0: 0.118147,\n",
              " 41.0: 0.121776,\n",
              " 42.0: 0.07445,\n",
              " 43.0: 0.092459,\n",
              " 44.0: 0.040842,\n",
              " 45.0: 0.109723,\n",
              " 46.0: 0.102891,\n",
              " 47.0: 0.087682,\n",
              " 48.0: 0.101901,\n",
              " 49.0: 0.074782,\n",
              " 50.0: 0.062677,\n",
              " 51.0: 0.153005,\n",
              " 52.0: 0.123596}"
            ]
          },
          "metadata": {},
          "execution_count": 27
        }
      ]
    },
    {
      "cell_type": "code",
      "source": [
        ""
      ],
      "metadata": {
        "id": "VtQMM-wE2V_R"
      },
      "execution_count": 27,
      "outputs": []
    },
    {
      "cell_type": "code",
      "source": [
        "pkn = test['Region_Code'].copy()\n",
        "pkn = pkn.apply(lambda x: region_code_dict[x])\n",
        "pkn"
      ],
      "metadata": {
        "colab": {
          "base_uri": "https://localhost:8080/"
        },
        "id": "YoyaWdgF2V8j",
        "outputId": "9fb63249-20cf-49fb-f17f-66c15e6aab62"
      },
      "execution_count": 28,
      "outputs": [
        {
          "output_type": "execute_result",
          "data": {
            "text/plain": [
              "0         0.112760\n",
              "1         0.187163\n",
              "2         0.187163\n",
              "3         0.074035\n",
              "4         0.187163\n",
              "            ...   \n",
              "127032    0.079258\n",
              "127033    0.187163\n",
              "127034    0.102891\n",
              "127035    0.187163\n",
              "127036    0.123362\n",
              "Name: Region_Code, Length: 127037, dtype: float64"
            ]
          },
          "metadata": {},
          "execution_count": 28
        }
      ]
    },
    {
      "cell_type": "code",
      "source": [
        "x_train_region_code_resp = train['Region_Code'].apply(lambda x:region_code_dict[x])\n",
        "x_train_region_code_resp = x_train_region_code_resp.values.reshape(-1, 1)\n",
        "\n",
        "x_test_region_code_resp = test['Region_Code'].apply(lambda x: region_code_dict[x] \n",
        "                                                    if x in region_code_dict.keys() \n",
        "                                                    else np.median(list(region_code_dict.values())))\n",
        "x_test_region_code_resp = x_test_region_code_resp.values.reshape(-1, 1)\n",
        "\n",
        "print(x_train_region_code_resp.shape)\n",
        "print(x_test_region_code_resp.shape)"
      ],
      "metadata": {
        "colab": {
          "base_uri": "https://localhost:8080/"
        },
        "id": "YgcNxCJm2Vyq",
        "outputId": "c70aad44-be7c-4a84-c216-172b28fbc5e7"
      },
      "execution_count": 29,
      "outputs": [
        {
          "output_type": "stream",
          "name": "stdout",
          "text": [
            "(381109, 1)\n",
            "(127037, 1)\n"
          ]
        }
      ]
    },
    {
      "cell_type": "code",
      "source": [
        ""
      ],
      "metadata": {
        "id": "x7zjCoG82VvB"
      },
      "execution_count": 29,
      "outputs": []
    },
    {
      "cell_type": "markdown",
      "source": [
        "### Previously Insured"
      ],
      "metadata": {
        "id": "s9uxW0r-2VsJ"
      }
    },
    {
      "cell_type": "code",
      "source": [
        "x_train_prev_ins = train['Previously_Insured'].values.reshape(-1, 1)\n",
        "x_test_prev_ins = test['Previously_Insured'].values.reshape(-1, 1)\n",
        "\n",
        "print(x_train_prev_ins.shape)\n",
        "print(x_test_prev_ins.shape)"
      ],
      "metadata": {
        "colab": {
          "base_uri": "https://localhost:8080/"
        },
        "id": "jKmGmmLR2Vkh",
        "outputId": "76b34686-1419-4bba-fd0b-6bf12495debc"
      },
      "execution_count": 30,
      "outputs": [
        {
          "output_type": "stream",
          "name": "stdout",
          "text": [
            "(381109, 1)\n",
            "(127037, 1)\n"
          ]
        }
      ]
    },
    {
      "cell_type": "code",
      "source": [
        ""
      ],
      "metadata": {
        "id": "u9giibs92VeZ"
      },
      "execution_count": 30,
      "outputs": []
    },
    {
      "cell_type": "markdown",
      "source": [
        "### Vehice Age"
      ],
      "metadata": {
        "id": "FOzUPOTq2VaL"
      }
    },
    {
      "cell_type": "code",
      "source": [
        "from sklearn.preprocessing import OneHotEncoder"
      ],
      "metadata": {
        "id": "K6V0cmSN2VUa"
      },
      "execution_count": 31,
      "outputs": []
    },
    {
      "cell_type": "code",
      "source": [
        "encoder = OneHotEncoder()\n",
        "encoder.fit(train['Vehicle_Age'].values.reshape(-1, 1))\n",
        "\n",
        "x_train_vehicle_age = encoder.transform(train['Vehicle_Age'].values.reshape(-1, 1))\n",
        "x_test_vehicle_age = encoder.transform(test['Vehicle_Age'].values.reshape(-1, 1))\n",
        "\n",
        "print(x_train_vehicle_age.shape)\n",
        "print(x_test_vehicle_age.shape)"
      ],
      "metadata": {
        "colab": {
          "base_uri": "https://localhost:8080/"
        },
        "id": "-lBIaaHduxdH",
        "outputId": "24e29330-3891-43a6-c5f6-1b5101dc9a25"
      },
      "execution_count": 32,
      "outputs": [
        {
          "output_type": "stream",
          "name": "stdout",
          "text": [
            "(381109, 3)\n",
            "(127037, 3)\n"
          ]
        }
      ]
    },
    {
      "cell_type": "code",
      "source": [
        ""
      ],
      "metadata": {
        "id": "L5yG7ZPyuxYZ"
      },
      "execution_count": 32,
      "outputs": []
    },
    {
      "cell_type": "markdown",
      "source": [
        "label encoding 'Vehicle Age'"
      ],
      "metadata": {
        "id": "1eTgs3Q5uxRj"
      }
    },
    {
      "cell_type": "code",
      "source": [
        "x_train_vehicle_age_n = train[\"Vehicle_Age\"].replace({'< 1 Year':0, '1-2 Year':1, '> 2 Years':2})\n",
        "x_train_vehicle_age_n = x_train_vehicle_age_n.values.reshape(-1, 1)\n",
        "\n",
        "x_test_vehicle_age_n = test[\"Vehicle_Age\"].replace({'< 1 Year':0, '1-2 Year':1, '> 2 Years':2})\n",
        "x_test_vehicle_age_n = x_test_vehicle_age_n.values.reshape(-1, 1)"
      ],
      "metadata": {
        "id": "xAFcUuCF2VOG"
      },
      "execution_count": 33,
      "outputs": []
    },
    {
      "cell_type": "markdown",
      "source": [
        "Response Coding"
      ],
      "metadata": {
        "id": "y8_9boPcvgU0"
      }
    },
    {
      "cell_type": "code",
      "source": [
        "vehicle_age_dict = get_feature_dict('Vehicle_Age')\n",
        "vehicle_age_dict"
      ],
      "metadata": {
        "colab": {
          "base_uri": "https://localhost:8080/"
        },
        "id": "rvyc9qxGvgKR",
        "outputId": "75cb9f69-d4f9-4975-c967-a44ee9fb73d6"
      },
      "execution_count": 34,
      "outputs": [
        {
          "output_type": "execute_result",
          "data": {
            "text/plain": [
              "{'1-2 Year': 0.173755, '< 1 Year': 0.043705, '> 2 Years': 0.293746}"
            ]
          },
          "metadata": {},
          "execution_count": 34
        }
      ]
    },
    {
      "cell_type": "code",
      "source": [
        "x_train_vehicle_age_resp = train['Vehicle_Age'].apply(lambda x: vehicle_age_dict[x])\n",
        "x_train_vehicle_age_resp = x_train_vehicle_age_resp.values.reshape(-1, 1)\n",
        "\n",
        "x_test_vehicle_age_resp = test['Vehicle_Age'].apply(lambda x: vehicle_age_dict[x])\n",
        "x_test_vehicle_age_resp = x_test_vehicle_age_resp.values.reshape(-1, 1)\n",
        "\n",
        "print(x_train_vehicle_age_resp.shape)\n",
        "print(x_test_vehicle_age_resp.shape)"
      ],
      "metadata": {
        "colab": {
          "base_uri": "https://localhost:8080/"
        },
        "id": "03z0zxzCvgEw",
        "outputId": "f87bec16-3cd2-47e8-b708-50d559c0939f"
      },
      "execution_count": 35,
      "outputs": [
        {
          "output_type": "stream",
          "name": "stdout",
          "text": [
            "(381109, 1)\n",
            "(127037, 1)\n"
          ]
        }
      ]
    },
    {
      "cell_type": "code",
      "source": [
        ""
      ],
      "metadata": {
        "id": "YI97mCFqvf_a"
      },
      "execution_count": 35,
      "outputs": []
    },
    {
      "cell_type": "markdown",
      "source": [
        "### Vehicle Damage"
      ],
      "metadata": {
        "id": "JIhgPgJ5vf66"
      }
    },
    {
      "cell_type": "code",
      "source": [
        "x_train_damage = train['Vehicle_Damage'].apply(lambda x: 1 if x=='Yes' else 0)\n",
        "x_train_damage = x_train_damage.values.reshape(-1, 1)\n",
        "\n",
        "x_test_damage = test['Vehicle_Damage'].apply(lambda x: 1 if x=='Yes' else 0)\n",
        "x_test_damage = x_test_damage.values.reshape(-1, 1)\n",
        "\n",
        "print(x_train_damage.shape)\n",
        "print(x_test_damage.shape)"
      ],
      "metadata": {
        "colab": {
          "base_uri": "https://localhost:8080/"
        },
        "id": "X3PJU-oKwi85",
        "outputId": "75a3ba51-2887-4027-b8e0-10866a8f3a09"
      },
      "execution_count": 36,
      "outputs": [
        {
          "output_type": "stream",
          "name": "stdout",
          "text": [
            "(381109, 1)\n",
            "(127037, 1)\n"
          ]
        }
      ]
    },
    {
      "cell_type": "code",
      "source": [
        ""
      ],
      "metadata": {
        "id": "JF4JrMF_wi4L"
      },
      "execution_count": 36,
      "outputs": []
    },
    {
      "cell_type": "markdown",
      "source": [
        "### Annual Premium"
      ],
      "metadata": {
        "id": "JSG_A5ptwiyZ"
      }
    },
    {
      "cell_type": "code",
      "source": [
        "scaler = MinMaxScaler()\n",
        "scaler.fit(train['Annual_Premium'].values.reshape(-1, 1))\n",
        "x_train_premium = scaler.transform(train['Annual_Premium'].values.reshape(-1, 1))\n",
        "x_test_premium = scaler.transform(test['Annual_Premium'].values.reshape(-1, 1))\n",
        "\n",
        "print(x_train_premium.shape)\n",
        "print(x_test_premium.shape)"
      ],
      "metadata": {
        "colab": {
          "base_uri": "https://localhost:8080/"
        },
        "id": "yCrq6BR3witR",
        "outputId": "b4d5d0e5-da88-47a8-ac83-5a3a1600a3ab"
      },
      "execution_count": 37,
      "outputs": [
        {
          "output_type": "stream",
          "name": "stdout",
          "text": [
            "(381109, 1)\n",
            "(127037, 1)\n"
          ]
        }
      ]
    },
    {
      "cell_type": "code",
      "source": [
        "x_train_premium_n = train['Annual_Premium'].values.reshape(-1, 1)\n",
        "x_test_premium_n = test['Annual_Premium'].values.reshape(-1, 1)\n",
        "\n",
        "print(x_train_premium_n.shape)\n",
        "print(x_test_premium_n.shape)"
      ],
      "metadata": {
        "colab": {
          "base_uri": "https://localhost:8080/"
        },
        "id": "bwl6dWBvwioN",
        "outputId": "723f0cdb-9e67-446b-a22a-77b178927b4e"
      },
      "execution_count": 38,
      "outputs": [
        {
          "output_type": "stream",
          "name": "stdout",
          "text": [
            "(381109, 1)\n",
            "(127037, 1)\n"
          ]
        }
      ]
    },
    {
      "cell_type": "code",
      "source": [
        ""
      ],
      "metadata": {
        "id": "1tRQEwjewijC"
      },
      "execution_count": 38,
      "outputs": []
    },
    {
      "cell_type": "code",
      "source": [
        ""
      ],
      "metadata": {
        "id": "PMC9tHZQwibq"
      },
      "execution_count": 38,
      "outputs": []
    },
    {
      "cell_type": "markdown",
      "source": [
        "### Policy Sales Channel"
      ],
      "metadata": {
        "id": "AYQpQ42Bvf0x"
      }
    },
    {
      "cell_type": "code",
      "source": [
        "encoder = OneHotEncoder(handle_unknown = 'ignore')\n",
        "encoder.fit(train['Policy_Sales_Channel'].values.reshape(-1, 1))\n",
        "\n",
        "x_train_sales_chnl = encoder.transform(train['Policy_Sales_Channel'].values.reshape(-1, 1))\n",
        "x_test_sales_chnl = encoder.transform(test['Policy_Sales_Channel'].values.reshape(-1, 1))\n",
        "\n",
        "print(x_train_sales_chnl.shape)\n",
        "print(x_test_sales_chnl.shape)"
      ],
      "metadata": {
        "colab": {
          "base_uri": "https://localhost:8080/"
        },
        "id": "JT9ZaQgTwp6T",
        "outputId": "10e4372e-0acb-4819-ebf2-5b62c86febd7"
      },
      "execution_count": 39,
      "outputs": [
        {
          "output_type": "stream",
          "name": "stdout",
          "text": [
            "(381109, 155)\n",
            "(127037, 155)\n"
          ]
        }
      ]
    },
    {
      "cell_type": "markdown",
      "source": [
        "Response Encoding"
      ],
      "metadata": {
        "id": "hD-86vY4wp-_"
      }
    },
    {
      "cell_type": "code",
      "source": [
        "sales_chnl_dict = get_feature_dict('Policy_Sales_Channel')\n",
        "sales_chnl_dict"
      ],
      "metadata": {
        "colab": {
          "base_uri": "https://localhost:8080/"
        },
        "id": "c81QOlqwvfut",
        "outputId": "2b3c0872-0df5-4e64-9c5c-5b8d91f4079e",
        "collapsed": true
      },
      "execution_count": 40,
      "outputs": [
        {
          "output_type": "execute_result",
          "data": {
            "text/plain": [
              "{1.0: 0.032588,\n",
              " 2.0: 0.25,\n",
              " 3.0: 0.304015,\n",
              " 4.0: 0.200393,\n",
              " 6.0: 0.0,\n",
              " 7.0: 0.113892,\n",
              " 8.0: 0.082508,\n",
              " 9.0: 0.100592,\n",
              " 10.0: 0.189394,\n",
              " 11.0: 0.089776,\n",
              " 12.0: 0.168582,\n",
              " 13.0: 0.147453,\n",
              " 14.0: 0.101286,\n",
              " 15.0: 0.087838,\n",
              " 16.0: 0.086042,\n",
              " 17.0: 0.1875,\n",
              " 18.0: 0.035928,\n",
              " 19.0: 0.085586,\n",
              " 20.0: 0.111111,\n",
              " 21.0: 0.081081,\n",
              " 22.0: 0.054217,\n",
              " 23.0: 0.137441,\n",
              " 24.0: 0.132,\n",
              " 25.0: 0.199675,\n",
              " 26.0: 0.199385,\n",
              " 27.0: 0.333333,\n",
              " 28.0: 0.333333,\n",
              " 29.0: 0.125741,\n",
              " 30.0: 0.110638,\n",
              " 31.0: 0.253566,\n",
              " 32.0: 0.095238,\n",
              " 33.0: 0.0,\n",
              " 34.0: 0.0,\n",
              " 35.0: 0.133333,\n",
              " 36.0: 0.326923,\n",
              " 37.0: 0.098684,\n",
              " 38.0: 0.0,\n",
              " 39.0: 0.1,\n",
              " 40.0: 0.133333,\n",
              " 41.0: 0.0,\n",
              " 42.0: 0.19697,\n",
              " 43.0: 1.0,\n",
              " 44.0: 0.19802,\n",
              " 45.0: 0.148936,\n",
              " 46.0: 0.0,\n",
              " 47.0: 0.126984,\n",
              " 48.0: 0.05,\n",
              " 49.0: 0.142857,\n",
              " 50.0: 0.0,\n",
              " 51.0: 0.083333,\n",
              " 52.0: 0.109005,\n",
              " 53.0: 0.21875,\n",
              " 54.0: 0.16,\n",
              " 55.0: 0.149525,\n",
              " 56.0: 0.184615,\n",
              " 57.0: 0.2,\n",
              " 58.0: 0.111111,\n",
              " 59.0: 0.19685,\n",
              " 60.0: 0.102515,\n",
              " 61.0: 0.096718,\n",
              " 62.0: 0.166667,\n",
              " 63.0: 0.052632,\n",
              " 64.0: 0.05618,\n",
              " 65.0: 0.067797,\n",
              " 66.0: 0.055556,\n",
              " 67.0: 0.0,\n",
              " 68.0: 0.25,\n",
              " 69.0: 0.166667,\n",
              " 70.0: 0.0,\n",
              " 71.0: 0.0,\n",
              " 73.0: 0.076923,\n",
              " 74.0: 0.0,\n",
              " 75.0: 0.0,\n",
              " 76.0: 0.0,\n",
              " 78.0: 0.130435,\n",
              " 79.0: 0.0,\n",
              " 80.0: 0.285714,\n",
              " 81.0: 0.285714,\n",
              " 82.0: 0.0,\n",
              " 83.0: 0.0,\n",
              " 84.0: 0.0,\n",
              " 86.0: 0.125,\n",
              " 87.0: 0.285714,\n",
              " 88.0: 0.058824,\n",
              " 89.0: 0.142857,\n",
              " 90.0: 0.269231,\n",
              " 91.0: 0.183544,\n",
              " 92.0: 0.125,\n",
              " 93.0: 0.107143,\n",
              " 94.0: 0.195652,\n",
              " 95.0: 0.0,\n",
              " 96.0: 0.0,\n",
              " 97.0: 0.076923,\n",
              " 98.0: 0.047619,\n",
              " 99.0: 0.0,\n",
              " 100.0: 0.25,\n",
              " 101.0: 0.285714,\n",
              " 102.0: 0.0,\n",
              " 103.0: 0.125,\n",
              " 104.0: 0.0,\n",
              " 105.0: 0.0,\n",
              " 106.0: 0.230769,\n",
              " 107.0: 0.037037,\n",
              " 108.0: 0.026316,\n",
              " 109.0: 0.12,\n",
              " 110.0: 0.090909,\n",
              " 111.0: 0.132353,\n",
              " 112.0: 0.0,\n",
              " 113.0: 0.067308,\n",
              " 114.0: 0.130435,\n",
              " 115.0: 0.0,\n",
              " 116.0: 0.116883,\n",
              " 117.0: 0.0,\n",
              " 118.0: 0.0,\n",
              " 119.0: 0.048544,\n",
              " 120.0: 0.084525,\n",
              " 121.0: 0.296875,\n",
              " 122.0: 0.173212,\n",
              " 123.0: 1.0,\n",
              " 124.0: 0.189148,\n",
              " 125.0: 0.123782,\n",
              " 126.0: 0.0,\n",
              " 127.0: 0.072727,\n",
              " 128.0: 0.094891,\n",
              " 129.0: 0.068182,\n",
              " 130.0: 0.090909,\n",
              " 131.0: 0.115702,\n",
              " 132.0: 0.064516,\n",
              " 133.0: 0.047059,\n",
              " 134.0: 0.0,\n",
              " 135.0: 0.089109,\n",
              " 136.0: 0.216216,\n",
              " 137.0: 0.0,\n",
              " 138.0: 0.096774,\n",
              " 139.0: 0.090909,\n",
              " 140.0: 0.065421,\n",
              " 143.0: 0.0,\n",
              " 144.0: 0.0,\n",
              " 145.0: 0.132184,\n",
              " 146.0: 0.0,\n",
              " 147.0: 0.184783,\n",
              " 148.0: 0.103896,\n",
              " 149.0: 0.0,\n",
              " 150.0: 0.24359,\n",
              " 151.0: 0.031403,\n",
              " 152.0: 0.028624,\n",
              " 153.0: 0.059308,\n",
              " 154.0: 0.245954,\n",
              " 155.0: 0.320097,\n",
              " 156.0: 0.215458,\n",
              " 157.0: 0.268402,\n",
              " 158.0: 0.27439,\n",
              " 159.0: 0.019608,\n",
              " 160.0: 0.02181,\n",
              " 163.0: 0.304183}"
            ]
          },
          "metadata": {},
          "execution_count": 40
        }
      ]
    },
    {
      "cell_type": "code",
      "source": [
        "x_train_sales_chnl_resp = train['Policy_Sales_Channel'].apply(lambda x: sales_chnl_dict[x])\n",
        "x_train_sales_chnl_resp = x_train_sales_chnl_resp.values.reshape(-1, 1)\n",
        "\n",
        "x_test_sales_chnl_resp = test['Policy_Sales_Channel'].apply(lambda x: sales_chnl_dict[x] if x in sales_chnl_dict.keys() \n",
        "                                                                                              else np.median(list(sales_chnl_dict.values())))\n",
        "x_test_sales_chnl_resp = x_test_sales_chnl_resp.values.reshape(-1, 1)\n",
        "\n",
        "print(x_train_sales_chnl_resp.shape)\n",
        "print(x_test_sales_chnl_resp.shape)"
      ],
      "metadata": {
        "colab": {
          "base_uri": "https://localhost:8080/"
        },
        "id": "TYVGOy7Pwsi6",
        "outputId": "8ee33d0c-ada8-4d02-ef26-d87266a4a86e"
      },
      "execution_count": 41,
      "outputs": [
        {
          "output_type": "stream",
          "name": "stdout",
          "text": [
            "(381109, 1)\n",
            "(127037, 1)\n"
          ]
        }
      ]
    },
    {
      "cell_type": "code",
      "source": [
        ""
      ],
      "metadata": {
        "id": "Mw7qzLpfwuxV"
      },
      "execution_count": 41,
      "outputs": []
    },
    {
      "cell_type": "markdown",
      "source": [
        "### Vinatge"
      ],
      "metadata": {
        "id": "jX1DeNrZwr_V"
      }
    },
    {
      "cell_type": "code",
      "source": [
        "scaler = MinMaxScaler()\n",
        "scaler.fit(train['Vintage'].values.reshape(-1, 1))\n",
        "x_train_vintage = scaler.transform(train['Vintage'].values.reshape(-1, 1))\n",
        "x_test_vintage = scaler.transform(test['Vintage'].values.reshape(-1, 1))\n",
        "\n",
        "print(x_train_vintage.shape)\n",
        "print(x_test_vintage.shape)"
      ],
      "metadata": {
        "colab": {
          "base_uri": "https://localhost:8080/"
        },
        "id": "4R9__I8xwvec",
        "outputId": "29e08978-091b-4aef-a21f-449f1c459c35"
      },
      "execution_count": 42,
      "outputs": [
        {
          "output_type": "stream",
          "name": "stdout",
          "text": [
            "(381109, 1)\n",
            "(127037, 1)\n"
          ]
        }
      ]
    },
    {
      "cell_type": "code",
      "source": [
        "x_train_vintage_n = train['Vintage'].values.reshape(-1, 1)\n",
        "x_test_vintage_n =  test['Vintage'].values.reshape(-1, 1)\n",
        "\n",
        "print(x_train_vintage_n.shape)\n",
        "print(x_test_vintage_n.shape)"
      ],
      "metadata": {
        "colab": {
          "base_uri": "https://localhost:8080/"
        },
        "id": "aiQS_aVe13y2",
        "outputId": "2868c700-29b7-4a48-dd13-6bd1aca48564"
      },
      "execution_count": 43,
      "outputs": [
        {
          "output_type": "stream",
          "name": "stdout",
          "text": [
            "(381109, 1)\n",
            "(127037, 1)\n"
          ]
        }
      ]
    },
    {
      "cell_type": "code",
      "source": [
        ""
      ],
      "metadata": {
        "id": "x0apYUnEwvi6"
      },
      "execution_count": 43,
      "outputs": []
    },
    {
      "cell_type": "markdown",
      "source": [
        "# Stacking all features together"
      ],
      "metadata": {
        "id": "HyQ3Fx_cwvmy"
      }
    },
    {
      "cell_type": "markdown",
      "source": [
        "### Set 1: Label Encoded + One Hot encoded categorical features + scaled numerical features"
      ],
      "metadata": {
        "id": "3vQn6WP2wvrc"
      }
    },
    {
      "cell_type": "code",
      "source": [
        "y_train_all = train['Response'].values"
      ],
      "metadata": {
        "id": "WL908dfgwvvU"
      },
      "execution_count": 44,
      "outputs": []
    },
    {
      "cell_type": "code",
      "source": [
        "from scipy.sparse import hstack\n",
        "\n",
        "x_train_ohe = hstack((x_train_gender, x_train_age, x_train_license, \n",
        "                      x_train_region_code, x_train_prev_ins, \n",
        "                       x_train_vehicle_age, x_train_damage, \n",
        "                      x_train_premium, x_train_sales_chnl, x_train_vintage))\n",
        "\n",
        "x_test_ohe = hstack((x_test_gender, x_test_age, x_test_license, \n",
        "                     x_test_region_code, x_test_prev_ins, \n",
        "                      x_test_vehicle_age, x_test_damage, \n",
        "                     x_test_premium, x_test_sales_chnl, x_test_vintage)) \n",
        "\n",
        "print(\"train data shape:\", (x_train_ohe.shape, y_train_all.shape))\n",
        "print(\"test data shape:\", x_test_ohe.shape)"
      ],
      "metadata": {
        "colab": {
          "base_uri": "https://localhost:8080/"
        },
        "id": "1MBF7EFwwvzR",
        "outputId": "c6d005ea-da24-4934-fac0-beb0eb62ab31"
      },
      "execution_count": 47,
      "outputs": [
        {
          "output_type": "stream",
          "name": "stdout",
          "text": [
            "train data shape: ((381109, 218), (381109,))\n",
            "test data shape: (127037, 218)\n"
          ]
        }
      ]
    },
    {
      "cell_type": "code",
      "source": [
        ""
      ],
      "metadata": {
        "id": "hm4FsKo2wv28"
      },
      "execution_count": 47,
      "outputs": []
    },
    {
      "cell_type": "markdown",
      "source": [
        "### Set 2: Label Encoded + Response encoded categorical features + Numerical features"
      ],
      "metadata": {
        "id": "z3yHhJL3wv60"
      }
    },
    {
      "cell_type": "code",
      "source": [
        "x_train_r = np.hstack((x_train_gender, x_train_age_n, x_train_age_cat, x_train_license, \n",
        "                       x_train_region_code_resp, x_train_prev_ins, \n",
        "                       x_train_vehicle_age_resp, x_train_damage, x_train_premium_n, \n",
        "                       x_train_sales_chnl_resp, x_train_vintage_n))\n",
        "\n",
        "x_test_r = np.hstack((x_test_gender, x_test_age_n, x_test_age_cat, x_test_license, \n",
        "                      x_test_region_code_resp, x_test_prev_ins, \n",
        "                      x_test_vehicle_age_resp, x_test_damage, x_test_premium_n, \n",
        "                      x_test_sales_chnl_resp, x_test_vintage_n)) \n",
        "\n",
        "print(\"train data shape:\", (x_train_r.shape, y_train_all.shape))\n",
        "print(\"test data shape:\", x_test_r.shape)"
      ],
      "metadata": {
        "colab": {
          "base_uri": "https://localhost:8080/"
        },
        "id": "ThwMZnS11O3c",
        "outputId": "66390984-a079-43e8-8af5-9f66c82bb732"
      },
      "execution_count": 48,
      "outputs": [
        {
          "output_type": "stream",
          "name": "stdout",
          "text": [
            "train data shape: ((381109, 11), (381109,))\n",
            "test data shape: (127037, 11)\n"
          ]
        }
      ]
    },
    {
      "cell_type": "code",
      "source": [
        ""
      ],
      "metadata": {
        "id": "M5BVrai-1OuS"
      },
      "execution_count": 48,
      "outputs": []
    },
    {
      "cell_type": "code",
      "source": [
        ""
      ],
      "metadata": {
        "id": "FphJEhyMUzdr"
      },
      "execution_count": 48,
      "outputs": []
    },
    {
      "cell_type": "markdown",
      "source": [
        "# Train-Validation Split"
      ],
      "metadata": {
        "id": "lPJ1ejJBUzhL"
      }
    },
    {
      "cell_type": "code",
      "source": [
        "inputs = train_dum.drop('Response', axis=1)\n",
        "targets = train_dum['Response']\n",
        "\n",
        "x_test = test_dum.copy()"
      ],
      "metadata": {
        "id": "v2nSvHPEUzky"
      },
      "execution_count": null,
      "outputs": []
    },
    {
      "cell_type": "code",
      "source": [
        "from sklearn.model_selection import StratifiedKFold"
      ],
      "metadata": {
        "id": "luSIlaGPUzoz"
      },
      "execution_count": null,
      "outputs": []
    },
    {
      "cell_type": "code",
      "source": [
        "skf = StratifiedKFold(n_splits=10)\n",
        "\n",
        "for train_idx, val_idx in skf.split(inputs, targets):\n",
        "    x_train, x_val = inputs.iloc[train_idx], inputs.iloc[val_idx]\n",
        "    y_train, y_val = targets.iloc[train_idx], targets.iloc[val_idx]"
      ],
      "metadata": {
        "id": "Yl8goFkAUztD"
      },
      "execution_count": null,
      "outputs": []
    },
    {
      "cell_type": "code",
      "source": [
        ""
      ],
      "metadata": {
        "id": "2jvQHdT0Uzwq"
      },
      "execution_count": null,
      "outputs": []
    },
    {
      "cell_type": "markdown",
      "source": [
        "# Building ML models"
      ],
      "metadata": {
        "id": "w8DFmMNpU0BE"
      }
    },
    {
      "cell_type": "markdown",
      "source": [
        "## With Set 1 features"
      ],
      "metadata": {
        "id": "kJFeTbNpU0FS"
      }
    },
    {
      "cell_type": "markdown",
      "source": [
        "### Logistic Regression with SGD"
      ],
      "metadata": {
        "id": "JvkW-pARU0JT"
      }
    },
    {
      "cell_type": "code",
      "source": [
        "from sklearn.linear_model import SGDClassifier\n",
        "from sklearn.calibration import CalibratedClassifierCV"
      ],
      "metadata": {
        "id": "KYtf60A4U0NS"
      },
      "execution_count": 49,
      "outputs": []
    },
    {
      "cell_type": "code",
      "source": [
        "sgd = SGDClassifier(loss = 'log', class_weight='balanced')\n",
        "parameter = {'alpha':[0.001, 0.01, 0.1]}\n",
        "clf =GridSearchCV(sgd, parameter, cv=5, scoring='roc_auc', n_jobs=-1,\n",
        "                  return_train_score=True)\n",
        "clf.fit(x_train_ohe, y_train_all)"
      ],
      "metadata": {
        "id": "QyC4GNleU0RD",
        "colab": {
          "base_uri": "https://localhost:8080/"
        },
        "outputId": "cee45542-58ee-47c0-d412-edee6d069043"
      },
      "execution_count": 56,
      "outputs": [
        {
          "output_type": "execute_result",
          "data": {
            "text/plain": [
              "GridSearchCV(cv=5, estimator=SGDClassifier(class_weight='balanced', loss='log'),\n",
              "             n_jobs=-1, param_grid={'alpha': [0.001, 0.01, 0.1]},\n",
              "             return_train_score=True, scoring='roc_auc')"
            ]
          },
          "metadata": {},
          "execution_count": 56
        }
      ]
    },
    {
      "cell_type": "code",
      "source": [
        ""
      ],
      "metadata": {
        "id": "WPWGK7uYU0VB"
      },
      "execution_count": 56,
      "outputs": []
    },
    {
      "cell_type": "code",
      "source": [
        "train_loss = clf.cv_results_['mean_train_score']\n",
        "cv_loss = clf.cv_results_['mean_test_score']\n",
        "plt.plot(parameter['alpha'], train_loss, label='Train score')\n",
        "plt.plot(parameter['alpha'], cv_loss, label='CV score')\n",
        "\n",
        "plt.scatter(parameter['alpha'], train_loss, label='Train score')\n",
        "plt.scatter(parameter['alpha'], cv_loss, label='CV score')\n",
        "plt.xscale('log')\n",
        "\n",
        "plt.legend()\n",
        "plt.xlabel('hyperparameter: alpha')\n",
        "plt.ylabel(\"AUC score\")\n",
        "plt.grid()\n",
        "plt.show()"
      ],
      "metadata": {
        "id": "0xBP5cDOU0Yd",
        "colab": {
          "base_uri": "https://localhost:8080/",
          "height": 283
        },
        "outputId": "b71e7cbe-e99e-47e2-e4b9-a6a6c9ee7e0b"
      },
      "execution_count": 57,
      "outputs": [
        {
          "output_type": "display_data",
          "data": {
            "image/png": "[encoded data removed]",
            "text/plain": [
              "<Figure size 432x288 with 1 Axes>"
            ]
          },
          "metadata": {
            "needs_background": "light"
          }
        }
      ]
    },
    {
      "cell_type": "code",
      "source": [
        ""
      ],
      "metadata": {
        "id": "oPtCB2OOU0cp"
      },
      "execution_count": null,
      "outputs": []
    },
    {
      "cell_type": "markdown",
      "source": [
        "with only L1 regularization"
      ],
      "metadata": {
        "id": "2B8EAPn2U0g6"
      }
    },
    {
      "cell_type": "code",
      "source": [
        "sgd = SGDClassifier(loss='log', class_weight='balanced', l1_ratio=1)\n",
        "parameter = {'alpha':[0.0001, 0.001, 0.01, 0.1]}\n",
        "clf = GridSearchCV(sgd, parameter, cv=5, scoring='roc_auc', n_jobs=-1,\n",
        "                   return_train_score=True)\n",
        "clf.fit(x_train_ohe, y_train_all)"
      ],
      "metadata": {
        "id": "Sc3FKglaU0kw",
        "colab": {
          "base_uri": "https://localhost:8080/"
        },
        "outputId": "da973561-e03e-4c2f-9435-c07725cf3ae5"
      },
      "execution_count": 58,
      "outputs": [
        {
          "output_type": "execute_result",
          "data": {
            "text/plain": [
              "GridSearchCV(cv=5,\n",
              "             estimator=SGDClassifier(class_weight='balanced', l1_ratio=1,\n",
              "                                     loss='log'),\n",
              "             n_jobs=-1, param_grid={'alpha': [0.0001, 0.001, 0.01, 0.1]},\n",
              "             return_train_score=True, scoring='roc_auc')"
            ]
          },
          "metadata": {},
          "execution_count": 58
        }
      ]
    },
    {
      "cell_type": "code",
      "source": [
        "train_loss = clf.cv_results_['mean_train_score']\n",
        "cv_loss = clf.cv_results_['mean_test_score']\n",
        "plt.plot(parameter['alpha'], train_loss, label='Train score')\n",
        "plt.plot(parameter['alpha'], cv_loss, label='CV score')\n",
        "\n",
        "plt.scatter(parameter['alpha'], train_loss, label='Train score')\n",
        "plt.scatter(parameter['alpha'], cv_loss, label='CV score')\n",
        "plt.xscale('log')\n",
        "\n",
        "plt.legend()\n",
        "plt.xlabel('hyperparameter: alpha')\n",
        "plt.ylabel(\"AUC score\")\n",
        "plt.grid()\n",
        "plt.show()"
      ],
      "metadata": {
        "colab": {
          "base_uri": "https://localhost:8080/",
          "height": 283
        },
        "id": "b-Q2LSopJ9KE",
        "outputId": "70770625-168a-4e3f-e7ba-afefcc648084"
      },
      "execution_count": 59,
      "outputs": [
        {
          "output_type": "display_data",
          "data": {
            "image/png": "[encoded data removed]",
            "text/plain": [
              "<Figure size 432x288 with 1 Axes>"
            ]
          },
          "metadata": {
            "needs_background": "light"
          }
        }
      ]
    },
    {
      "cell_type": "code",
      "source": [
        ""
      ],
      "metadata": {
        "id": "mgC6wxCpJ9Nc"
      },
      "execution_count": null,
      "outputs": []
    },
    {
      "cell_type": "markdown",
      "source": [
        "### Linear SVM classifier using SGD"
      ],
      "metadata": {
        "id": "Sd0KMZm_J9RC"
      }
    },
    {
      "cell_type": "code",
      "source": [
        "sgd = SGDClassifier(loss = 'hinge', class_weight = 'balanced') \n",
        "parameter = {'alpha': [0.0001, 0.001, 0.01, 0.1]}\n",
        "clf = GridSearchCV(sgd, parameter, cv = 5, scoring = 'roc_auc', n_jobs = -1, \n",
        "                   return_train_score = True)\n",
        "clf.fit(x_train_ohe, y_train_all)"
      ],
      "metadata": {
        "colab": {
          "base_uri": "https://localhost:8080/"
        },
        "id": "JDxvvAV7J9UW",
        "outputId": "518faf7b-ac67-49d5-c5b7-dc24b53db990"
      },
      "execution_count": 60,
      "outputs": [
        {
          "output_type": "execute_result",
          "data": {
            "text/plain": [
              "GridSearchCV(cv=5, estimator=SGDClassifier(class_weight='balanced'), n_jobs=-1,\n",
              "             param_grid={'alpha': [0.0001, 0.001, 0.01, 0.1]},\n",
              "             return_train_score=True, scoring='roc_auc')"
            ]
          },
          "metadata": {},
          "execution_count": 60
        }
      ]
    },
    {
      "cell_type": "code",
      "source": [
        "train_loss = clf.cv_results_['mean_train_score']\n",
        "cv_loss = clf.cv_results_['mean_test_score']\n",
        "plt.plot(parameter['alpha'], train_loss, label='Train score')\n",
        "plt.plot(parameter['alpha'], cv_loss, label='CV score')\n",
        "\n",
        "plt.scatter(parameter['alpha'], train_loss, label='Train score')\n",
        "plt.scatter(parameter['alpha'], cv_loss, label='CV score')\n",
        "plt.xscale('log')\n",
        "\n",
        "plt.legend()\n",
        "plt.xlabel('hyperparameter: alpha')\n",
        "plt.ylabel(\"AUC score\")\n",
        "plt.grid()\n",
        "plt.show()"
      ],
      "metadata": {
        "colab": {
          "base_uri": "https://localhost:8080/",
          "height": 283
        },
        "id": "g3cA1tjkJ9XW",
        "outputId": "677265ed-5d04-4abf-dc7a-87feb982e909"
      },
      "execution_count": 61,
      "outputs": [
        {
          "output_type": "display_data",
          "data": {
            "image/png": "[encoded data removed]",
            "text/plain": [
              "<Figure size 432x288 with 1 Axes>"
            ]
          },
          "metadata": {
            "needs_background": "light"
          }
        }
      ]
    },
    {
      "cell_type": "code",
      "source": [
        ""
      ],
      "metadata": {
        "id": "URK9689pJ9a2"
      },
      "execution_count": 53,
      "outputs": []
    },
    {
      "cell_type": "markdown",
      "source": [
        "### Logistic Regression with default parameters"
      ],
      "metadata": {
        "id": "eK0b8vN9J9eb"
      }
    },
    {
      "cell_type": "code",
      "source": [
        "from sklearn.metrics import roc_auc_score\n",
        "\n",
        "sgd_clf = SGDClassifier(loss = 'log', class_weight= 'balanced', random_state = 12)\n",
        "sgd_clf.fit(x_train_ohe, y_train_all)\n",
        "sig_clf = CalibratedClassifierCV(sgd_clf, method = \"sigmoid\")\n",
        "sig_clf.fit(x_train_ohe, y_train_all)\n",
        "\n",
        "y_pred_train = sig_clf.predict_proba(x_train_ohe)\n",
        "y_pred_test = sig_clf.predict_proba(x_test_ohe)\n",
        "\n",
        "print(\"Train Score:\", roc_auc_score(y_train_all, y_pred_train[:, 1]))"
      ],
      "metadata": {
        "colab": {
          "base_uri": "https://localhost:8080/"
        },
        "id": "FUV1pcMAJ9iJ",
        "outputId": "8dc8cf54-8c06-4733-b4ad-c238f5b07972"
      },
      "execution_count": 63,
      "outputs": [
        {
          "output_type": "stream",
          "name": "stdout",
          "text": [
            "Train Score: 0.8495466780755871\n"
          ]
        }
      ]
    },
    {
      "cell_type": "code",
      "source": [
        ""
      ],
      "metadata": {
        "id": "uhBTYFfSJ9lJ"
      },
      "execution_count": 54,
      "outputs": []
    },
    {
      "cell_type": "code",
      "source": [
        "from sklearn.linear_model import LogisticRegression\n",
        "from sklearn.tree import DecisionTreeClassifier\n",
        "from sklearn.ensemble import RandomForestClassifier\n",
        "from sklearn.neighbors import KNeighborsClassifier\n",
        "from xgboost import XGBClassifier\n",
        "from sklearn.model_selection import train_test_split,cross_val_score,KFold"
      ],
      "metadata": {
        "id": "fZNPkufdJ9oP"
      },
      "execution_count": 55,
      "outputs": []
    },
    {
      "cell_type": "code",
      "source": [
        "np.unique(y_train_all, return_counts=True)"
      ],
      "metadata": {
        "id": "BiXU0HEDJ9rq",
        "colab": {
          "base_uri": "https://localhost:8080/"
        },
        "outputId": "244b6341-80bb-490d-e733-199889ffa005"
      },
      "execution_count": 69,
      "outputs": [
        {
          "output_type": "execute_result",
          "data": {
            "text/plain": [
              "(array([0, 1]), array([334399,  46710]))"
            ]
          },
          "metadata": {},
          "execution_count": 69
        }
      ]
    },
    {
      "cell_type": "code",
      "source": [
        "x_train,x_val,y_train,y_val = train_test_split(x_train_ohe,y_train_all,test_size = 0.30 ,random_state = 5)"
      ],
      "metadata": {
        "id": "K6fdGJQVJ9uv"
      },
      "execution_count": 65,
      "outputs": []
    },
    {
      "cell_type": "markdown",
      "source": [
        "### Baseline Model with imbalanced dataset"
      ],
      "metadata": {
        "id": "NDKx6Trjmfne"
      }
    },
    {
      "cell_type": "code",
      "source": [
        "lr=LogisticRegression(solver=\"liblinear\", random_state=5)\n",
        "\n",
        "lr.fit(x_train,y_train)"
      ],
      "metadata": {
        "colab": {
          "base_uri": "https://localhost:8080/"
        },
        "id": "tKbKF8y6miye",
        "outputId": "07dfdc96-7108-4b3b-ed12-9fddb0956936"
      },
      "execution_count": 66,
      "outputs": [
        {
          "output_type": "execute_result",
          "data": {
            "text/plain": [
              "LogisticRegression(random_state=5, solver='liblinear')"
            ]
          },
          "metadata": {},
          "execution_count": 66
        }
      ]
    },
    {
      "cell_type": "markdown",
      "source": [
        "Plotting ROC curve for baseline model"
      ],
      "metadata": {
        "id": "OXGnPwU_misd"
      }
    },
    {
      "cell_type": "code",
      "source": [
        "ns_probs = [0 for _ in range(len(y_val))]\n",
        "\n",
        "lr_probs = lr.predict_proba(x_val)\n",
        "# keep probabilities for the positive outcome only\n",
        "lr_probs = lr_probs[:, 1]\n",
        "# calculate scores\n",
        "ns_auc = roc_auc_score(y_val, ns_probs)\n",
        "lr_auc = roc_auc_score(y_val, lr_probs)\n",
        "# summarize scores\n",
        "print('No Skill: ROC AUC=%.3f' % (ns_auc))\n",
        "print('Logistic: ROC AUC=%.3f' % (lr_auc))\n",
        "# calculate roc curves\n",
        "ns_fpr, ns_tpr, _ = roc_curve(y_val, ns_probs)\n",
        "lr_fpr, lr_tpr, _ = roc_curve(y_val, lr_probs)\n",
        "# plot the roc curve for the model\n",
        "plt.plot(ns_fpr, ns_tpr, linestyle='--', label='No Skill')\n",
        "plt.plot(lr_fpr, lr_tpr, marker='.', label='Logistic')\n",
        "# axis labels\n",
        "plt.xlabel('False Positive Rate')\n",
        "plt.ylabel('True Positive Rate')\n",
        "# show the legend\n",
        "plt.legend()\n",
        "# show the plot\n",
        "\n",
        "plt.show()"
      ],
      "metadata": {
        "colab": {
          "base_uri": "https://localhost:8080/",
          "height": 314
        },
        "id": "PEIgh_S4S3CN",
        "outputId": "475c8100-506d-4f51-adde-94bfc14b7f70"
      },
      "execution_count": 67,
      "outputs": [
        {
          "output_type": "stream",
          "name": "stdout",
          "text": [
            "No Skill: ROC AUC=0.500\n",
            "Logistic: ROC AUC=0.848\n"
          ]
        },
        {
          "output_type": "display_data",
          "data": {
            "image/png": "[encoded data removed]",
            "text/plain": [
              "<Figure size 432x288 with 1 Axes>"
            ]
          },
          "metadata": {
            "needs_background": "light"
          }
        }
      ]
    },
    {
      "cell_type": "markdown",
      "source": [
        "with the simplest classification model algorithm we are able to get ROC-AUC score as 84.8"
      ],
      "metadata": {
        "id": "AAmJQtXSS28w"
      }
    },
    {
      "cell_type": "markdown",
      "source": [
        "#### Testing other models"
      ],
      "metadata": {
        "id": "O0LahmfrZjDp"
      }
    },
    {
      "cell_type": "code",
      "source": [
        "models=[]\n",
        "models.append(('LogisticRegression',LogisticRegression(solver=\"liblinear\", random_state=5)))\n",
        "models.append(('DecisionTree',DecisionTreeClassifier(random_state=5)))\n",
        "models.append(('RandomForest',RandomForestClassifier(random_state=5)))\n",
        "models.append(('knn',KNeighborsClassifier()))"
      ],
      "metadata": {
        "id": "v8OvqoU-XMVQ"
      },
      "execution_count": null,
      "outputs": []
    },
    {
      "cell_type": "code",
      "source": [
        "results=[]\n",
        "names=[]\n",
        "for name,model in models:   \n",
        "    kf=KFold(n_splits=5,shuffle=True,random_state=5)\n",
        "    cv_score=cross_val_score(model,x_train,y_train,cv=kf,\n",
        "                             scoring='roc_auc',verbose=1,n_jobs=-1)\n",
        "    results.append(cv_score)\n",
        "    names.append(name)\n",
        "    msg = \"%s: %f (%f)\" % (name, cv_score.mean(), cv_score.std())\n",
        "    print(msg)"
      ],
      "metadata": {
        "id": "ZY40MjjOXMNK"
      },
      "execution_count": null,
      "outputs": []
    },
    {
      "cell_type": "code",
      "source": [
        "fig = plt.figure()\n",
        "fig.suptitle('Algorithm Comparison')\n",
        "ax = fig.add_subplot(111)\n",
        "plt.boxplot(results)\n",
        "ax.set_xticklabels(names)\n",
        "# plt.savefig('model_comparison.png')\n",
        "plt.show()"
      ],
      "metadata": {
        "id": "tAebFR2MS23K"
      },
      "execution_count": null,
      "outputs": []
    },
    {
      "cell_type": "code",
      "source": [
        ""
      ],
      "metadata": {
        "id": "Ycj_oG5VUpjC"
      },
      "execution_count": null,
      "outputs": []
    },
    {
      "cell_type": "markdown",
      "source": [
        "### Baseline model with Balanced Dataset"
      ],
      "metadata": {
        "id": "g5sUuW6GUzlj"
      }
    },
    {
      "cell_type": "code",
      "source": [
        "from imblearn.over_sampling import SMOTE"
      ],
      "metadata": {
        "id": "d7Ye432ZT1ta"
      },
      "execution_count": 68,
      "outputs": []
    },
    {
      "cell_type": "code",
      "source": [
        "smote = SMOTE()\n",
        "\n",
        "x_balanced, y_balanced = smote.fit_resample(x_train_ohe, y_train_all)\n",
        "\n",
        "x_train_balanced, x_val_balanced, y_train_balanced, y_val_balanced = train_test_split(x_balanced,\n",
        "                                                                                      y_balanced,\n",
        "                                                                                      test_size=0.3,\n",
        "                                                                                      random_state=5)"
      ],
      "metadata": {
        "id": "vSetEV5rT1pD"
      },
      "execution_count": 70,
      "outputs": []
    },
    {
      "cell_type": "code",
      "source": [
        "plt.subplot(121)\n",
        "sns.countplot(y_train)\n",
        "plt.title('Imbalanced dataset')\n",
        "\n",
        "plt.subplot(122)\n",
        "sns.countplot(y_train_balanced)\n",
        "plt.title('Balanced dataset')\n",
        "\n",
        "plt.tight_layout()\n",
        "plt.show()"
      ],
      "metadata": {
        "colab": {
          "base_uri": "https://localhost:8080/",
          "height": 297
        },
        "id": "ik6TwuFyUpob",
        "outputId": "20da5b92-e6c1-4429-e157-bb5bd4759e52"
      },
      "execution_count": 71,
      "outputs": [
        {
          "output_type": "display_data",
          "data": {
            "image/png": "[encoded data removed]",
            "text/plain": [
              "<Figure size 432x288 with 2 Axes>"
            ]
          },
          "metadata": {
            "needs_background": "light"
          }
        }
      ]
    },
    {
      "cell_type": "code",
      "source": [
        "lr_balanced=LogisticRegression(solver=\"liblinear\", random_state=0)\n",
        "\n",
        "lr_balanced.fit(x_train_balanced,y_train_balanced)"
      ],
      "metadata": {
        "colab": {
          "base_uri": "https://localhost:8080/"
        },
        "id": "pJPC9ai7Updu",
        "outputId": "76339065-4235-4e7e-cbf5-ac26f9b9edf0"
      },
      "execution_count": 73,
      "outputs": [
        {
          "output_type": "execute_result",
          "data": {
            "text/plain": [
              "LogisticRegression(random_state=0, solver='liblinear')"
            ]
          },
          "metadata": {},
          "execution_count": 73
        }
      ]
    },
    {
      "cell_type": "code",
      "source": [
        "ns_probs = [0 for _ in range(len(y_val_balanced))]\n",
        "\n",
        "lr_probs = lr_balanced.predict_proba(x_val_balanced)\n",
        "# keep probabilities for the positive outcome only\n",
        "lr_probs = lr_probs[:, 1]\n",
        "# calculate scores\n",
        "ns_auc = roc_auc_score(y_val_balanced, ns_probs)\n",
        "lr_auc = roc_auc_score(y_val_balanced, lr_probs)\n",
        "# summarize scores\n",
        "print('No Skill: ROC AUC=%.3f' % (ns_auc))\n",
        "print('Logistic: ROC AUC=%.3f' % (lr_auc))\n",
        "# calculate roc curves\n",
        "ns_fpr, ns_tpr, _ = roc_curve(y_val_balanced, ns_probs)\n",
        "lr_fpr, lr_tpr, _ = roc_curve(y_val_balanced, lr_probs)\n",
        "# plot the roc curve for the model\n",
        "plt.plot(ns_fpr, ns_tpr, linestyle='--', label='No Skill')\n",
        "plt.plot(lr_fpr, lr_tpr, marker='.', label='Logistic')\n",
        "# axis labels\n",
        "plt.xlabel('False Positive Rate')\n",
        "plt.ylabel('True Positive Rate')\n",
        "# show the legend\n",
        "plt.legend()\n",
        "# show the plot\n",
        "\n",
        "plt.title('ROC-AUC_Curve')\n",
        "\n",
        "plt.show()"
      ],
      "metadata": {
        "colab": {
          "base_uri": "https://localhost:8080/",
          "height": 330
        },
        "id": "HLEf-M2tUpYi",
        "outputId": "49c66d80-d28e-4119-b8a1-bee36b8e1a2d"
      },
      "execution_count": 74,
      "outputs": [
        {
          "output_type": "stream",
          "name": "stdout",
          "text": [
            "No Skill: ROC AUC=0.500\n",
            "Logistic: ROC AUC=0.853\n"
          ]
        },
        {
          "output_type": "display_data",
          "data": {
            "image/png": "[encoded data removed]",
            "text/plain": [
              "<Figure size 432x288 with 1 Axes>"
            ]
          },
          "metadata": {
            "needs_background": "light"
          }
        }
      ]
    },
    {
      "cell_type": "markdown",
      "source": [
        "with balanced dataset, ROC_AUC score is 85.3"
      ],
      "metadata": {
        "id": "QnQLEDYwUpTo"
      }
    },
    {
      "cell_type": "code",
      "source": [
        ""
      ],
      "metadata": {
        "id": "GBBFDi_iT1iE"
      },
      "execution_count": null,
      "outputs": []
    },
    {
      "cell_type": "markdown",
      "source": [
        "#### Testing other models"
      ],
      "metadata": {
        "id": "BgV26NCAZp5C"
      }
    },
    {
      "cell_type": "code",
      "source": [
        "models=[]\n",
        "models.append(('LogisticRegression',LogisticRegression(solver=\"liblinear\", random_state=5)))\n",
        "models.append(('DecisionTree',DecisionTreeClassifier(random_state=5)))\n",
        "models.append(('RandomForest',RandomForestClassifier(random_state=5)))\n",
        "models.append(('knn',KNeighborsClassifier()))"
      ],
      "metadata": {
        "id": "BtpG1b4QY6Zd"
      },
      "execution_count": 75,
      "outputs": []
    },
    {
      "cell_type": "code",
      "source": [
        "results=[]\n",
        "names=[]\n",
        "for name,model in models:   \n",
        "    kf=KFold(n_splits=5,shuffle=True,random_state=5)\n",
        "    cv_score=cross_val_score(model,x_train_balanced,y_train_balanced,cv=kf,\n",
        "                             scoring='roc_auc',verbose=1,n_jobs=-1)\n",
        "    results.append(cv_score)\n",
        "    names.append(name)\n",
        "    msg = \"%s: %f (%f)\" % (name, cv_score.mean(), cv_score.std())\n",
        "    print(msg)"
      ],
      "metadata": {
        "colab": {
          "base_uri": "https://localhost:8080/"
        },
        "id": "TqVPt1weY6UX",
        "outputId": "9a6d6ce9-38fd-4158-ab78-be919c2a0225"
      },
      "execution_count": null,
      "outputs": [
        {
          "output_type": "stream",
          "name": "stderr",
          "text": [
            "[Parallel(n_jobs=-1)]: Using backend LokyBackend with 2 concurrent workers.\n",
            "[Parallel(n_jobs=-1)]: Done   5 out of   5 | elapsed:   25.0s finished\n",
            "[Parallel(n_jobs=-1)]: Using backend LokyBackend with 2 concurrent workers.\n"
          ]
        },
        {
          "output_type": "stream",
          "name": "stdout",
          "text": [
            "LogisticRegression: 0.851408 (0.000887)\n"
          ]
        },
        {
          "output_type": "stream",
          "name": "stderr",
          "text": [
            "[Parallel(n_jobs=-1)]: Done   5 out of   5 | elapsed:  2.4min finished\n",
            "[Parallel(n_jobs=-1)]: Using backend LokyBackend with 2 concurrent workers.\n"
          ]
        },
        {
          "output_type": "stream",
          "name": "stdout",
          "text": [
            "DecisionTree: 0.883811 (0.001267)\n"
          ]
        }
      ]
    },
    {
      "cell_type": "code",
      "source": [
        ""
      ],
      "metadata": {
        "id": "P_kBictnY6Qh"
      },
      "execution_count": null,
      "outputs": []
    },
    {
      "cell_type": "code",
      "source": [
        "fig = plt.figure()\n",
        "fig.suptitle('Algorithm Comparison')\n",
        "ax = fig.add_subplot(111)\n",
        "plt.boxplot(results)\n",
        "ax.set_xticklabels(names)\n",
        "# plt.savefig('model_comparison.png')\n",
        "plt.show()"
      ],
      "metadata": {
        "id": "ltl0mzOYY6L_"
      },
      "execution_count": null,
      "outputs": []
    },
    {
      "cell_type": "code",
      "source": [
        "for name,model in models:\n",
        "#     model = m['model'] # select the model\n",
        "    model.fit(x_train_balanced, y_train_balanced) # train the model\n",
        "    y_pred=model.predict(x_val_balanced) # predict the test data\n",
        "# Compute False postive rate, and True positive rate\n",
        "    fpr, tpr, thresholds = roc_curve(y_val_balanced, model.predict_proba(x_val_balanced)[:,1])\n",
        "# Calculate Area under the curve to display on the plot\n",
        "    auc =roc_auc_score(y_val_balanced,model.predict(x_val_balanced))\n",
        "# Now, plot the computed values\n",
        "    plt.plot(fpr, tpr, label='%s ROC (area = %0.2f)' % (name, auc))\n",
        "# Custom settings for the plot \n",
        "plt.plot([0, 1], [0, 1],'r--')\n",
        "plt.xlim([0.0, 1.0])\n",
        "plt.ylim([0.0, 1.05])\n",
        "plt.xlabel('1-Specificity(False Positive Rate)')\n",
        "plt.ylabel('Sensitivity(True Positive Rate)')\n",
        "plt.title('Receiver Operating Characteristic')\n",
        "plt.legend(loc=\"lower right\")\n",
        "plt.show()   # Display"
      ],
      "metadata": {
        "id": "ENc2CbI1Y6Hp"
      },
      "execution_count": null,
      "outputs": []
    },
    {
      "cell_type": "code",
      "source": [
        ""
      ],
      "metadata": {
        "id": "gNKks-BQY6Cv"
      },
      "execution_count": null,
      "outputs": []
    },
    {
      "cell_type": "markdown",
      "source": [
        "## With Set 2 Features"
      ],
      "metadata": {
        "id": "8cop0OrPY5-l"
      }
    },
    {
      "cell_type": "markdown",
      "source": [
        "### Baseline model with imbalanced dataset"
      ],
      "metadata": {
        "id": "CSTS7RwGY551"
      }
    },
    {
      "cell_type": "code",
      "source": [
        "x_train,x_val,y_train,y_val = train_test_split(x_train_r,y_train_all,test_size = 0.30 ,random_state = 5)"
      ],
      "metadata": {
        "id": "andRn0tvY51I"
      },
      "execution_count": null,
      "outputs": []
    },
    {
      "cell_type": "code",
      "source": [
        "lr=LogisticRegression(solver=\"liblinear\", random_state=5)\n",
        "\n",
        "lr.fit(x_train,y_train)"
      ],
      "metadata": {
        "id": "5b0E6M8LY5w9"
      },
      "execution_count": null,
      "outputs": []
    },
    {
      "cell_type": "code",
      "source": [
        ""
      ],
      "metadata": {
        "id": "i9c7GJYjY5sF"
      },
      "execution_count": null,
      "outputs": []
    },
    {
      "cell_type": "code",
      "source": [
        "ns_probs = [0 for _ in range(len(y_val))]\n",
        "\n",
        "lr_probs = lr.predict_proba(x_val)\n",
        "# keep probabilities for the positive outcome only\n",
        "lr_probs = lr_probs[:, 1]\n",
        "# calculate scores\n",
        "ns_auc = roc_auc_score(y_val, ns_probs)\n",
        "lr_auc = roc_auc_score(y_val, lr_probs)\n",
        "# summarize scores\n",
        "print('No Skill: ROC AUC=%.3f' % (ns_auc))\n",
        "print('Logistic: ROC AUC=%.3f' % (lr_auc))\n",
        "# calculate roc curves\n",
        "ns_fpr, ns_tpr, _ = roc_curve(y_val, ns_probs)\n",
        "lr_fpr, lr_tpr, _ = roc_curve(y_val, lr_probs)\n",
        "# plot the roc curve for the model\n",
        "plt.plot(ns_fpr, ns_tpr, linestyle='--', label='No Skill')\n",
        "plt.plot(lr_fpr, lr_tpr, marker='.', label='Logistic')\n",
        "# axis labels\n",
        "plt.xlabel('False Positive Rate')\n",
        "plt.ylabel('True Positive Rate')\n",
        "# show the legend\n",
        "plt.legend()\n",
        "# show the plot\n",
        "\n",
        "plt.show()"
      ],
      "metadata": {
        "id": "W3IgUh-GY5nv"
      },
      "execution_count": null,
      "outputs": []
    },
    {
      "cell_type": "code",
      "source": [
        ""
      ],
      "metadata": {
        "id": "dHURWa1GaCjY"
      },
      "execution_count": null,
      "outputs": []
    },
    {
      "cell_type": "code",
      "source": [
        ""
      ],
      "metadata": {
        "id": "n8QLEIzqaCvG"
      },
      "execution_count": null,
      "outputs": []
    },
    {
      "cell_type": "markdown",
      "source": [
        "#### Testing other models"
      ],
      "metadata": {
        "id": "64Aaql0YY5jX"
      }
    },
    {
      "cell_type": "code",
      "source": [
        "models=[]\n",
        "models.append(('LogisticRegression',LogisticRegression(solver=\"liblinear\", random_state=5)))\n",
        "models.append(('DecisionTree',DecisionTreeClassifier(random_state=5)))\n",
        "models.append(('RandomForest',RandomForestClassifier(random_state=5)))\n",
        "models.append(('knn',KNeighborsClassifier()))"
      ],
      "metadata": {
        "id": "ifHuUGmWY5eR"
      },
      "execution_count": null,
      "outputs": []
    },
    {
      "cell_type": "code",
      "source": [
        "results=[]\n",
        "names=[]\n",
        "for name,model in models:   \n",
        "    kf=KFold(n_splits=5,shuffle=True,random_state=5)\n",
        "    cv_score=cross_val_score(model,x_train,y_train,cv=kf,\n",
        "                             scoring='roc_auc',verbose=1,n_jobs=-1)\n",
        "    results.append(cv_score)\n",
        "    names.append(name)\n",
        "    msg = \"%s: %f (%f)\" % (name, cv_score.mean(), cv_score.std())\n",
        "    print(msg)"
      ],
      "metadata": {
        "id": "_RbKOCbwY5aR"
      },
      "execution_count": null,
      "outputs": []
    },
    {
      "cell_type": "code",
      "source": [
        "fig = plt.figure()\n",
        "fig.suptitle('Algorithm Comparison')\n",
        "ax = fig.add_subplot(111)\n",
        "plt.boxplot(results)\n",
        "ax.set_xticklabels(names)\n",
        "# plt.savefig('model_comparison.png')\n",
        "plt.show()"
      ],
      "metadata": {
        "id": "WnOFw1ZaY5VP"
      },
      "execution_count": null,
      "outputs": []
    },
    {
      "cell_type": "code",
      "source": [
        "for name,model in models:\n",
        "#     model = m['model'] # select the model\n",
        "    model.fit(x_train_balanced, y_train_balanced) # train the model\n",
        "    y_pred=model.predict(x_val_balanced) # predict the test data\n",
        "# Compute False postive rate, and True positive rate\n",
        "    fpr, tpr, thresholds = roc_curve(y_val_balanced, model.predict_proba(x_val_balanced)[:,1])\n",
        "# Calculate Area under the curve to display on the plot\n",
        "    auc =roc_auc_score(y_val_balanced,model.predict(x_val_balanced))\n",
        "# Now, plot the computed values\n",
        "    plt.plot(fpr, tpr, label='%s ROC (area = %0.2f)' % (name, auc))\n",
        "# Custom settings for the plot \n",
        "plt.plot([0, 1], [0, 1],'r--')\n",
        "plt.xlim([0.0, 1.0])\n",
        "plt.ylim([0.0, 1.05])\n",
        "plt.xlabel('1-Specificity(False Positive Rate)')\n",
        "plt.ylabel('Sensitivity(True Positive Rate)')\n",
        "plt.title('Receiver Operating Characteristic')\n",
        "plt.legend(loc=\"lower right\")\n",
        "plt.show()   # Display"
      ],
      "metadata": {
        "id": "Rg-MsFDzaL7Y"
      },
      "execution_count": null,
      "outputs": []
    },
    {
      "cell_type": "code",
      "source": [
        ""
      ],
      "metadata": {
        "id": "q-FmAN2faMAe"
      },
      "execution_count": null,
      "outputs": []
    },
    {
      "cell_type": "code",
      "source": [
        ""
      ],
      "metadata": {
        "id": "EGmYO-wqY5Qx"
      },
      "execution_count": null,
      "outputs": []
    },
    {
      "cell_type": "markdown",
      "source": [
        "### Baseline model with balanced dataset"
      ],
      "metadata": {
        "id": "n-zJC0SnY5K6"
      }
    },
    {
      "cell_type": "code",
      "source": [
        "smote = SMOTE()\n",
        "\n",
        "x_balanced, y_balanced = smote.fit_resample(x_train_r, y_train_all)\n",
        "\n",
        "x_train_balanced, x_val_balanced, y_train_balanced, y_val_balanced = train_test_split(x_balanced,\n",
        "                                                                                      y_balanced,\n",
        "                                                                                      test_size=0.3,\n",
        "                                                                                      random_state=5)"
      ],
      "metadata": {
        "id": "uEW8qUMuJ93u"
      },
      "execution_count": null,
      "outputs": []
    },
    {
      "cell_type": "code",
      "source": [
        "plt.subplot(121)\n",
        "sns.countplot(y_train)\n",
        "plt.title('Imbalanced dataset')\n",
        "\n",
        "plt.subplot(122)\n",
        "sns.countplot(y_train_balanced)\n",
        "plt.title('Balanced dataset')\n",
        "\n",
        "plt.tight_layout()\n",
        "plt.show()"
      ],
      "metadata": {
        "id": "YaC7UciKJ996"
      },
      "execution_count": null,
      "outputs": []
    },
    {
      "cell_type": "code",
      "source": [
        "lr_balanced=LogisticRegression(solver=\"liblinear\", random_state=0)\n",
        "\n",
        "lr_balanced.fit(x_train_balanced,y_train_balanced)"
      ],
      "metadata": {
        "id": "_XVuIFOxU0pC"
      },
      "execution_count": null,
      "outputs": []
    },
    {
      "cell_type": "code",
      "source": [
        "ns_probs = [0 for _ in range(len(y_val_balanced))]\n",
        "\n",
        "lr_probs = lr_balanced.predict_proba(x_val_balanced)\n",
        "# keep probabilities for the positive outcome only\n",
        "lr_probs = lr_probs[:, 1]\n",
        "# calculate scores\n",
        "ns_auc = roc_auc_score(y_val_balanced, ns_probs)\n",
        "lr_auc = roc_auc_score(y_val_balanced, lr_probs)\n",
        "# summarize scores\n",
        "print('No Skill: ROC AUC=%.3f' % (ns_auc))\n",
        "print('Logistic: ROC AUC=%.3f' % (lr_auc))\n",
        "# calculate roc curves\n",
        "ns_fpr, ns_tpr, _ = roc_curve(y_val_balanced, ns_probs)\n",
        "lr_fpr, lr_tpr, _ = roc_curve(y_val_balanced, lr_probs)\n",
        "# plot the roc curve for the model\n",
        "plt.plot(ns_fpr, ns_tpr, linestyle='--', label='No Skill')\n",
        "plt.plot(lr_fpr, lr_tpr, marker='.', label='Logistic')\n",
        "# axis labels\n",
        "plt.xlabel('False Positive Rate')\n",
        "plt.ylabel('True Positive Rate')\n",
        "# show the legend\n",
        "plt.legend()\n",
        "# show the plot\n",
        "\n",
        "plt.title('ROC-AUC_Curve')\n",
        "\n",
        "plt.show()"
      ],
      "metadata": {
        "id": "2jLrR4lIU0tE"
      },
      "execution_count": null,
      "outputs": []
    },
    {
      "cell_type": "code",
      "source": [
        ""
      ],
      "metadata": {
        "id": "wy0dqdg0U0xi"
      },
      "execution_count": null,
      "outputs": []
    },
    {
      "cell_type": "markdown",
      "source": [
        "#### Testing other models"
      ],
      "metadata": {
        "id": "44IUiBQaZvdh"
      }
    },
    {
      "cell_type": "code",
      "source": [
        "models=[]\n",
        "models.append(('LogisticRegression',LogisticRegression(solver=\"liblinear\", random_state=5)))\n",
        "models.append(('DecisionTree',DecisionTreeClassifier(random_state=5)))\n",
        "models.append(('RandomForest',RandomForestClassifier(random_state=5)))\n",
        "models.append(('knn',KNeighborsClassifier()))"
      ],
      "metadata": {
        "id": "arN-hcVmZyh7"
      },
      "execution_count": null,
      "outputs": []
    },
    {
      "cell_type": "code",
      "source": [
        "results=[]\n",
        "names=[]\n",
        "for name,model in models:   \n",
        "    kf=KFold(n_splits=5,shuffle=True,random_state=5)\n",
        "    cv_score=cross_val_score(model,x_train_balanced,y_train_balanced,cv=kf,\n",
        "                             scoring='roc_auc',verbose=1,n_jobs=-1)\n",
        "    results.append(cv_score)\n",
        "    names.append(name)\n",
        "    msg = \"%s: %f (%f)\" % (name, cv_score.mean(), cv_score.std())\n",
        "    print(msg)"
      ],
      "metadata": {
        "id": "UGLjbP-7ZybI"
      },
      "execution_count": null,
      "outputs": []
    },
    {
      "cell_type": "code",
      "source": [
        "fig = plt.figure()\n",
        "fig.suptitle('Algorithm Comparison')\n",
        "ax = fig.add_subplot(111)\n",
        "plt.boxplot(results)\n",
        "ax.set_xticklabels(names)\n",
        "# plt.savefig('model_comparison.png')\n",
        "plt.show()"
      ],
      "metadata": {
        "id": "Vpvs_Z41Zvhv"
      },
      "execution_count": null,
      "outputs": []
    },
    {
      "cell_type": "code",
      "source": [
        "for name,model in models:\n",
        "#     model = m['model'] # select the model\n",
        "    model.fit(x_train_balanced, y_train_balanced) # train the model\n",
        "    y_pred=model.predict(x_val_balanced) # predict the test data\n",
        "# Compute False postive rate, and True positive rate\n",
        "    fpr, tpr, thresholds = roc_curve(y_val_balanced, model.predict_proba(x_val_balanced)[:,1])\n",
        "# Calculate Area under the curve to display on the plot\n",
        "    auc =roc_auc_score(y_val_balanced,model.predict(x_val_balanced))\n",
        "# Now, plot the computed values\n",
        "    plt.plot(fpr, tpr, label='%s ROC (area = %0.2f)' % (name, auc))\n",
        "# Custom settings for the plot \n",
        "plt.plot([0, 1], [0, 1],'r--')\n",
        "plt.xlim([0.0, 1.0])\n",
        "plt.ylim([0.0, 1.05])\n",
        "plt.xlabel('1-Specificity(False Positive Rate)')\n",
        "plt.ylabel('Sensitivity(True Positive Rate)')\n",
        "plt.title('Receiver Operating Characteristic')\n",
        "plt.legend(loc=\"lower right\")\n",
        "plt.show()   # Display"
      ],
      "metadata": {
        "id": "j8zlDwJpZvnM"
      },
      "execution_count": null,
      "outputs": []
    },
    {
      "cell_type": "code",
      "source": [
        ""
      ],
      "metadata": {
        "id": "ya11U5I5aeRS"
      },
      "execution_count": null,
      "outputs": []
    },
    {
      "cell_type": "code",
      "source": [
        ""
      ],
      "metadata": {
        "id": "bMoQ0pPVaeVq"
      },
      "execution_count": null,
      "outputs": []
    },
    {
      "cell_type": "code",
      "source": [
        ""
      ],
      "metadata": {
        "id": "k2dN5dbsaef-"
      },
      "execution_count": null,
      "outputs": []
    }
  ]
}