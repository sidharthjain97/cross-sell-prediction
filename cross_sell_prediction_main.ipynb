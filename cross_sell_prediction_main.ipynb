{
  "nbformat": 4,
  "nbformat_minor": 0,
  "metadata": {
    "colab": {
      "name": "cross-sell-prediction-main.ipynb",
      "provenance": [],
      "collapsed_sections": [
        "lPJ1ejJBUzhL"
      ],
      "toc_visible": true
    },
    "kernelspec": {
      "name": "python3",
      "display_name": "Python 3"
    },
    "language_info": {
      "name": "python"
    }
  },
  "cells": [
    {
      "cell_type": "code",
      "execution_count": null,
      "metadata": {
        "id": "7a4_P60pUx7O"
      },
      "outputs": [],
      "source": [
        ""
      ]
    },
    {
      "cell_type": "markdown",
      "source": [
        "# Importing Libraries"
      ],
      "metadata": {
        "id": "-XjdooRTUyls"
      }
    },
    {
      "cell_type": "code",
      "source": [
        "import pandas as pd\n",
        "import numpy as np\n",
        "import matplotlib.pyplot as plt\n",
        "import seaborn as sns\n",
        "from tqdm import tqdm\n",
        "from collections import Counter\n",
        "import warnings\n",
        "warnings.filterwarnings(\"ignore\")"
      ],
      "metadata": {
        "id": "LmUX8joCUyqj"
      },
      "execution_count": 1,
      "outputs": []
    },
    {
      "cell_type": "code",
      "source": [
        "from sklearn.metrics import accuracy_score, f1_score, auc, roc_curve, confusion_matrix, roc_auc_score\n",
        "from sklearn.linear_model import LogisticRegression\n",
        "from sklearn.tree import DecisionTreeClassifier\n",
        "from sklearn.ensemble import RandomForestClassifier\n",
        "from sklearn.model_selection import GridSearchCV"
      ],
      "metadata": {
        "id": "ZoVVMiuMUyua"
      },
      "execution_count": 2,
      "outputs": []
    },
    {
      "cell_type": "code",
      "source": [
        "train = pd.read_csv('train.csv')\n",
        "train.shape"
      ],
      "metadata": {
        "colab": {
          "base_uri": "https://localhost:8080/"
        },
        "id": "jOE0ZnlnUyyL",
        "outputId": "1e3da7dd-19bc-433c-af85-c3e531d58d20"
      },
      "execution_count": 3,
      "outputs": [
        {
          "output_type": "execute_result",
          "data": {
            "text/plain": [
              "(381109, 12)"
            ]
          },
          "metadata": {},
          "execution_count": 3
        }
      ]
    },
    {
      "cell_type": "code",
      "source": [
        "test = pd.read_csv('test.csv')\n",
        "test.shape"
      ],
      "metadata": {
        "colab": {
          "base_uri": "https://localhost:8080/"
        },
        "id": "z_kn7Eg01Fsp",
        "outputId": "e92dac9b-73da-471d-be8a-43e5f7a97b04"
      },
      "execution_count": 4,
      "outputs": [
        {
          "output_type": "execute_result",
          "data": {
            "text/plain": [
              "(127037, 11)"
            ]
          },
          "metadata": {},
          "execution_count": 4
        }
      ]
    },
    {
      "cell_type": "code",
      "source": [
        "train.head()"
      ],
      "metadata": {
        "colab": {
          "base_uri": "https://localhost:8080/",
          "height": 206
        },
        "id": "HfQIaQGiUy2S",
        "outputId": "c1af2aba-66e9-4b70-dc3c-b9b38fef86ed"
      },
      "execution_count": 5,
      "outputs": [
        {
          "output_type": "execute_result",
          "data": {
            "text/html": [
              "\n",
              "  <div id=\"df-716d45d6-567a-4ca5-84dc-ce3fa5407dd6\">\n",
              "    <div class=\"colab-df-container\">\n",
              "      <div>\n",
              "<style scoped>\n",
              "    .dataframe tbody tr th:only-of-type {\n",
              "        vertical-align: middle;\n",
              "    }\n",
              "\n",
              "    .dataframe tbody tr th {\n",
              "        vertical-align: top;\n",
              "    }\n",
              "\n",
              "    .dataframe thead th {\n",
              "        text-align: right;\n",
              "    }\n",
              "</style>\n",
              "<table border=\"1\" class=\"dataframe\">\n",
              "  <thead>\n",
              "    <tr style=\"text-align: right;\">\n",
              "      <th></th>\n",
              "      <th>id</th>\n",
              "      <th>Gender</th>\n",
              "      <th>Age</th>\n",
              "      <th>Driving_License</th>\n",
              "      <th>Region_Code</th>\n",
              "      <th>Previously_Insured</th>\n",
              "      <th>Vehicle_Age</th>\n",
              "      <th>Vehicle_Damage</th>\n",
              "      <th>Annual_Premium</th>\n",
              "      <th>Policy_Sales_Channel</th>\n",
              "      <th>Vintage</th>\n",
              "      <th>Response</th>\n",
              "    </tr>\n",
              "  </thead>\n",
              "  <tbody>\n",
              "    <tr>\n",
              "      <th>0</th>\n",
              "      <td>1</td>\n",
              "      <td>Male</td>\n",
              "      <td>44</td>\n",
              "      <td>1</td>\n",
              "      <td>28.0</td>\n",
              "      <td>0</td>\n",
              "      <td>&gt; 2 Years</td>\n",
              "      <td>Yes</td>\n",
              "      <td>40454.0</td>\n",
              "      <td>26.0</td>\n",
              "      <td>217</td>\n",
              "      <td>1</td>\n",
              "    </tr>\n",
              "    <tr>\n",
              "      <th>1</th>\n",
              "      <td>2</td>\n",
              "      <td>Male</td>\n",
              "      <td>76</td>\n",
              "      <td>1</td>\n",
              "      <td>3.0</td>\n",
              "      <td>0</td>\n",
              "      <td>1-2 Year</td>\n",
              "      <td>No</td>\n",
              "      <td>33536.0</td>\n",
              "      <td>26.0</td>\n",
              "      <td>183</td>\n",
              "      <td>0</td>\n",
              "    </tr>\n",
              "    <tr>\n",
              "      <th>2</th>\n",
              "      <td>3</td>\n",
              "      <td>Male</td>\n",
              "      <td>47</td>\n",
              "      <td>1</td>\n",
              "      <td>28.0</td>\n",
              "      <td>0</td>\n",
              "      <td>&gt; 2 Years</td>\n",
              "      <td>Yes</td>\n",
              "      <td>38294.0</td>\n",
              "      <td>26.0</td>\n",
              "      <td>27</td>\n",
              "      <td>1</td>\n",
              "    </tr>\n",
              "    <tr>\n",
              "      <th>3</th>\n",
              "      <td>4</td>\n",
              "      <td>Male</td>\n",
              "      <td>21</td>\n",
              "      <td>1</td>\n",
              "      <td>11.0</td>\n",
              "      <td>1</td>\n",
              "      <td>&lt; 1 Year</td>\n",
              "      <td>No</td>\n",
              "      <td>28619.0</td>\n",
              "      <td>152.0</td>\n",
              "      <td>203</td>\n",
              "      <td>0</td>\n",
              "    </tr>\n",
              "    <tr>\n",
              "      <th>4</th>\n",
              "      <td>5</td>\n",
              "      <td>Female</td>\n",
              "      <td>29</td>\n",
              "      <td>1</td>\n",
              "      <td>41.0</td>\n",
              "      <td>1</td>\n",
              "      <td>&lt; 1 Year</td>\n",
              "      <td>No</td>\n",
              "      <td>27496.0</td>\n",
              "      <td>152.0</td>\n",
              "      <td>39</td>\n",
              "      <td>0</td>\n",
              "    </tr>\n",
              "  </tbody>\n",
              "</table>\n",
              "</div>\n",
              "      <button class=\"colab-df-convert\" onclick=\"convertToInteractive('df-716d45d6-567a-4ca5-84dc-ce3fa5407dd6')\"\n",
              "              title=\"Convert this dataframe to an interactive table.\"\n",
              "              style=\"display:none;\">\n",
              "        \n",
              "  <svg xmlns=\"http://www.w3.org/2000/svg\" height=\"24px\"viewBox=\"0 0 24 24\"\n",
              "       width=\"24px\">\n",
              "    <path d=\"M0 0h24v24H0V0z\" fill=\"none\"/>\n",
              "    <path d=\"M18.56 5.44l.94 2.06.94-2.06 2.06-.94-2.06-.94-.94-2.06-.94 2.06-2.06.94zm-11 1L8.5 8.5l.94-2.06 2.06-.94-2.06-.94L8.5 2.5l-.94 2.06-2.06.94zm10 10l.94 2.06.94-2.06 2.06-.94-2.06-.94-.94-2.06-.94 2.06-2.06.94z\"/><path d=\"M17.41 7.96l-1.37-1.37c-.4-.4-.92-.59-1.43-.59-.52 0-1.04.2-1.43.59L10.3 9.45l-7.72 7.72c-.78.78-.78 2.05 0 2.83L4 21.41c.39.39.9.59 1.41.59.51 0 1.02-.2 1.41-.59l7.78-7.78 2.81-2.81c.8-.78.8-2.07 0-2.86zM5.41 20L4 18.59l7.72-7.72 1.47 1.35L5.41 20z\"/>\n",
              "  </svg>\n",
              "      </button>\n",
              "      \n",
              "  <style>\n",
              "    .colab-df-container {\n",
              "      display:flex;\n",
              "      flex-wrap:wrap;\n",
              "      gap: 12px;\n",
              "    }\n",
              "\n",
              "    .colab-df-convert {\n",
              "      background-color: #E8F0FE;\n",
              "      border: none;\n",
              "      border-radius: 50%;\n",
              "      cursor: pointer;\n",
              "      display: none;\n",
              "      fill: #1967D2;\n",
              "      height: 32px;\n",
              "      padding: 0 0 0 0;\n",
              "      width: 32px;\n",
              "    }\n",
              "\n",
              "    .colab-df-convert:hover {\n",
              "      background-color: #E2EBFA;\n",
              "      box-shadow: 0px 1px 2px rgba(60, 64, 67, 0.3), 0px 1px 3px 1px rgba(60, 64, 67, 0.15);\n",
              "      fill: #174EA6;\n",
              "    }\n",
              "\n",
              "    [theme=dark] .colab-df-convert {\n",
              "      background-color: #3B4455;\n",
              "      fill: #D2E3FC;\n",
              "    }\n",
              "\n",
              "    [theme=dark] .colab-df-convert:hover {\n",
              "      background-color: #434B5C;\n",
              "      box-shadow: 0px 1px 3px 1px rgba(0, 0, 0, 0.15);\n",
              "      filter: drop-shadow(0px 1px 2px rgba(0, 0, 0, 0.3));\n",
              "      fill: #FFFFFF;\n",
              "    }\n",
              "  </style>\n",
              "\n",
              "      <script>\n",
              "        const buttonEl =\n",
              "          document.querySelector('#df-716d45d6-567a-4ca5-84dc-ce3fa5407dd6 button.colab-df-convert');\n",
              "        buttonEl.style.display =\n",
              "          google.colab.kernel.accessAllowed ? 'block' : 'none';\n",
              "\n",
              "        async function convertToInteractive(key) {\n",
              "          const element = document.querySelector('#df-716d45d6-567a-4ca5-84dc-ce3fa5407dd6');\n",
              "          const dataTable =\n",
              "            await google.colab.kernel.invokeFunction('convertToInteractive',\n",
              "                                                     [key], {});\n",
              "          if (!dataTable) return;\n",
              "\n",
              "          const docLinkHtml = 'Like what you see? Visit the ' +\n",
              "            '<a target=\"_blank\" href=https://colab.research.google.com/notebooks/data_table.ipynb>data table notebook</a>'\n",
              "            + ' to learn more about interactive tables.';\n",
              "          element.innerHTML = '';\n",
              "          dataTable['output_type'] = 'display_data';\n",
              "          await google.colab.output.renderOutput(dataTable, element);\n",
              "          const docLink = document.createElement('div');\n",
              "          docLink.innerHTML = docLinkHtml;\n",
              "          element.appendChild(docLink);\n",
              "        }\n",
              "      </script>\n",
              "    </div>\n",
              "  </div>\n",
              "  "
            ],
            "text/plain": [
              "   id  Gender  Age  ...  Policy_Sales_Channel  Vintage  Response\n",
              "0   1    Male   44  ...                  26.0      217         1\n",
              "1   2    Male   76  ...                  26.0      183         0\n",
              "2   3    Male   47  ...                  26.0       27         1\n",
              "3   4    Male   21  ...                 152.0      203         0\n",
              "4   5  Female   29  ...                 152.0       39         0\n",
              "\n",
              "[5 rows x 12 columns]"
            ]
          },
          "metadata": {},
          "execution_count": 5
        }
      ]
    },
    {
      "cell_type": "code",
      "source": [
        "train.info()"
      ],
      "metadata": {
        "colab": {
          "base_uri": "https://localhost:8080/"
        },
        "id": "bwq9wQUxUy6r",
        "outputId": "f0b977d2-8fda-4658-f9b1-8a0ab4e95024"
      },
      "execution_count": 6,
      "outputs": [
        {
          "output_type": "stream",
          "name": "stdout",
          "text": [
            "<class 'pandas.core.frame.DataFrame'>\n",
            "RangeIndex: 381109 entries, 0 to 381108\n",
            "Data columns (total 12 columns):\n",
            " #   Column                Non-Null Count   Dtype  \n",
            "---  ------                --------------   -----  \n",
            " 0   id                    381109 non-null  int64  \n",
            " 1   Gender                381109 non-null  object \n",
            " 2   Age                   381109 non-null  int64  \n",
            " 3   Driving_License       381109 non-null  int64  \n",
            " 4   Region_Code           381109 non-null  float64\n",
            " 5   Previously_Insured    381109 non-null  int64  \n",
            " 6   Vehicle_Age           381109 non-null  object \n",
            " 7   Vehicle_Damage        381109 non-null  object \n",
            " 8   Annual_Premium        381109 non-null  float64\n",
            " 9   Policy_Sales_Channel  381109 non-null  float64\n",
            " 10  Vintage               381109 non-null  int64  \n",
            " 11  Response              381109 non-null  int64  \n",
            "dtypes: float64(3), int64(6), object(3)\n",
            "memory usage: 34.9+ MB\n"
          ]
        }
      ]
    },
    {
      "cell_type": "code",
      "source": [
        "train.isna().sum()"
      ],
      "metadata": {
        "colab": {
          "base_uri": "https://localhost:8080/"
        },
        "id": "jlMaMREOUy-7",
        "outputId": "85408f77-76b3-46ff-b63c-526d19d0e14e"
      },
      "execution_count": 7,
      "outputs": [
        {
          "output_type": "execute_result",
          "data": {
            "text/plain": [
              "id                      0\n",
              "Gender                  0\n",
              "Age                     0\n",
              "Driving_License         0\n",
              "Region_Code             0\n",
              "Previously_Insured      0\n",
              "Vehicle_Age             0\n",
              "Vehicle_Damage          0\n",
              "Annual_Premium          0\n",
              "Policy_Sales_Channel    0\n",
              "Vintage                 0\n",
              "Response                0\n",
              "dtype: int64"
            ]
          },
          "metadata": {},
          "execution_count": 7
        }
      ]
    },
    {
      "cell_type": "code",
      "source": [
        ""
      ],
      "metadata": {
        "id": "MkOryW86UzCz"
      },
      "execution_count": 7,
      "outputs": []
    },
    {
      "cell_type": "markdown",
      "source": [
        "# Data Preprocessing\n",
        "* Convert the categorical features\n",
        "* Divide the numerical features into bins\n",
        "* Drop the unnecessary columns"
      ],
      "metadata": {
        "id": "OFhYy4RdUzGa"
      }
    },
    {
      "cell_type": "code",
      "source": [
        ""
      ],
      "metadata": {
        "id": "X0Gi9rcCUzKb"
      },
      "execution_count": 7,
      "outputs": []
    },
    {
      "cell_type": "code",
      "source": [
        "train['Gender'].unique()"
      ],
      "metadata": {
        "colab": {
          "base_uri": "https://localhost:8080/"
        },
        "id": "jJRvy5da2vA9",
        "outputId": "91edcb35-7837-4520-d549-87f5797a3548"
      },
      "execution_count": 8,
      "outputs": [
        {
          "output_type": "execute_result",
          "data": {
            "text/plain": [
              "array(['Male', 'Female'], dtype=object)"
            ]
          },
          "metadata": {},
          "execution_count": 8
        }
      ]
    },
    {
      "cell_type": "code",
      "source": [
        "train['Driving_License'].unique()"
      ],
      "metadata": {
        "colab": {
          "base_uri": "https://localhost:8080/"
        },
        "id": "-qsks13IjVcd",
        "outputId": "81564ddc-7fad-4d32-9069-18efbc1f5f1e"
      },
      "execution_count": 9,
      "outputs": [
        {
          "output_type": "execute_result",
          "data": {
            "text/plain": [
              "array([1, 0])"
            ]
          },
          "metadata": {},
          "execution_count": 9
        }
      ]
    },
    {
      "cell_type": "code",
      "source": [
        "train['Previously_Insured'].unique()"
      ],
      "metadata": {
        "colab": {
          "base_uri": "https://localhost:8080/"
        },
        "id": "5rPkmxu1jZ3N",
        "outputId": "0a0a1eea-1fb9-4310-acdf-e80276380194"
      },
      "execution_count": 10,
      "outputs": [
        {
          "output_type": "execute_result",
          "data": {
            "text/plain": [
              "array([0, 1])"
            ]
          },
          "metadata": {},
          "execution_count": 10
        }
      ]
    },
    {
      "cell_type": "code",
      "source": [
        "train['Region_Code'].unique()"
      ],
      "metadata": {
        "colab": {
          "base_uri": "https://localhost:8080/"
        },
        "id": "gswBl0cijZrT",
        "outputId": "3effb988-9730-4db2-bb09-fae69e7c95ff"
      },
      "execution_count": 11,
      "outputs": [
        {
          "output_type": "execute_result",
          "data": {
            "text/plain": [
              "array([28.,  3., 11., 41., 33.,  6., 35., 50., 15., 45.,  8., 36., 30.,\n",
              "       26., 16., 47., 48., 19., 39., 23., 37.,  5., 17.,  2.,  7., 29.,\n",
              "       46., 27., 25., 13., 18., 20., 49., 22., 44.,  0.,  9., 31., 12.,\n",
              "       34., 21., 10., 14., 38., 24., 40., 43., 32.,  4., 51., 42.,  1.,\n",
              "       52.])"
            ]
          },
          "metadata": {},
          "execution_count": 11
        }
      ]
    },
    {
      "cell_type": "code",
      "source": [
        "train['Vehicle_Age'].unique()"
      ],
      "metadata": {
        "colab": {
          "base_uri": "https://localhost:8080/"
        },
        "id": "NgO09oZajZQk",
        "outputId": "2e1194ba-e18f-4a4a-961e-e79e53e57c81"
      },
      "execution_count": 12,
      "outputs": [
        {
          "output_type": "execute_result",
          "data": {
            "text/plain": [
              "array(['> 2 Years', '1-2 Year', '< 1 Year'], dtype=object)"
            ]
          },
          "metadata": {},
          "execution_count": 12
        }
      ]
    },
    {
      "cell_type": "code",
      "source": [
        "train['Policy_Sales_Channel'].unique()"
      ],
      "metadata": {
        "colab": {
          "base_uri": "https://localhost:8080/"
        },
        "id": "VJPs_SWujwNW",
        "outputId": "57e12919-12e6-472a-b14c-9f2828177f70"
      },
      "execution_count": 13,
      "outputs": [
        {
          "output_type": "execute_result",
          "data": {
            "text/plain": [
              "array([ 26., 152., 160., 124.,  14.,  13.,  30., 156., 163., 157., 122.,\n",
              "        19.,  22.,  15., 154.,  16.,  52., 155.,  11., 151., 125.,  25.,\n",
              "        61.,   1.,  86.,  31., 150.,  23.,  60.,  21., 121.,   3., 139.,\n",
              "        12.,  29.,  55.,   7.,  47., 127., 153.,  78., 158.,  89.,  32.,\n",
              "         8.,  10., 120.,  65.,   4.,  42.,  83., 136.,  24.,  18.,  56.,\n",
              "        48., 106.,  54.,  93., 116.,  91.,  45.,   9., 145., 147.,  44.,\n",
              "       109.,  37., 140., 107., 128., 131., 114., 118., 159., 119., 105.,\n",
              "       135.,  62., 138., 129.,  88.,  92., 111., 113.,  73.,  36.,  28.,\n",
              "        35.,  59.,  53., 148., 133., 108.,  64.,  39.,  94., 132.,  46.,\n",
              "        81., 103.,  90.,  51.,  27., 146.,  63.,  96.,  40.,  66., 100.,\n",
              "        95., 123.,  98.,  75.,  69., 130., 134.,  49.,  97.,  38.,  17.,\n",
              "       110.,  80.,  71., 117.,  58.,  20.,  76., 104.,  87.,  84., 137.,\n",
              "       126.,  68.,  67., 101., 115.,  57.,  82.,  79., 112.,  99.,  70.,\n",
              "         2.,  34.,  33.,  74., 102., 149.,  43.,   6.,  50., 144., 143.,\n",
              "        41.])"
            ]
          },
          "metadata": {},
          "execution_count": 13
        }
      ]
    },
    {
      "cell_type": "code",
      "source": [
        "train['Vehicle_Damage'].unique()"
      ],
      "metadata": {
        "colab": {
          "base_uri": "https://localhost:8080/"
        },
        "id": "0PvwXAiLj3tI",
        "outputId": "c91568a0-9cda-40da-fc9c-5b1cc7246d02"
      },
      "execution_count": 14,
      "outputs": [
        {
          "output_type": "execute_result",
          "data": {
            "text/plain": [
              "array(['Yes', 'No'], dtype=object)"
            ]
          },
          "metadata": {},
          "execution_count": 14
        }
      ]
    },
    {
      "cell_type": "code",
      "source": [
        ""
      ],
      "metadata": {
        "id": "QrZPqN0nj3gX"
      },
      "execution_count": 14,
      "outputs": []
    },
    {
      "cell_type": "markdown",
      "source": [
        "Annual Premium could also be divided into bins"
      ],
      "metadata": {
        "id": "6SMuaawU1cX5"
      }
    },
    {
      "cell_type": "code",
      "source": [
        "def data_prep(data):\n",
        "    data = data.drop(columns=['id', 'Vintage'], axis=1)\n",
        "    cols = ['Gender', 'Vehicle_Damage', 'Vehicle_Age']\n",
        "    data = pd.get_dummies(data,columns=cols, drop_first=True)\n",
        "    data['Age'] = pd.cut(data['Age'], bins=[0,29,35,50,100])\n",
        "    data['Age'] = data['Age'].cat.codes\n",
        "    return data"
      ],
      "metadata": {
        "id": "8_P8omc3UzOr"
      },
      "execution_count": 15,
      "outputs": []
    },
    {
      "cell_type": "code",
      "source": [
        "train_dum = data_prep(train)\n",
        "test_dum = data_prep(test)"
      ],
      "metadata": {
        "id": "DukJkVDRUzSU"
      },
      "execution_count": null,
      "outputs": []
    },
    {
      "cell_type": "code",
      "source": [
        "train_dum.head()"
      ],
      "metadata": {
        "colab": {
          "base_uri": "https://localhost:8080/",
          "height": 288
        },
        "id": "QAoSEIYPUzWD",
        "outputId": "39fdbe35-d00c-49c7-9d89-be4025f00533"
      },
      "execution_count": null,
      "outputs": [
        {
          "output_type": "execute_result",
          "data": {
            "text/html": [
              "\n",
              "  <div id=\"df-3c629d1a-61ce-4618-bd70-e24885b4382e\">\n",
              "    <div class=\"colab-df-container\">\n",
              "      <div>\n",
              "<style scoped>\n",
              "    .dataframe tbody tr th:only-of-type {\n",
              "        vertical-align: middle;\n",
              "    }\n",
              "\n",
              "    .dataframe tbody tr th {\n",
              "        vertical-align: top;\n",
              "    }\n",
              "\n",
              "    .dataframe thead th {\n",
              "        text-align: right;\n",
              "    }\n",
              "</style>\n",
              "<table border=\"1\" class=\"dataframe\">\n",
              "  <thead>\n",
              "    <tr style=\"text-align: right;\">\n",
              "      <th></th>\n",
              "      <th>Age</th>\n",
              "      <th>Driving_License</th>\n",
              "      <th>Region_Code</th>\n",
              "      <th>Previously_Insured</th>\n",
              "      <th>Annual_Premium</th>\n",
              "      <th>Policy_Sales_Channel</th>\n",
              "      <th>Response</th>\n",
              "      <th>Gender_Male</th>\n",
              "      <th>Vehicle_Damage_Yes</th>\n",
              "      <th>Vehicle_Age_&lt; 1 Year</th>\n",
              "      <th>Vehicle_Age_&gt; 2 Years</th>\n",
              "    </tr>\n",
              "  </thead>\n",
              "  <tbody>\n",
              "    <tr>\n",
              "      <th>0</th>\n",
              "      <td>2</td>\n",
              "      <td>1</td>\n",
              "      <td>28.0</td>\n",
              "      <td>0</td>\n",
              "      <td>40454.0</td>\n",
              "      <td>26.0</td>\n",
              "      <td>1</td>\n",
              "      <td>1</td>\n",
              "      <td>1</td>\n",
              "      <td>0</td>\n",
              "      <td>1</td>\n",
              "    </tr>\n",
              "    <tr>\n",
              "      <th>1</th>\n",
              "      <td>3</td>\n",
              "      <td>1</td>\n",
              "      <td>3.0</td>\n",
              "      <td>0</td>\n",
              "      <td>33536.0</td>\n",
              "      <td>26.0</td>\n",
              "      <td>0</td>\n",
              "      <td>1</td>\n",
              "      <td>0</td>\n",
              "      <td>0</td>\n",
              "      <td>0</td>\n",
              "    </tr>\n",
              "    <tr>\n",
              "      <th>2</th>\n",
              "      <td>2</td>\n",
              "      <td>1</td>\n",
              "      <td>28.0</td>\n",
              "      <td>0</td>\n",
              "      <td>38294.0</td>\n",
              "      <td>26.0</td>\n",
              "      <td>1</td>\n",
              "      <td>1</td>\n",
              "      <td>1</td>\n",
              "      <td>0</td>\n",
              "      <td>1</td>\n",
              "    </tr>\n",
              "    <tr>\n",
              "      <th>3</th>\n",
              "      <td>0</td>\n",
              "      <td>1</td>\n",
              "      <td>11.0</td>\n",
              "      <td>1</td>\n",
              "      <td>28619.0</td>\n",
              "      <td>152.0</td>\n",
              "      <td>0</td>\n",
              "      <td>1</td>\n",
              "      <td>0</td>\n",
              "      <td>1</td>\n",
              "      <td>0</td>\n",
              "    </tr>\n",
              "    <tr>\n",
              "      <th>4</th>\n",
              "      <td>0</td>\n",
              "      <td>1</td>\n",
              "      <td>41.0</td>\n",
              "      <td>1</td>\n",
              "      <td>27496.0</td>\n",
              "      <td>152.0</td>\n",
              "      <td>0</td>\n",
              "      <td>0</td>\n",
              "      <td>0</td>\n",
              "      <td>1</td>\n",
              "      <td>0</td>\n",
              "    </tr>\n",
              "  </tbody>\n",
              "</table>\n",
              "</div>\n",
              "      <button class=\"colab-df-convert\" onclick=\"convertToInteractive('df-3c629d1a-61ce-4618-bd70-e24885b4382e')\"\n",
              "              title=\"Convert this dataframe to an interactive table.\"\n",
              "              style=\"display:none;\">\n",
              "        \n",
              "  <svg xmlns=\"http://www.w3.org/2000/svg\" height=\"24px\"viewBox=\"0 0 24 24\"\n",
              "       width=\"24px\">\n",
              "    <path d=\"M0 0h24v24H0V0z\" fill=\"none\"/>\n",
              "    <path d=\"M18.56 5.44l.94 2.06.94-2.06 2.06-.94-2.06-.94-.94-2.06-.94 2.06-2.06.94zm-11 1L8.5 8.5l.94-2.06 2.06-.94-2.06-.94L8.5 2.5l-.94 2.06-2.06.94zm10 10l.94 2.06.94-2.06 2.06-.94-2.06-.94-.94-2.06-.94 2.06-2.06.94z\"/><path d=\"M17.41 7.96l-1.37-1.37c-.4-.4-.92-.59-1.43-.59-.52 0-1.04.2-1.43.59L10.3 9.45l-7.72 7.72c-.78.78-.78 2.05 0 2.83L4 21.41c.39.39.9.59 1.41.59.51 0 1.02-.2 1.41-.59l7.78-7.78 2.81-2.81c.8-.78.8-2.07 0-2.86zM5.41 20L4 18.59l7.72-7.72 1.47 1.35L5.41 20z\"/>\n",
              "  </svg>\n",
              "      </button>\n",
              "      \n",
              "  <style>\n",
              "    .colab-df-container {\n",
              "      display:flex;\n",
              "      flex-wrap:wrap;\n",
              "      gap: 12px;\n",
              "    }\n",
              "\n",
              "    .colab-df-convert {\n",
              "      background-color: #E8F0FE;\n",
              "      border: none;\n",
              "      border-radius: 50%;\n",
              "      cursor: pointer;\n",
              "      display: none;\n",
              "      fill: #1967D2;\n",
              "      height: 32px;\n",
              "      padding: 0 0 0 0;\n",
              "      width: 32px;\n",
              "    }\n",
              "\n",
              "    .colab-df-convert:hover {\n",
              "      background-color: #E2EBFA;\n",
              "      box-shadow: 0px 1px 2px rgba(60, 64, 67, 0.3), 0px 1px 3px 1px rgba(60, 64, 67, 0.15);\n",
              "      fill: #174EA6;\n",
              "    }\n",
              "\n",
              "    [theme=dark] .colab-df-convert {\n",
              "      background-color: #3B4455;\n",
              "      fill: #D2E3FC;\n",
              "    }\n",
              "\n",
              "    [theme=dark] .colab-df-convert:hover {\n",
              "      background-color: #434B5C;\n",
              "      box-shadow: 0px 1px 3px 1px rgba(0, 0, 0, 0.15);\n",
              "      filter: drop-shadow(0px 1px 2px rgba(0, 0, 0, 0.3));\n",
              "      fill: #FFFFFF;\n",
              "    }\n",
              "  </style>\n",
              "\n",
              "      <script>\n",
              "        const buttonEl =\n",
              "          document.querySelector('#df-3c629d1a-61ce-4618-bd70-e24885b4382e button.colab-df-convert');\n",
              "        buttonEl.style.display =\n",
              "          google.colab.kernel.accessAllowed ? 'block' : 'none';\n",
              "\n",
              "        async function convertToInteractive(key) {\n",
              "          const element = document.querySelector('#df-3c629d1a-61ce-4618-bd70-e24885b4382e');\n",
              "          const dataTable =\n",
              "            await google.colab.kernel.invokeFunction('convertToInteractive',\n",
              "                                                     [key], {});\n",
              "          if (!dataTable) return;\n",
              "\n",
              "          const docLinkHtml = 'Like what you see? Visit the ' +\n",
              "            '<a target=\"_blank\" href=https://colab.research.google.com/notebooks/data_table.ipynb>data table notebook</a>'\n",
              "            + ' to learn more about interactive tables.';\n",
              "          element.innerHTML = '';\n",
              "          dataTable['output_type'] = 'display_data';\n",
              "          await google.colab.output.renderOutput(dataTable, element);\n",
              "          const docLink = document.createElement('div');\n",
              "          docLink.innerHTML = docLinkHtml;\n",
              "          element.appendChild(docLink);\n",
              "        }\n",
              "      </script>\n",
              "    </div>\n",
              "  </div>\n",
              "  "
            ],
            "text/plain": [
              "   Age  Driving_License  ...  Vehicle_Age_< 1 Year  Vehicle_Age_> 2 Years\n",
              "0    2                1  ...                     0                      1\n",
              "1    3                1  ...                     0                      0\n",
              "2    2                1  ...                     0                      1\n",
              "3    0                1  ...                     1                      0\n",
              "4    0                1  ...                     1                      0\n",
              "\n",
              "[5 rows x 11 columns]"
            ]
          },
          "metadata": {},
          "execution_count": 32
        }
      ]
    },
    {
      "cell_type": "code",
      "source": [
        "test_dum.head()"
      ],
      "metadata": {
        "colab": {
          "base_uri": "https://localhost:8080/",
          "height": 288
        },
        "id": "NSgMQyPkUzZo",
        "outputId": "7e9a1aa5-133d-4bdd-ce47-522aaf3dedef"
      },
      "execution_count": null,
      "outputs": [
        {
          "output_type": "execute_result",
          "data": {
            "text/html": [
              "\n",
              "  <div id=\"df-0431a45e-bb7a-40f0-9fbe-da0c1b29a502\">\n",
              "    <div class=\"colab-df-container\">\n",
              "      <div>\n",
              "<style scoped>\n",
              "    .dataframe tbody tr th:only-of-type {\n",
              "        vertical-align: middle;\n",
              "    }\n",
              "\n",
              "    .dataframe tbody tr th {\n",
              "        vertical-align: top;\n",
              "    }\n",
              "\n",
              "    .dataframe thead th {\n",
              "        text-align: right;\n",
              "    }\n",
              "</style>\n",
              "<table border=\"1\" class=\"dataframe\">\n",
              "  <thead>\n",
              "    <tr style=\"text-align: right;\">\n",
              "      <th></th>\n",
              "      <th>Age</th>\n",
              "      <th>Driving_License</th>\n",
              "      <th>Region_Code</th>\n",
              "      <th>Previously_Insured</th>\n",
              "      <th>Annual_Premium</th>\n",
              "      <th>Policy_Sales_Channel</th>\n",
              "      <th>Gender_Male</th>\n",
              "      <th>Vehicle_Damage_Yes</th>\n",
              "      <th>Vehicle_Age_&lt; 1 Year</th>\n",
              "      <th>Vehicle_Age_&gt; 2 Years</th>\n",
              "    </tr>\n",
              "  </thead>\n",
              "  <tbody>\n",
              "    <tr>\n",
              "      <th>0</th>\n",
              "      <td>0</td>\n",
              "      <td>1</td>\n",
              "      <td>11.0</td>\n",
              "      <td>1</td>\n",
              "      <td>35786.0</td>\n",
              "      <td>152.0</td>\n",
              "      <td>1</td>\n",
              "      <td>0</td>\n",
              "      <td>1</td>\n",
              "      <td>0</td>\n",
              "    </tr>\n",
              "    <tr>\n",
              "      <th>1</th>\n",
              "      <td>2</td>\n",
              "      <td>1</td>\n",
              "      <td>28.0</td>\n",
              "      <td>0</td>\n",
              "      <td>33762.0</td>\n",
              "      <td>7.0</td>\n",
              "      <td>1</td>\n",
              "      <td>1</td>\n",
              "      <td>0</td>\n",
              "      <td>0</td>\n",
              "    </tr>\n",
              "    <tr>\n",
              "      <th>2</th>\n",
              "      <td>2</td>\n",
              "      <td>1</td>\n",
              "      <td>28.0</td>\n",
              "      <td>0</td>\n",
              "      <td>40050.0</td>\n",
              "      <td>124.0</td>\n",
              "      <td>1</td>\n",
              "      <td>1</td>\n",
              "      <td>0</td>\n",
              "      <td>0</td>\n",
              "    </tr>\n",
              "    <tr>\n",
              "      <th>3</th>\n",
              "      <td>0</td>\n",
              "      <td>1</td>\n",
              "      <td>27.0</td>\n",
              "      <td>1</td>\n",
              "      <td>37356.0</td>\n",
              "      <td>152.0</td>\n",
              "      <td>1</td>\n",
              "      <td>1</td>\n",
              "      <td>1</td>\n",
              "      <td>0</td>\n",
              "    </tr>\n",
              "    <tr>\n",
              "      <th>4</th>\n",
              "      <td>0</td>\n",
              "      <td>1</td>\n",
              "      <td>28.0</td>\n",
              "      <td>1</td>\n",
              "      <td>59097.0</td>\n",
              "      <td>152.0</td>\n",
              "      <td>1</td>\n",
              "      <td>0</td>\n",
              "      <td>1</td>\n",
              "      <td>0</td>\n",
              "    </tr>\n",
              "  </tbody>\n",
              "</table>\n",
              "</div>\n",
              "      <button class=\"colab-df-convert\" onclick=\"convertToInteractive('df-0431a45e-bb7a-40f0-9fbe-da0c1b29a502')\"\n",
              "              title=\"Convert this dataframe to an interactive table.\"\n",
              "              style=\"display:none;\">\n",
              "        \n",
              "  <svg xmlns=\"http://www.w3.org/2000/svg\" height=\"24px\"viewBox=\"0 0 24 24\"\n",
              "       width=\"24px\">\n",
              "    <path d=\"M0 0h24v24H0V0z\" fill=\"none\"/>\n",
              "    <path d=\"M18.56 5.44l.94 2.06.94-2.06 2.06-.94-2.06-.94-.94-2.06-.94 2.06-2.06.94zm-11 1L8.5 8.5l.94-2.06 2.06-.94-2.06-.94L8.5 2.5l-.94 2.06-2.06.94zm10 10l.94 2.06.94-2.06 2.06-.94-2.06-.94-.94-2.06-.94 2.06-2.06.94z\"/><path d=\"M17.41 7.96l-1.37-1.37c-.4-.4-.92-.59-1.43-.59-.52 0-1.04.2-1.43.59L10.3 9.45l-7.72 7.72c-.78.78-.78 2.05 0 2.83L4 21.41c.39.39.9.59 1.41.59.51 0 1.02-.2 1.41-.59l7.78-7.78 2.81-2.81c.8-.78.8-2.07 0-2.86zM5.41 20L4 18.59l7.72-7.72 1.47 1.35L5.41 20z\"/>\n",
              "  </svg>\n",
              "      </button>\n",
              "      \n",
              "  <style>\n",
              "    .colab-df-container {\n",
              "      display:flex;\n",
              "      flex-wrap:wrap;\n",
              "      gap: 12px;\n",
              "    }\n",
              "\n",
              "    .colab-df-convert {\n",
              "      background-color: #E8F0FE;\n",
              "      border: none;\n",
              "      border-radius: 50%;\n",
              "      cursor: pointer;\n",
              "      display: none;\n",
              "      fill: #1967D2;\n",
              "      height: 32px;\n",
              "      padding: 0 0 0 0;\n",
              "      width: 32px;\n",
              "    }\n",
              "\n",
              "    .colab-df-convert:hover {\n",
              "      background-color: #E2EBFA;\n",
              "      box-shadow: 0px 1px 2px rgba(60, 64, 67, 0.3), 0px 1px 3px 1px rgba(60, 64, 67, 0.15);\n",
              "      fill: #174EA6;\n",
              "    }\n",
              "\n",
              "    [theme=dark] .colab-df-convert {\n",
              "      background-color: #3B4455;\n",
              "      fill: #D2E3FC;\n",
              "    }\n",
              "\n",
              "    [theme=dark] .colab-df-convert:hover {\n",
              "      background-color: #434B5C;\n",
              "      box-shadow: 0px 1px 3px 1px rgba(0, 0, 0, 0.15);\n",
              "      filter: drop-shadow(0px 1px 2px rgba(0, 0, 0, 0.3));\n",
              "      fill: #FFFFFF;\n",
              "    }\n",
              "  </style>\n",
              "\n",
              "      <script>\n",
              "        const buttonEl =\n",
              "          document.querySelector('#df-0431a45e-bb7a-40f0-9fbe-da0c1b29a502 button.colab-df-convert');\n",
              "        buttonEl.style.display =\n",
              "          google.colab.kernel.accessAllowed ? 'block' : 'none';\n",
              "\n",
              "        async function convertToInteractive(key) {\n",
              "          const element = document.querySelector('#df-0431a45e-bb7a-40f0-9fbe-da0c1b29a502');\n",
              "          const dataTable =\n",
              "            await google.colab.kernel.invokeFunction('convertToInteractive',\n",
              "                                                     [key], {});\n",
              "          if (!dataTable) return;\n",
              "\n",
              "          const docLinkHtml = 'Like what you see? Visit the ' +\n",
              "            '<a target=\"_blank\" href=https://colab.research.google.com/notebooks/data_table.ipynb>data table notebook</a>'\n",
              "            + ' to learn more about interactive tables.';\n",
              "          element.innerHTML = '';\n",
              "          dataTable['output_type'] = 'display_data';\n",
              "          await google.colab.output.renderOutput(dataTable, element);\n",
              "          const docLink = document.createElement('div');\n",
              "          docLink.innerHTML = docLinkHtml;\n",
              "          element.appendChild(docLink);\n",
              "        }\n",
              "      </script>\n",
              "    </div>\n",
              "  </div>\n",
              "  "
            ],
            "text/plain": [
              "   Age  Driving_License  ...  Vehicle_Age_< 1 Year  Vehicle_Age_> 2 Years\n",
              "0    0                1  ...                     1                      0\n",
              "1    2                1  ...                     0                      0\n",
              "2    2                1  ...                     0                      0\n",
              "3    0                1  ...                     1                      0\n",
              "4    0                1  ...                     1                      0\n",
              "\n",
              "[5 rows x 10 columns]"
            ]
          },
          "metadata": {},
          "execution_count": 33
        }
      ]
    },
    {
      "cell_type": "code",
      "source": [
        ""
      ],
      "metadata": {
        "id": "wSagMv7C2WzR"
      },
      "execution_count": null,
      "outputs": []
    },
    {
      "cell_type": "markdown",
      "source": [
        "### Gender"
      ],
      "metadata": {
        "id": "5kNzJWJi2Wvi"
      }
    },
    {
      "cell_type": "code",
      "source": [
        "x_train_gender = train['Gender'].apply(lambda x: 1 if x=='Male' else 0)\n",
        "x_train_gender = x_train_gender.values.reshape(-1, 1)\n",
        "\n",
        "x_test_gender = test['Gender'].apply(lambda x:1 if x=='Male' else 0)\n",
        "x_test_gender = x_test_gender.values.reshape(-1, 1)\n",
        "\n",
        "print(x_train_gender.shape)\n",
        "print(x_test_gender.shape)"
      ],
      "metadata": {
        "colab": {
          "base_uri": "https://localhost:8080/"
        },
        "id": "GOwkGvG-2WtB",
        "outputId": "84e83a08-0adf-4d49-f22b-32c54ff006ac"
      },
      "execution_count": 16,
      "outputs": [
        {
          "output_type": "stream",
          "name": "stdout",
          "text": [
            "(381109, 1)\n",
            "(127037, 1)\n"
          ]
        }
      ]
    },
    {
      "cell_type": "code",
      "source": [
        ""
      ],
      "metadata": {
        "id": "e4TNLaW72WlJ"
      },
      "execution_count": 16,
      "outputs": []
    },
    {
      "cell_type": "markdown",
      "source": [
        "### Age"
      ],
      "metadata": {
        "id": "jBmVkH_f2We5"
      }
    },
    {
      "cell_type": "code",
      "source": [
        "from sklearn.preprocessing import MinMaxScaler"
      ],
      "metadata": {
        "id": "6qxJg9zM2WbJ"
      },
      "execution_count": 17,
      "outputs": []
    },
    {
      "cell_type": "code",
      "source": [
        "scaler = MinMaxScaler()\n",
        "\n",
        "scaler.fit(train['Age'].values.reshape(-1,1))\n",
        "x_train_age = scaler.transform(train['Age'].values.reshape(-1,1))\n",
        "x_test_age = scaler.transform(test['Age'].values.reshape(-1,1))\n",
        "\n",
        "print(x_train_age.shape)\n",
        "print(x_test_age.shape)"
      ],
      "metadata": {
        "colab": {
          "base_uri": "https://localhost:8080/"
        },
        "id": "mLsyG2l92WY5",
        "outputId": "ef4d39e6-d337-415c-9bd4-bd7b68b96d52"
      },
      "execution_count": 18,
      "outputs": [
        {
          "output_type": "stream",
          "name": "stdout",
          "text": [
            "(381109, 1)\n",
            "(127037, 1)\n"
          ]
        }
      ]
    },
    {
      "cell_type": "code",
      "source": [
        ""
      ],
      "metadata": {
        "id": "wA7hn0ET2WUQ"
      },
      "execution_count": 18,
      "outputs": []
    },
    {
      "cell_type": "code",
      "source": [
        "x_train_age_n = train['Age'].values.reshape(-1,1)\n",
        "x_test_age_n = test['Age'].values.reshape(-1,1)\n",
        "\n",
        "print(x_train_age_n.shape)\n",
        "print(x_test_age_n.shape)"
      ],
      "metadata": {
        "colab": {
          "base_uri": "https://localhost:8080/"
        },
        "id": "i1ioxLBd2WNV",
        "outputId": "02e799d3-a0c3-4129-c67d-ffc7d4e95913"
      },
      "execution_count": 19,
      "outputs": [
        {
          "output_type": "stream",
          "name": "stdout",
          "text": [
            "(381109, 1)\n",
            "(127037, 1)\n"
          ]
        }
      ]
    },
    {
      "cell_type": "code",
      "source": [
        ""
      ],
      "metadata": {
        "id": "45dPF1yB2WJi"
      },
      "execution_count": 19,
      "outputs": []
    },
    {
      "cell_type": "markdown",
      "source": [
        "Feature engineering: new categorical feature for Age"
      ],
      "metadata": {
        "id": "p_yq6gzv2WFx"
      }
    },
    {
      "cell_type": "code",
      "source": [
        "x_train_age_cat = train['Age'].apply(lambda x:1 if x>=30 else 0)\n",
        "x_train_age_cat = x_train_age_cat.values.reshape(-1, 1)\n",
        "\n",
        "x_test_age_cat = test['Age'].apply(lambda x:1 if x>=30 else 0)\n",
        "x_test_age_cat = x_test_age_cat.values.reshape(-1, 1)\n",
        "\n",
        "print(x_train_age_cat.shape)\n",
        "print(x_test_age_cat.shape)"
      ],
      "metadata": {
        "colab": {
          "base_uri": "https://localhost:8080/"
        },
        "id": "ZyA9ZP6zBuRV",
        "outputId": "689f73fd-1afe-4485-c93a-3a10a17254d0"
      },
      "execution_count": 20,
      "outputs": [
        {
          "output_type": "stream",
          "name": "stdout",
          "text": [
            "(381109, 1)\n",
            "(127037, 1)\n"
          ]
        }
      ]
    },
    {
      "cell_type": "code",
      "source": [
        ""
      ],
      "metadata": {
        "id": "6yGxuHbrBuLg"
      },
      "execution_count": 20,
      "outputs": []
    },
    {
      "cell_type": "markdown",
      "source": [
        "### Driving License"
      ],
      "metadata": {
        "id": "-g6f3oBJBuEQ"
      }
    },
    {
      "cell_type": "code",
      "source": [
        "x_train_license = train['Driving_License'].values.reshape(-1, 1)\n",
        "x_test_license = test['Driving_License'].values.reshape(-1, 1)\n",
        "\n",
        "print(x_train_license.shape)\n",
        "print(x_test_license.shape)"
      ],
      "metadata": {
        "colab": {
          "base_uri": "https://localhost:8080/"
        },
        "id": "wkS5zbZ-2WCh",
        "outputId": "51406abd-679f-4ac6-b3e5-fdaf7b26883e"
      },
      "execution_count": 21,
      "outputs": [
        {
          "output_type": "stream",
          "name": "stdout",
          "text": [
            "(381109, 1)\n",
            "(127037, 1)\n"
          ]
        }
      ]
    },
    {
      "cell_type": "code",
      "source": [
        ""
      ],
      "metadata": {
        "id": "6GxTZ2ckCjYk"
      },
      "execution_count": 21,
      "outputs": []
    },
    {
      "cell_type": "markdown",
      "source": [
        "### Region Code"
      ],
      "metadata": {
        "id": "46HTjY_XCjc4"
      }
    },
    {
      "cell_type": "code",
      "source": [
        "from sklearn.preprocessing import OneHotEncoder"
      ],
      "metadata": {
        "id": "XktmurNtCjgy"
      },
      "execution_count": 22,
      "outputs": []
    },
    {
      "cell_type": "code",
      "source": [
        "encoder = OneHotEncoder()\n",
        "encoder.fit(train[\"Region_Code\"].values.reshape(-1, 1))\n",
        "\n",
        "x_train_region_code = encoder.transform(train['Region_Code'].values.reshape(-1, 1))\n",
        "x_test_region_code = encoder.transform(test['Region_Code'].values.reshape(-1, 1))\n",
        "\n",
        "print(x_train_region_code.shape)\n",
        "print(x_test_region_code.shape)"
      ],
      "metadata": {
        "colab": {
          "base_uri": "https://localhost:8080/"
        },
        "id": "NhRz1xVOCjkd",
        "outputId": "ffa07c3d-f767-4549-978c-9f3a17b9294d"
      },
      "execution_count": 23,
      "outputs": [
        {
          "output_type": "stream",
          "name": "stdout",
          "text": [
            "(381109, 53)\n",
            "(127037, 53)\n"
          ]
        }
      ]
    },
    {
      "cell_type": "code",
      "source": [
        "train['Region_Code'].value_counts()"
      ],
      "metadata": {
        "colab": {
          "base_uri": "https://localhost:8080/"
        },
        "id": "m8nF7NxZCjno",
        "outputId": "e006822a-c5c0-493c-e1c7-4a70e7626a38",
        "collapsed": true
      },
      "execution_count": 24,
      "outputs": [
        {
          "output_type": "execute_result",
          "data": {
            "text/plain": [
              "28.0    106415\n",
              "8.0      33877\n",
              "46.0     19749\n",
              "41.0     18263\n",
              "15.0     13308\n",
              "30.0     12191\n",
              "29.0     11065\n",
              "50.0     10243\n",
              "3.0       9251\n",
              "11.0      9232\n",
              "36.0      8797\n",
              "33.0      7654\n",
              "47.0      7436\n",
              "35.0      6942\n",
              "6.0       6280\n",
              "45.0      5605\n",
              "37.0      5501\n",
              "18.0      5153\n",
              "48.0      4681\n",
              "14.0      4678\n",
              "39.0      4644\n",
              "10.0      4374\n",
              "21.0      4266\n",
              "2.0       4038\n",
              "13.0      4036\n",
              "7.0       3279\n",
              "12.0      3198\n",
              "9.0       3101\n",
              "27.0      2823\n",
              "32.0      2787\n",
              "43.0      2639\n",
              "17.0      2617\n",
              "26.0      2587\n",
              "25.0      2503\n",
              "24.0      2415\n",
              "38.0      2026\n",
              "0.0       2021\n",
              "16.0      2007\n",
              "31.0      1960\n",
              "23.0      1960\n",
              "20.0      1935\n",
              "49.0      1832\n",
              "4.0       1801\n",
              "34.0      1664\n",
              "19.0      1535\n",
              "22.0      1309\n",
              "40.0      1295\n",
              "5.0       1279\n",
              "1.0       1008\n",
              "44.0       808\n",
              "42.0       591\n",
              "52.0       267\n",
              "51.0       183\n",
              "Name: Region_Code, dtype: int64"
            ]
          },
          "metadata": {},
          "execution_count": 24
        }
      ]
    },
    {
      "cell_type": "code",
      "source": [
        ""
      ],
      "metadata": {
        "id": "0LlF9ab_Cjqx"
      },
      "execution_count": 24,
      "outputs": []
    },
    {
      "cell_type": "markdown",
      "source": [
        "in response coding, when we calculate the probability of a feature value belonging to a particular class"
      ],
      "metadata": {
        "id": "4xfnhKK5CjuR"
      }
    },
    {
      "cell_type": "code",
      "source": [
        "def get_feature_dict(feature):\n",
        "    value_counts = train[feature].value_counts()\n",
        "    my_dict = dict()\n",
        "    for i, denominator in value_counts.items():\n",
        "        class_count = train[(train['Response']==1) & (train[feature]==i)]\n",
        "        my_dict[i] = round((class_count.shape[0]/ denominator), 6)\n",
        "    return my_dict"
      ],
      "metadata": {
        "id": "Zk5Dw_zwCjyC"
      },
      "execution_count": 25,
      "outputs": []
    },
    {
      "cell_type": "code",
      "source": [
        "region_code_dict = get_feature_dict('Region_Code')\n",
        "region_code_dict"
      ],
      "metadata": {
        "colab": {
          "base_uri": "https://localhost:8080/"
        },
        "id": "iaWMxBRbCj16",
        "outputId": "62588046-9951-4d80-94d9-6be8bcbecc57",
        "collapsed": true
      },
      "execution_count": 26,
      "outputs": [
        {
          "output_type": "execute_result",
          "data": {
            "text/plain": [
              "{0.0: 0.086096,\n",
              " 1.0: 0.108135,\n",
              " 2.0: 0.071075,\n",
              " 3.0: 0.127662,\n",
              " 4.0: 0.158245,\n",
              " 5.0: 0.115715,\n",
              " 6.0: 0.069904,\n",
              " 7.0: 0.131747,\n",
              " 8.0: 0.096142,\n",
              " 9.0: 0.081587,\n",
              " 10.0: 0.060128,\n",
              " 11.0: 0.11276,\n",
              " 12.0: 0.097561,\n",
              " 13.0: 0.090188,\n",
              " 14.0: 0.090209,\n",
              " 15.0: 0.071987,\n",
              " 16.0: 0.066766,\n",
              " 17.0: 0.07031,\n",
              " 18.0: 0.131574,\n",
              " 19.0: 0.162866,\n",
              " 20.0: 0.115245,\n",
              " 21.0: 0.071027,\n",
              " 22.0: 0.063407,\n",
              " 23.0: 0.153061,\n",
              " 24.0: 0.141615,\n",
              " 25.0: 0.042749,\n",
              " 26.0: 0.072284,\n",
              " 27.0: 0.074035,\n",
              " 28.0: 0.187163,\n",
              " 29.0: 0.123362,\n",
              " 30.0: 0.073825,\n",
              " 31.0: 0.10051,\n",
              " 32.0: 0.085755,\n",
              " 33.0: 0.099294,\n",
              " 34.0: 0.075721,\n",
              " 35.0: 0.124604,\n",
              " 36.0: 0.079914,\n",
              " 37.0: 0.079258,\n",
              " 38.0: 0.192004,\n",
              " 39.0: 0.1236,\n",
              " 40.0: 0.118147,\n",
              " 41.0: 0.121776,\n",
              " 42.0: 0.07445,\n",
              " 43.0: 0.092459,\n",
              " 44.0: 0.040842,\n",
              " 45.0: 0.109723,\n",
              " 46.0: 0.102891,\n",
              " 47.0: 0.087682,\n",
              " 48.0: 0.101901,\n",
              " 49.0: 0.074782,\n",
              " 50.0: 0.062677,\n",
              " 51.0: 0.153005,\n",
              " 52.0: 0.123596}"
            ]
          },
          "metadata": {},
          "execution_count": 26
        }
      ]
    },
    {
      "cell_type": "code",
      "source": [
        ""
      ],
      "metadata": {
        "id": "VtQMM-wE2V_R"
      },
      "execution_count": 26,
      "outputs": []
    },
    {
      "cell_type": "code",
      "source": [
        "pkn = test['Region_Code'].copy()\n",
        "pkn = pkn.apply(lambda x: region_code_dict[x])\n",
        "pkn"
      ],
      "metadata": {
        "colab": {
          "base_uri": "https://localhost:8080/"
        },
        "id": "YoyaWdgF2V8j",
        "outputId": "96c2d3af-e881-4efe-c4c1-10031a046bb3"
      },
      "execution_count": 27,
      "outputs": [
        {
          "output_type": "execute_result",
          "data": {
            "text/plain": [
              "0         0.112760\n",
              "1         0.187163\n",
              "2         0.187163\n",
              "3         0.074035\n",
              "4         0.187163\n",
              "            ...   \n",
              "127032    0.079258\n",
              "127033    0.187163\n",
              "127034    0.102891\n",
              "127035    0.187163\n",
              "127036    0.123362\n",
              "Name: Region_Code, Length: 127037, dtype: float64"
            ]
          },
          "metadata": {},
          "execution_count": 27
        }
      ]
    },
    {
      "cell_type": "code",
      "source": [
        "x_train_region_code_resp = train['Region_Code'].apply(lambda x:region_code_dict[x])\n",
        "x_train_region_code_resp = x_train_region_code_resp.values.reshape(-1, 1)\n",
        "\n",
        "x_test_region_code_resp = test['Region_Code'].apply(lambda x: region_code_dict[x] \n",
        "                                                    if x in region_code_dict.keys() \n",
        "                                                    else np.median(list(region_code_dict.values())))\n",
        "x_test_region_code_resp = x_test_region_code_resp.values.reshape(-1, 1)\n",
        "\n",
        "print(x_train_region_code_resp.shape)\n",
        "print(x_test_region_code_resp.shape)"
      ],
      "metadata": {
        "colab": {
          "base_uri": "https://localhost:8080/"
        },
        "id": "YgcNxCJm2Vyq",
        "outputId": "9b8a23e9-eafd-4252-f39a-a1305f776023"
      },
      "execution_count": 28,
      "outputs": [
        {
          "output_type": "stream",
          "name": "stdout",
          "text": [
            "(381109, 1)\n",
            "(127037, 1)\n"
          ]
        }
      ]
    },
    {
      "cell_type": "code",
      "source": [
        ""
      ],
      "metadata": {
        "id": "x7zjCoG82VvB"
      },
      "execution_count": 28,
      "outputs": []
    },
    {
      "cell_type": "markdown",
      "source": [
        "### Previously Insured"
      ],
      "metadata": {
        "id": "s9uxW0r-2VsJ"
      }
    },
    {
      "cell_type": "code",
      "source": [
        "x_train_prev_ins = train['Previously_Insured'].values.reshape(-1, 1)\n",
        "x_test_prev_ins = test['Previously_Insured'].values.reshape(-1, 1)\n",
        "\n",
        "print(x_train_prev_ins.shape)\n",
        "print(x_test_prev_ins.shape)"
      ],
      "metadata": {
        "colab": {
          "base_uri": "https://localhost:8080/"
        },
        "id": "jKmGmmLR2Vkh",
        "outputId": "b4ed007c-9974-4c64-d75e-74ca4bdec1d2"
      },
      "execution_count": 29,
      "outputs": [
        {
          "output_type": "stream",
          "name": "stdout",
          "text": [
            "(381109, 1)\n",
            "(127037, 1)\n"
          ]
        }
      ]
    },
    {
      "cell_type": "code",
      "source": [
        ""
      ],
      "metadata": {
        "id": "u9giibs92VeZ"
      },
      "execution_count": 29,
      "outputs": []
    },
    {
      "cell_type": "markdown",
      "source": [
        "### Vehice Age"
      ],
      "metadata": {
        "id": "FOzUPOTq2VaL"
      }
    },
    {
      "cell_type": "code",
      "source": [
        "from sklearn.preprocessing import OneHotEncoder"
      ],
      "metadata": {
        "id": "K6V0cmSN2VUa"
      },
      "execution_count": 30,
      "outputs": []
    },
    {
      "cell_type": "code",
      "source": [
        "encoder = OneHotEncoder()\n",
        "encoder.fit(train['Vehicle_Age'].values.reshape(-1, 1))\n",
        "\n",
        "x_train_vehicle_age = encoder.transform(train['Vehicle_Age'].values.reshape(-1, 1))\n",
        "x_test_vehicle_age = encoder.transform(test['Vehicle_Age'].values.reshape(-1, 1))\n",
        "\n",
        "print(x_train_vehicle_age.shape)\n",
        "print(x_test_vehicle_age.shape)"
      ],
      "metadata": {
        "colab": {
          "base_uri": "https://localhost:8080/"
        },
        "id": "-lBIaaHduxdH",
        "outputId": "c27ab885-3c2e-48be-aaad-4c1c1adbf267"
      },
      "execution_count": 31,
      "outputs": [
        {
          "output_type": "stream",
          "name": "stdout",
          "text": [
            "(381109, 3)\n",
            "(127037, 3)\n"
          ]
        }
      ]
    },
    {
      "cell_type": "code",
      "source": [
        ""
      ],
      "metadata": {
        "id": "L5yG7ZPyuxYZ"
      },
      "execution_count": 31,
      "outputs": []
    },
    {
      "cell_type": "markdown",
      "source": [
        "label encoding 'Vehicle Age'"
      ],
      "metadata": {
        "id": "1eTgs3Q5uxRj"
      }
    },
    {
      "cell_type": "code",
      "source": [
        "x_train_vehicle_age_n = train[\"Vehicle_Age\"].replace({'< 1 Year':0, '1-2 Year':1, '> 2 Years':2})\n",
        "x_train_vehicle_age_n = x_train_vehicle_age_n.values.reshape(-1, 1)\n",
        "\n",
        "x_test_vehicle_age_n = test[\"Vehicle_Age\"].replace({'< 1 Year':0, '1-2 Year':1, '> 2 Years':2})\n",
        "x_test_vehicle_age_n = x_test_vehicle_age_n.values.reshape(-1, 1)"
      ],
      "metadata": {
        "id": "xAFcUuCF2VOG"
      },
      "execution_count": 32,
      "outputs": []
    },
    {
      "cell_type": "markdown",
      "source": [
        "Response Coding"
      ],
      "metadata": {
        "id": "y8_9boPcvgU0"
      }
    },
    {
      "cell_type": "code",
      "source": [
        "vehicle_age_dict = get_feature_dict('Vehicle_Age')\n",
        "vehicle_age_dict"
      ],
      "metadata": {
        "colab": {
          "base_uri": "https://localhost:8080/"
        },
        "id": "rvyc9qxGvgKR",
        "outputId": "ddb0ebbe-e37b-48aa-b9e9-be8e7ce759a6"
      },
      "execution_count": 33,
      "outputs": [
        {
          "output_type": "execute_result",
          "data": {
            "text/plain": [
              "{'1-2 Year': 0.173755, '< 1 Year': 0.043705, '> 2 Years': 0.293746}"
            ]
          },
          "metadata": {},
          "execution_count": 33
        }
      ]
    },
    {
      "cell_type": "code",
      "source": [
        "x_train_vehicle_age_resp = train['Vehicle_Age'].apply(lambda x: vehicle_age_dict[x])\n",
        "x_train_vehicle_age_resp = x_train_vehicle_age_resp.values.reshape(-1, 1)\n",
        "\n",
        "x_test_vehicle_age_resp = test['Vehicle_Age'].apply(lambda x: vehicle_age_dict[x])\n",
        "x_test_vehicle_age_resp = x_test_vehicle_age_resp.values.reshape(-1, 1)\n",
        "\n",
        "print(x_train_vehicle_age_resp.shape)\n",
        "print(x_test_vehicle_age_resp.shape)"
      ],
      "metadata": {
        "colab": {
          "base_uri": "https://localhost:8080/"
        },
        "id": "03z0zxzCvgEw",
        "outputId": "d8e7bebd-d6f7-4dd5-d7f1-8a68def23552"
      },
      "execution_count": 34,
      "outputs": [
        {
          "output_type": "stream",
          "name": "stdout",
          "text": [
            "(381109, 1)\n",
            "(127037, 1)\n"
          ]
        }
      ]
    },
    {
      "cell_type": "code",
      "source": [
        ""
      ],
      "metadata": {
        "id": "YI97mCFqvf_a"
      },
      "execution_count": 34,
      "outputs": []
    },
    {
      "cell_type": "markdown",
      "source": [
        "### Vehicle Damage"
      ],
      "metadata": {
        "id": "JIhgPgJ5vf66"
      }
    },
    {
      "cell_type": "code",
      "source": [
        "x_train_damage = train['Vehicle_Damage'].apply(lambda x: 1 if x=='Yes' else 0)\n",
        "x_train_damage = x_train_damage.values.reshape(-1, 1)\n",
        "\n",
        "x_test_damage = test['Vehicle_Damage'].apply(lambda x: 1 if x=='Yes' else 0)\n",
        "x_test_damage = x_test_damage.values.reshape(-1, 1)\n",
        "\n",
        "print(x_train_damage.shape)\n",
        "print(x_test_damage.shape)"
      ],
      "metadata": {
        "colab": {
          "base_uri": "https://localhost:8080/"
        },
        "id": "X3PJU-oKwi85",
        "outputId": "dae8a37f-0729-4998-a900-5939dc10b938"
      },
      "execution_count": 35,
      "outputs": [
        {
          "output_type": "stream",
          "name": "stdout",
          "text": [
            "(381109, 1)\n",
            "(127037, 1)\n"
          ]
        }
      ]
    },
    {
      "cell_type": "code",
      "source": [
        ""
      ],
      "metadata": {
        "id": "JF4JrMF_wi4L"
      },
      "execution_count": 35,
      "outputs": []
    },
    {
      "cell_type": "markdown",
      "source": [
        "### Annual Premium"
      ],
      "metadata": {
        "id": "JSG_A5ptwiyZ"
      }
    },
    {
      "cell_type": "code",
      "source": [
        "scaler = MinMaxScaler()\n",
        "scaler.fit(train['Annual_Premium'].values.reshape(-1, 1))\n",
        "x_train_premium = scaler.transform(train['Annual_Premium'].values.reshape(-1, 1))\n",
        "x_test_premium = scaler.transform(test['Annual_Premium'].values.reshape(-1, 1))\n",
        "\n",
        "print(x_train_premium.shape)\n",
        "print(x_test_premium.shape)"
      ],
      "metadata": {
        "colab": {
          "base_uri": "https://localhost:8080/"
        },
        "id": "yCrq6BR3witR",
        "outputId": "915a4d90-c4b4-4d89-d0e5-8f8805710bf2"
      },
      "execution_count": 36,
      "outputs": [
        {
          "output_type": "stream",
          "name": "stdout",
          "text": [
            "(381109, 1)\n",
            "(127037, 1)\n"
          ]
        }
      ]
    },
    {
      "cell_type": "code",
      "source": [
        "x_train_premium_n = train['Annual_Premium'].values.reshape(-1, 1)\n",
        "x_test_premium_n = test['Annual_Premium'].values.reshape(-1, 1)\n",
        "\n",
        "print(x_train_premium_n.shape)\n",
        "print(x_test_premium_n.shape)"
      ],
      "metadata": {
        "colab": {
          "base_uri": "https://localhost:8080/"
        },
        "id": "bwl6dWBvwioN",
        "outputId": "7cc6ac36-b757-4b1c-ec79-6ac1dbcbec6b"
      },
      "execution_count": 37,
      "outputs": [
        {
          "output_type": "stream",
          "name": "stdout",
          "text": [
            "(381109, 1)\n",
            "(127037, 1)\n"
          ]
        }
      ]
    },
    {
      "cell_type": "code",
      "source": [
        ""
      ],
      "metadata": {
        "id": "1tRQEwjewijC"
      },
      "execution_count": 37,
      "outputs": []
    },
    {
      "cell_type": "code",
      "source": [
        ""
      ],
      "metadata": {
        "id": "PMC9tHZQwibq"
      },
      "execution_count": 37,
      "outputs": []
    },
    {
      "cell_type": "markdown",
      "source": [
        "### Policy Sales Channel"
      ],
      "metadata": {
        "id": "AYQpQ42Bvf0x"
      }
    },
    {
      "cell_type": "code",
      "source": [
        "encoder = OneHotEncoder(handle_unknown = 'ignore')\n",
        "encoder.fit(train['Policy_Sales_Channel'].values.reshape(-1, 1))\n",
        "\n",
        "x_train_sales_chnl = encoder.transform(train['Policy_Sales_Channel'].values.reshape(-1, 1))\n",
        "x_test_sales_chnl = encoder.transform(test['Policy_Sales_Channel'].values.reshape(-1, 1))\n",
        "\n",
        "print(x_train_sales_chnl.shape)\n",
        "print(x_test_sales_chnl.shape)"
      ],
      "metadata": {
        "colab": {
          "base_uri": "https://localhost:8080/"
        },
        "id": "JT9ZaQgTwp6T",
        "outputId": "838c5d9d-23fe-4a31-da00-6dcec0282d6a"
      },
      "execution_count": 38,
      "outputs": [
        {
          "output_type": "stream",
          "name": "stdout",
          "text": [
            "(381109, 155)\n",
            "(127037, 155)\n"
          ]
        }
      ]
    },
    {
      "cell_type": "markdown",
      "source": [
        "Response Encoding"
      ],
      "metadata": {
        "id": "hD-86vY4wp-_"
      }
    },
    {
      "cell_type": "code",
      "source": [
        "sales_chnl_dict = get_feature_dict('Policy_Sales_Channel')\n",
        "sales_chnl_dict"
      ],
      "metadata": {
        "colab": {
          "base_uri": "https://localhost:8080/"
        },
        "id": "c81QOlqwvfut",
        "outputId": "e4cf0fd5-e4e4-4985-a9b2-499912ba3eff",
        "collapsed": true
      },
      "execution_count": 39,
      "outputs": [
        {
          "output_type": "execute_result",
          "data": {
            "text/plain": [
              "{1.0: 0.032588,\n",
              " 2.0: 0.25,\n",
              " 3.0: 0.304015,\n",
              " 4.0: 0.200393,\n",
              " 6.0: 0.0,\n",
              " 7.0: 0.113892,\n",
              " 8.0: 0.082508,\n",
              " 9.0: 0.100592,\n",
              " 10.0: 0.189394,\n",
              " 11.0: 0.089776,\n",
              " 12.0: 0.168582,\n",
              " 13.0: 0.147453,\n",
              " 14.0: 0.101286,\n",
              " 15.0: 0.087838,\n",
              " 16.0: 0.086042,\n",
              " 17.0: 0.1875,\n",
              " 18.0: 0.035928,\n",
              " 19.0: 0.085586,\n",
              " 20.0: 0.111111,\n",
              " 21.0: 0.081081,\n",
              " 22.0: 0.054217,\n",
              " 23.0: 0.137441,\n",
              " 24.0: 0.132,\n",
              " 25.0: 0.199675,\n",
              " 26.0: 0.199385,\n",
              " 27.0: 0.333333,\n",
              " 28.0: 0.333333,\n",
              " 29.0: 0.125741,\n",
              " 30.0: 0.110638,\n",
              " 31.0: 0.253566,\n",
              " 32.0: 0.095238,\n",
              " 33.0: 0.0,\n",
              " 34.0: 0.0,\n",
              " 35.0: 0.133333,\n",
              " 36.0: 0.326923,\n",
              " 37.0: 0.098684,\n",
              " 38.0: 0.0,\n",
              " 39.0: 0.1,\n",
              " 40.0: 0.133333,\n",
              " 41.0: 0.0,\n",
              " 42.0: 0.19697,\n",
              " 43.0: 1.0,\n",
              " 44.0: 0.19802,\n",
              " 45.0: 0.148936,\n",
              " 46.0: 0.0,\n",
              " 47.0: 0.126984,\n",
              " 48.0: 0.05,\n",
              " 49.0: 0.142857,\n",
              " 50.0: 0.0,\n",
              " 51.0: 0.083333,\n",
              " 52.0: 0.109005,\n",
              " 53.0: 0.21875,\n",
              " 54.0: 0.16,\n",
              " 55.0: 0.149525,\n",
              " 56.0: 0.184615,\n",
              " 57.0: 0.2,\n",
              " 58.0: 0.111111,\n",
              " 59.0: 0.19685,\n",
              " 60.0: 0.102515,\n",
              " 61.0: 0.096718,\n",
              " 62.0: 0.166667,\n",
              " 63.0: 0.052632,\n",
              " 64.0: 0.05618,\n",
              " 65.0: 0.067797,\n",
              " 66.0: 0.055556,\n",
              " 67.0: 0.0,\n",
              " 68.0: 0.25,\n",
              " 69.0: 0.166667,\n",
              " 70.0: 0.0,\n",
              " 71.0: 0.0,\n",
              " 73.0: 0.076923,\n",
              " 74.0: 0.0,\n",
              " 75.0: 0.0,\n",
              " 76.0: 0.0,\n",
              " 78.0: 0.130435,\n",
              " 79.0: 0.0,\n",
              " 80.0: 0.285714,\n",
              " 81.0: 0.285714,\n",
              " 82.0: 0.0,\n",
              " 83.0: 0.0,\n",
              " 84.0: 0.0,\n",
              " 86.0: 0.125,\n",
              " 87.0: 0.285714,\n",
              " 88.0: 0.058824,\n",
              " 89.0: 0.142857,\n",
              " 90.0: 0.269231,\n",
              " 91.0: 0.183544,\n",
              " 92.0: 0.125,\n",
              " 93.0: 0.107143,\n",
              " 94.0: 0.195652,\n",
              " 95.0: 0.0,\n",
              " 96.0: 0.0,\n",
              " 97.0: 0.076923,\n",
              " 98.0: 0.047619,\n",
              " 99.0: 0.0,\n",
              " 100.0: 0.25,\n",
              " 101.0: 0.285714,\n",
              " 102.0: 0.0,\n",
              " 103.0: 0.125,\n",
              " 104.0: 0.0,\n",
              " 105.0: 0.0,\n",
              " 106.0: 0.230769,\n",
              " 107.0: 0.037037,\n",
              " 108.0: 0.026316,\n",
              " 109.0: 0.12,\n",
              " 110.0: 0.090909,\n",
              " 111.0: 0.132353,\n",
              " 112.0: 0.0,\n",
              " 113.0: 0.067308,\n",
              " 114.0: 0.130435,\n",
              " 115.0: 0.0,\n",
              " 116.0: 0.116883,\n",
              " 117.0: 0.0,\n",
              " 118.0: 0.0,\n",
              " 119.0: 0.048544,\n",
              " 120.0: 0.084525,\n",
              " 121.0: 0.296875,\n",
              " 122.0: 0.173212,\n",
              " 123.0: 1.0,\n",
              " 124.0: 0.189148,\n",
              " 125.0: 0.123782,\n",
              " 126.0: 0.0,\n",
              " 127.0: 0.072727,\n",
              " 128.0: 0.094891,\n",
              " 129.0: 0.068182,\n",
              " 130.0: 0.090909,\n",
              " 131.0: 0.115702,\n",
              " 132.0: 0.064516,\n",
              " 133.0: 0.047059,\n",
              " 134.0: 0.0,\n",
              " 135.0: 0.089109,\n",
              " 136.0: 0.216216,\n",
              " 137.0: 0.0,\n",
              " 138.0: 0.096774,\n",
              " 139.0: 0.090909,\n",
              " 140.0: 0.065421,\n",
              " 143.0: 0.0,\n",
              " 144.0: 0.0,\n",
              " 145.0: 0.132184,\n",
              " 146.0: 0.0,\n",
              " 147.0: 0.184783,\n",
              " 148.0: 0.103896,\n",
              " 149.0: 0.0,\n",
              " 150.0: 0.24359,\n",
              " 151.0: 0.031403,\n",
              " 152.0: 0.028624,\n",
              " 153.0: 0.059308,\n",
              " 154.0: 0.245954,\n",
              " 155.0: 0.320097,\n",
              " 156.0: 0.215458,\n",
              " 157.0: 0.268402,\n",
              " 158.0: 0.27439,\n",
              " 159.0: 0.019608,\n",
              " 160.0: 0.02181,\n",
              " 163.0: 0.304183}"
            ]
          },
          "metadata": {},
          "execution_count": 39
        }
      ]
    },
    {
      "cell_type": "code",
      "source": [
        "x_train_sales_chnl_resp = train['Policy_Sales_Channel'].apply(lambda x: sales_chnl_dict[x])\n",
        "x_train_sales_chnl_resp = x_train_sales_chnl_resp.values.reshape(-1, 1)\n",
        "\n",
        "x_test_sales_chnl_resp = test['Policy_Sales_Channel'].apply(lambda x: sales_chnl_dict[x] if x in sales_chnl_dict.keys() \n",
        "                                                                                              else np.median(list(sales_chnl_dict.values())))\n",
        "x_test_sales_chnl_resp = x_test_sales_chnl_resp.values.reshape(-1, 1)\n",
        "\n",
        "print(x_train_sales_chnl_resp.shape)\n",
        "print(x_test_sales_chnl_resp.shape)"
      ],
      "metadata": {
        "colab": {
          "base_uri": "https://localhost:8080/"
        },
        "id": "TYVGOy7Pwsi6",
        "outputId": "410f2d23-1ac5-45ff-9eed-2cb61a75a4d0"
      },
      "execution_count": 40,
      "outputs": [
        {
          "output_type": "stream",
          "name": "stdout",
          "text": [
            "(381109, 1)\n",
            "(127037, 1)\n"
          ]
        }
      ]
    },
    {
      "cell_type": "code",
      "source": [
        ""
      ],
      "metadata": {
        "id": "Mw7qzLpfwuxV"
      },
      "execution_count": 40,
      "outputs": []
    },
    {
      "cell_type": "markdown",
      "source": [
        "### Vinatge"
      ],
      "metadata": {
        "id": "jX1DeNrZwr_V"
      }
    },
    {
      "cell_type": "code",
      "source": [
        "scaler = MinMaxScaler()\n",
        "scaler.fit(train['Vintage'].values.reshape(-1, 1))\n",
        "x_train_vintage = scaler.transform(train['Vintage'].values.reshape(-1, 1))\n",
        "x_test_vintage = scaler.transform(test['Vintage'].values.reshape(-1, 1))\n",
        "\n",
        "print(x_train_vintage.shape)\n",
        "print(x_test_vintage.shape)"
      ],
      "metadata": {
        "colab": {
          "base_uri": "https://localhost:8080/"
        },
        "id": "4R9__I8xwvec",
        "outputId": "e97ffeca-c8c3-488c-9646-c1c33bdd5423"
      },
      "execution_count": 41,
      "outputs": [
        {
          "output_type": "stream",
          "name": "stdout",
          "text": [
            "(381109, 1)\n",
            "(127037, 1)\n"
          ]
        }
      ]
    },
    {
      "cell_type": "code",
      "source": [
        "x_train_vintage_n = train['Vintage'].values.reshape(-1, 1)\n",
        "x_test_vintage_n =  test['Vintage'].values.reshape(-1, 1)\n",
        "\n",
        "print(x_train_vintage_n.shape)\n",
        "print(x_test_vintage_n.shape)"
      ],
      "metadata": {
        "colab": {
          "base_uri": "https://localhost:8080/"
        },
        "id": "aiQS_aVe13y2",
        "outputId": "74a565d9-04fc-4524-a582-5a00ff93b037"
      },
      "execution_count": 42,
      "outputs": [
        {
          "output_type": "stream",
          "name": "stdout",
          "text": [
            "(381109, 1)\n",
            "(127037, 1)\n"
          ]
        }
      ]
    },
    {
      "cell_type": "code",
      "source": [
        ""
      ],
      "metadata": {
        "id": "x0apYUnEwvi6"
      },
      "execution_count": 42,
      "outputs": []
    },
    {
      "cell_type": "markdown",
      "source": [
        "# Stacking all features together"
      ],
      "metadata": {
        "id": "HyQ3Fx_cwvmy"
      }
    },
    {
      "cell_type": "markdown",
      "source": [
        "### Set 1: Label Encoded + One Hot encoded categorical features + scaled numerical features"
      ],
      "metadata": {
        "id": "3vQn6WP2wvrc"
      }
    },
    {
      "cell_type": "code",
      "source": [
        "y_train_all = train['Response'].values"
      ],
      "metadata": {
        "id": "WL908dfgwvvU"
      },
      "execution_count": 43,
      "outputs": []
    },
    {
      "cell_type": "code",
      "source": [
        "from scipy.sparse import hstack\n",
        "\n",
        "x_train_ohe = hstack((x_train_gender, x_train_age, x_train_license, \n",
        "                      x_train_region_code, x_train_prev_ins, \n",
        "                       x_train_vehicle_age, x_train_damage, \n",
        "                      x_train_premium, x_train_sales_chnl, x_train_vintage))\n",
        "\n",
        "x_test_ohe = hstack((x_test_gender, x_test_age, x_test_license, \n",
        "                     x_test_region_code, x_test_prev_ins, \n",
        "                      x_test_vehicle_age, x_test_damage, \n",
        "                     x_test_premium, x_test_sales_chnl, x_test_vintage)) \n",
        "\n",
        "print(\"train data shape:\", (x_train_ohe.shape, y_train_all.shape))\n",
        "print(\"test data shape:\", x_test_ohe.shape)"
      ],
      "metadata": {
        "colab": {
          "base_uri": "https://localhost:8080/"
        },
        "id": "1MBF7EFwwvzR",
        "outputId": "0fa2c6b0-eaa5-4ce7-ff32-72c17fd46660"
      },
      "execution_count": 44,
      "outputs": [
        {
          "output_type": "stream",
          "name": "stdout",
          "text": [
            "train data shape: ((381109, 218), (381109,))\n",
            "test data shape: (127037, 218)\n"
          ]
        }
      ]
    },
    {
      "cell_type": "code",
      "source": [
        ""
      ],
      "metadata": {
        "id": "hm4FsKo2wv28"
      },
      "execution_count": 44,
      "outputs": []
    },
    {
      "cell_type": "markdown",
      "source": [
        "### Set 2: Label Encoded + Response encoded categorical features + Numerical features"
      ],
      "metadata": {
        "id": "z3yHhJL3wv60"
      }
    },
    {
      "cell_type": "code",
      "source": [
        "x_train_r = np.hstack((x_train_gender, x_train_age_n, x_train_age_cat, x_train_license, \n",
        "                       x_train_region_code_resp, x_train_prev_ins, \n",
        "                       x_train_vehicle_age_resp, x_train_damage, x_train_premium_n, \n",
        "                       x_train_sales_chnl_resp, x_train_vintage_n))\n",
        "\n",
        "x_test_r = np.hstack((x_test_gender, x_test_age_n, x_test_age_cat, x_test_license, \n",
        "                      x_test_region_code_resp, x_test_prev_ins, \n",
        "                      x_test_vehicle_age_resp, x_test_damage, x_test_premium_n, \n",
        "                      x_test_sales_chnl_resp, x_test_vintage_n)) \n",
        "\n",
        "print(\"train data shape:\", (x_train_r.shape, y_train_all.shape))\n",
        "print(\"test data shape:\", x_test_r.shape)"
      ],
      "metadata": {
        "colab": {
          "base_uri": "https://localhost:8080/"
        },
        "id": "ThwMZnS11O3c",
        "outputId": "e7b56a04-700a-4ce7-d651-b8644e638d0b"
      },
      "execution_count": 45,
      "outputs": [
        {
          "output_type": "stream",
          "name": "stdout",
          "text": [
            "train data shape: ((381109, 11), (381109,))\n",
            "test data shape: (127037, 11)\n"
          ]
        }
      ]
    },
    {
      "cell_type": "code",
      "source": [
        ""
      ],
      "metadata": {
        "id": "M5BVrai-1OuS"
      },
      "execution_count": 48,
      "outputs": []
    },
    {
      "cell_type": "code",
      "source": [
        ""
      ],
      "metadata": {
        "id": "FphJEhyMUzdr"
      },
      "execution_count": 48,
      "outputs": []
    },
    {
      "cell_type": "markdown",
      "source": [
        "# Train-Validation Split"
      ],
      "metadata": {
        "id": "lPJ1ejJBUzhL"
      }
    },
    {
      "cell_type": "code",
      "source": [
        "inputs = train_dum.drop('Response', axis=1)\n",
        "targets = train_dum['Response']\n",
        "\n",
        "x_test = test_dum.copy()"
      ],
      "metadata": {
        "id": "v2nSvHPEUzky"
      },
      "execution_count": null,
      "outputs": []
    },
    {
      "cell_type": "code",
      "source": [
        "from sklearn.model_selection import StratifiedKFold"
      ],
      "metadata": {
        "id": "luSIlaGPUzoz"
      },
      "execution_count": null,
      "outputs": []
    },
    {
      "cell_type": "code",
      "source": [
        "skf = StratifiedKFold(n_splits=10)\n",
        "\n",
        "for train_idx, val_idx in skf.split(inputs, targets):\n",
        "    x_train, x_val = inputs.iloc[train_idx], inputs.iloc[val_idx]\n",
        "    y_train, y_val = targets.iloc[train_idx], targets.iloc[val_idx]"
      ],
      "metadata": {
        "id": "Yl8goFkAUztD"
      },
      "execution_count": null,
      "outputs": []
    },
    {
      "cell_type": "code",
      "source": [
        ""
      ],
      "metadata": {
        "id": "2jvQHdT0Uzwq"
      },
      "execution_count": null,
      "outputs": []
    },
    {
      "cell_type": "markdown",
      "source": [
        "# Building ML models"
      ],
      "metadata": {
        "id": "w8DFmMNpU0BE"
      }
    },
    {
      "cell_type": "markdown",
      "source": [
        "## With Set 1 features"
      ],
      "metadata": {
        "id": "kJFeTbNpU0FS"
      }
    },
    {
      "cell_type": "markdown",
      "source": [
        "### Logistic Regression with SGD"
      ],
      "metadata": {
        "id": "JvkW-pARU0JT"
      }
    },
    {
      "cell_type": "code",
      "source": [
        "from sklearn.linear_model import SGDClassifier\n",
        "from sklearn.calibration import CalibratedClassifierCV"
      ],
      "metadata": {
        "id": "KYtf60A4U0NS"
      },
      "execution_count": 46,
      "outputs": []
    },
    {
      "cell_type": "code",
      "source": [
        "sgd = SGDClassifier(loss = 'log', class_weight='balanced')\n",
        "parameter = {'alpha':[0.001, 0.01, 0.1]}\n",
        "clf =GridSearchCV(sgd, parameter, cv=5, scoring='roc_auc', n_jobs=-1,\n",
        "                  return_train_score=True)\n",
        "clf.fit(x_train_ohe, y_train_all)"
      ],
      "metadata": {
        "id": "QyC4GNleU0RD",
        "colab": {
          "base_uri": "https://localhost:8080/"
        },
        "outputId": "8eeb66f9-c2a8-4de3-cfa7-37a84aaa2c7d"
      },
      "execution_count": 47,
      "outputs": [
        {
          "output_type": "execute_result",
          "data": {
            "text/plain": [
              "GridSearchCV(cv=5, estimator=SGDClassifier(class_weight='balanced', loss='log'),\n",
              "             n_jobs=-1, param_grid={'alpha': [0.001, 0.01, 0.1]},\n",
              "             return_train_score=True, scoring='roc_auc')"
            ]
          },
          "metadata": {},
          "execution_count": 47
        }
      ]
    },
    {
      "cell_type": "code",
      "source": [
        ""
      ],
      "metadata": {
        "id": "WPWGK7uYU0VB"
      },
      "execution_count": 47,
      "outputs": []
    },
    {
      "cell_type": "code",
      "source": [
        "train_loss = clf.cv_results_['mean_train_score']\n",
        "cv_loss = clf.cv_results_['mean_test_score']\n",
        "plt.plot(parameter['alpha'], train_loss, label='Train score')\n",
        "plt.plot(parameter['alpha'], cv_loss, label='CV score')\n",
        "\n",
        "plt.scatter(parameter['alpha'], train_loss, label='Train score')\n",
        "plt.scatter(parameter['alpha'], cv_loss, label='CV score')\n",
        "plt.xscale('log')\n",
        "\n",
        "plt.legend()\n",
        "plt.xlabel('hyperparameter: alpha')\n",
        "plt.ylabel(\"AUC score\")\n",
        "plt.grid()\n",
        "plt.show()"
      ],
      "metadata": {
        "id": "0xBP5cDOU0Yd",
        "colab": {
          "base_uri": "https://localhost:8080/",
          "height": 283
        },
        "outputId": "496a08c9-2156-4040-b557-12d66f0e538f"
      },
      "execution_count": 48,
      "outputs": [
        {
          "output_type": "display_data",
          "data": {
            "image/png": "[encoded data removed]",
            "text/plain": [
              "<Figure size 432x288 with 1 Axes>"
            ]
          },
          "metadata": {
            "needs_background": "light"
          }
        }
      ]
    },
    {
      "cell_type": "code",
      "source": [
        ""
      ],
      "metadata": {
        "id": "oPtCB2OOU0cp"
      },
      "execution_count": 48,
      "outputs": []
    },
    {
      "cell_type": "markdown",
      "source": [
        "with only L1 regularization"
      ],
      "metadata": {
        "id": "2B8EAPn2U0g6"
      }
    },
    {
      "cell_type": "code",
      "source": [
        "sgd = SGDClassifier(loss='log', class_weight='balanced', l1_ratio=1)\n",
        "parameter = {'alpha':[0.0001, 0.001, 0.01, 0.1]}\n",
        "clf = GridSearchCV(sgd, parameter, cv=5, scoring='roc_auc', n_jobs=-1,\n",
        "                   return_train_score=True)\n",
        "clf.fit(x_train_ohe, y_train_all)"
      ],
      "metadata": {
        "id": "Sc3FKglaU0kw",
        "colab": {
          "base_uri": "https://localhost:8080/"
        },
        "outputId": "9705603a-3dc4-4edc-b7de-6f0ffb6aef69"
      },
      "execution_count": 49,
      "outputs": [
        {
          "output_type": "execute_result",
          "data": {
            "text/plain": [
              "GridSearchCV(cv=5,\n",
              "             estimator=SGDClassifier(class_weight='balanced', l1_ratio=1,\n",
              "                                     loss='log'),\n",
              "             n_jobs=-1, param_grid={'alpha': [0.0001, 0.001, 0.01, 0.1]},\n",
              "             return_train_score=True, scoring='roc_auc')"
            ]
          },
          "metadata": {},
          "execution_count": 49
        }
      ]
    },
    {
      "cell_type": "code",
      "source": [
        "train_loss = clf.cv_results_['mean_train_score']\n",
        "cv_loss = clf.cv_results_['mean_test_score']\n",
        "plt.plot(parameter['alpha'], train_loss, label='Train score')\n",
        "plt.plot(parameter['alpha'], cv_loss, label='CV score')\n",
        "\n",
        "plt.scatter(parameter['alpha'], train_loss, label='Train score')\n",
        "plt.scatter(parameter['alpha'], cv_loss, label='CV score')\n",
        "plt.xscale('log')\n",
        "\n",
        "plt.legend()\n",
        "plt.xlabel('hyperparameter: alpha')\n",
        "plt.ylabel(\"AUC score\")\n",
        "plt.grid()\n",
        "plt.show()"
      ],
      "metadata": {
        "colab": {
          "base_uri": "https://localhost:8080/",
          "height": 283
        },
        "id": "b-Q2LSopJ9KE",
        "outputId": "7b633127-d443-4cbb-dff5-9d669607c790"
      },
      "execution_count": 50,
      "outputs": [
        {
          "output_type": "display_data",
          "data": {
            "image/png": "[encoded data removed]",
            "text/plain": [
              "<Figure size 432x288 with 1 Axes>"
            ]
          },
          "metadata": {
            "needs_background": "light"
          }
        }
      ]
    },
    {
      "cell_type": "code",
      "source": [
        ""
      ],
      "metadata": {
        "id": "mgC6wxCpJ9Nc"
      },
      "execution_count": 50,
      "outputs": []
    },
    {
      "cell_type": "markdown",
      "source": [
        "### Linear SVM classifier using SGD"
      ],
      "metadata": {
        "id": "Sd0KMZm_J9RC"
      }
    },
    {
      "cell_type": "code",
      "source": [
        "sgd = SGDClassifier(loss = 'hinge', class_weight = 'balanced') \n",
        "parameter = {'alpha': [0.0001, 0.001, 0.01, 0.1]}\n",
        "clf = GridSearchCV(sgd, parameter, cv = 5, scoring = 'roc_auc', n_jobs = -1, \n",
        "                   return_train_score = True)\n",
        "clf.fit(x_train_ohe, y_train_all)"
      ],
      "metadata": {
        "colab": {
          "base_uri": "https://localhost:8080/"
        },
        "id": "JDxvvAV7J9UW",
        "outputId": "0e579c0a-a1e7-4290-b738-c212c3606c46"
      },
      "execution_count": 51,
      "outputs": [
        {
          "output_type": "execute_result",
          "data": {
            "text/plain": [
              "GridSearchCV(cv=5, estimator=SGDClassifier(class_weight='balanced'), n_jobs=-1,\n",
              "             param_grid={'alpha': [0.0001, 0.001, 0.01, 0.1]},\n",
              "             return_train_score=True, scoring='roc_auc')"
            ]
          },
          "metadata": {},
          "execution_count": 51
        }
      ]
    },
    {
      "cell_type": "code",
      "source": [
        "train_loss = clf.cv_results_['mean_train_score']\n",
        "cv_loss = clf.cv_results_['mean_test_score']\n",
        "plt.plot(parameter['alpha'], train_loss, label='Train score')\n",
        "plt.plot(parameter['alpha'], cv_loss, label='CV score')\n",
        "\n",
        "plt.scatter(parameter['alpha'], train_loss, label='Train score')\n",
        "plt.scatter(parameter['alpha'], cv_loss, label='CV score')\n",
        "plt.xscale('log')\n",
        "\n",
        "plt.legend()\n",
        "plt.xlabel('hyperparameter: alpha')\n",
        "plt.ylabel(\"AUC score\")\n",
        "plt.grid()\n",
        "plt.show()"
      ],
      "metadata": {
        "colab": {
          "base_uri": "https://localhost:8080/",
          "height": 283
        },
        "id": "g3cA1tjkJ9XW",
        "outputId": "9be76002-1960-49db-fdbe-f2aa9e70f5a8"
      },
      "execution_count": 52,
      "outputs": [
        {
          "output_type": "display_data",
          "data": {
            "image/png": "[encoded data removed]",
            "text/plain": [
              "<Figure size 432x288 with 1 Axes>"
            ]
          },
          "metadata": {
            "needs_background": "light"
          }
        }
      ]
    },
    {
      "cell_type": "code",
      "source": [
        ""
      ],
      "metadata": {
        "id": "URK9689pJ9a2"
      },
      "execution_count": 52,
      "outputs": []
    },
    {
      "cell_type": "markdown",
      "source": [
        "### Logistic Regression with default parameters"
      ],
      "metadata": {
        "id": "eK0b8vN9J9eb"
      }
    },
    {
      "cell_type": "code",
      "source": [
        "from sklearn.metrics import roc_auc_score\n",
        "\n",
        "sgd_clf = SGDClassifier(loss = 'log', class_weight= 'balanced', random_state = 12)\n",
        "sgd_clf.fit(x_train_ohe, y_train_all)\n",
        "sig_clf = CalibratedClassifierCV(sgd_clf, method = \"sigmoid\")\n",
        "sig_clf.fit(x_train_ohe, y_train_all)\n",
        "\n",
        "y_pred_train = sig_clf.predict_proba(x_train_ohe)\n",
        "y_pred_test = sig_clf.predict_proba(x_test_ohe)\n",
        "\n",
        "print(\"Train Score:\", roc_auc_score(y_train_all, y_pred_train[:, 1]))"
      ],
      "metadata": {
        "colab": {
          "base_uri": "https://localhost:8080/"
        },
        "id": "FUV1pcMAJ9iJ",
        "outputId": "a19c2d79-8d9d-450c-a22b-35ba1362f568"
      },
      "execution_count": 53,
      "outputs": [
        {
          "output_type": "stream",
          "name": "stdout",
          "text": [
            "Train Score: 0.8495466780755871\n"
          ]
        }
      ]
    },
    {
      "cell_type": "code",
      "source": [
        ""
      ],
      "metadata": {
        "id": "uhBTYFfSJ9lJ"
      },
      "execution_count": 53,
      "outputs": []
    },
    {
      "cell_type": "code",
      "source": [
        "from sklearn.linear_model import LogisticRegression\n",
        "from sklearn.tree import DecisionTreeClassifier\n",
        "from sklearn.ensemble import RandomForestClassifier\n",
        "from sklearn.neighbors import KNeighborsClassifier\n",
        "from xgboost import XGBClassifier\n",
        "from sklearn.model_selection import train_test_split,cross_val_score,KFold"
      ],
      "metadata": {
        "id": "fZNPkufdJ9oP"
      },
      "execution_count": 54,
      "outputs": []
    },
    {
      "cell_type": "code",
      "source": [
        "np.unique(y_train_all, return_counts=True)"
      ],
      "metadata": {
        "id": "BiXU0HEDJ9rq",
        "colab": {
          "base_uri": "https://localhost:8080/"
        },
        "outputId": "3f9c56b5-6a10-4ce6-c80f-5bc5c7cb758a"
      },
      "execution_count": 55,
      "outputs": [
        {
          "output_type": "execute_result",
          "data": {
            "text/plain": [
              "(array([0, 1]), array([334399,  46710]))"
            ]
          },
          "metadata": {},
          "execution_count": 55
        }
      ]
    },
    {
      "cell_type": "code",
      "source": [
        "x_train,x_val,y_train,y_val = train_test_split(x_train_ohe,y_train_all,test_size = 0.30 ,random_state = 5)"
      ],
      "metadata": {
        "id": "K6fdGJQVJ9uv"
      },
      "execution_count": 56,
      "outputs": []
    },
    {
      "cell_type": "markdown",
      "source": [
        "### Baseline Model with imbalanced dataset"
      ],
      "metadata": {
        "id": "NDKx6Trjmfne"
      }
    },
    {
      "cell_type": "code",
      "source": [
        "lr=LogisticRegression(solver=\"liblinear\", random_state=5)\n",
        "\n",
        "lr.fit(x_train,y_train)"
      ],
      "metadata": {
        "colab": {
          "base_uri": "https://localhost:8080/"
        },
        "id": "tKbKF8y6miye",
        "outputId": "a8ce915a-90de-4ae8-87c4-e79fbab69ce1"
      },
      "execution_count": 57,
      "outputs": [
        {
          "output_type": "execute_result",
          "data": {
            "text/plain": [
              "LogisticRegression(random_state=5, solver='liblinear')"
            ]
          },
          "metadata": {},
          "execution_count": 57
        }
      ]
    },
    {
      "cell_type": "markdown",
      "source": [
        "Plotting ROC curve for baseline model"
      ],
      "metadata": {
        "id": "OXGnPwU_misd"
      }
    },
    {
      "cell_type": "code",
      "source": [
        "ns_probs = [0 for _ in range(len(y_val))]\n",
        "\n",
        "lr_probs = lr.predict_proba(x_val)\n",
        "# keep probabilities for the positive outcome only\n",
        "lr_probs = lr_probs[:, 1]\n",
        "# calculate scores\n",
        "ns_auc = roc_auc_score(y_val, ns_probs)\n",
        "lr_auc = roc_auc_score(y_val, lr_probs)\n",
        "# summarize scores\n",
        "print('No Skill: ROC AUC=%.3f' % (ns_auc))\n",
        "print('Logistic: ROC AUC=%.3f' % (lr_auc))\n",
        "# calculate roc curves\n",
        "ns_fpr, ns_tpr, _ = roc_curve(y_val, ns_probs)\n",
        "lr_fpr, lr_tpr, _ = roc_curve(y_val, lr_probs)\n",
        "# plot the roc curve for the model\n",
        "plt.plot(ns_fpr, ns_tpr, linestyle='--', label='No Skill')\n",
        "plt.plot(lr_fpr, lr_tpr, marker='.', label='Logistic')\n",
        "# axis labels\n",
        "plt.xlabel('False Positive Rate')\n",
        "plt.ylabel('True Positive Rate')\n",
        "# show the legend\n",
        "plt.legend()\n",
        "# show the plot\n",
        "\n",
        "plt.show()"
      ],
      "metadata": {
        "colab": {
          "base_uri": "https://localhost:8080/",
          "height": 314
        },
        "id": "PEIgh_S4S3CN",
        "outputId": "e79461c0-6cfa-4412-976d-7c82998d03a5"
      },
      "execution_count": 58,
      "outputs": [
        {
          "output_type": "stream",
          "name": "stdout",
          "text": [
            "No Skill: ROC AUC=0.500\n",
            "Logistic: ROC AUC=0.848\n"
          ]
        },
        {
          "output_type": "display_data",
          "data": {
            "image/png": "[encoded data removed]",
            "text/plain": [
              "<Figure size 432x288 with 1 Axes>"
            ]
          },
          "metadata": {
            "needs_background": "light"
          }
        }
      ]
    },
    {
      "cell_type": "markdown",
      "source": [
        "with the simplest classification model algorithm we are able to get ROC-AUC score as 84.8"
      ],
      "metadata": {
        "id": "AAmJQtXSS28w"
      }
    },
    {
      "cell_type": "markdown",
      "source": [
        "#### Testing other models"
      ],
      "metadata": {
        "id": "O0LahmfrZjDp"
      }
    },
    {
      "cell_type": "code",
      "source": [
        "models=[]\n",
        "models.append(('LogisticRegression',LogisticRegression(solver=\"liblinear\", random_state=5)))\n",
        "models.append(('DecisionTree',DecisionTreeClassifier(random_state=5)))\n",
        "models.append(('RandomForest',RandomForestClassifier(random_state=5)))\n",
        "models.append(('knn',KNeighborsClassifier()))"
      ],
      "metadata": {
        "id": "v8OvqoU-XMVQ"
      },
      "execution_count": 59,
      "outputs": []
    },
    {
      "cell_type": "code",
      "source": [
        "results=[]\n",
        "names=[]\n",
        "for name,model in models:   \n",
        "    kf=KFold(n_splits=5,shuffle=True,random_state=5)\n",
        "    cv_score=cross_val_score(model,x_train,y_train,cv=kf,\n",
        "                             scoring='roc_auc',verbose=1,n_jobs=-1)\n",
        "    results.append(cv_score)\n",
        "    names.append(name)\n",
        "    msg = \"%s: %f (%f)\" % (name, cv_score.mean(), cv_score.std())\n",
        "    print(msg)"
      ],
      "metadata": {
        "colab": {
          "base_uri": "https://localhost:8080/"
        },
        "id": "ZY40MjjOXMNK",
        "outputId": "a79e83d5-4bd5-42c9-f516-6014a51169b1"
      },
      "execution_count": 60,
      "outputs": [
        {
          "output_type": "stream",
          "name": "stderr",
          "text": [
            "[Parallel(n_jobs=-1)]: Using backend LokyBackend with 2 concurrent workers.\n",
            "[Parallel(n_jobs=-1)]: Done   5 out of   5 | elapsed:    8.4s finished\n",
            "[Parallel(n_jobs=-1)]: Using backend LokyBackend with 2 concurrent workers.\n"
          ]
        },
        {
          "output_type": "stream",
          "name": "stdout",
          "text": [
            "LogisticRegression: 0.849329 (0.000926)\n"
          ]
        },
        {
          "output_type": "stream",
          "name": "stderr",
          "text": [
            "[Parallel(n_jobs=-1)]: Done   5 out of   5 | elapsed:  1.2min finished\n",
            "[Parallel(n_jobs=-1)]: Using backend LokyBackend with 2 concurrent workers.\n"
          ]
        },
        {
          "output_type": "stream",
          "name": "stdout",
          "text": [
            "DecisionTree: 0.599294 (0.004306)\n",
            "RandomForest: 0.833007 (0.001445)\n"
          ]
        },
        {
          "output_type": "stream",
          "name": "stderr",
          "text": [
            "[Parallel(n_jobs=-1)]: Done   5 out of   5 | elapsed: 36.3min finished\n",
            "[Parallel(n_jobs=-1)]: Using backend LokyBackend with 2 concurrent workers.\n"
          ]
        },
        {
          "output_type": "stream",
          "name": "stdout",
          "text": [
            "knn: 0.761616 (0.002693)\n"
          ]
        },
        {
          "output_type": "stream",
          "name": "stderr",
          "text": [
            "[Parallel(n_jobs=-1)]: Done   5 out of   5 | elapsed: 34.9min finished\n"
          ]
        }
      ]
    },
    {
      "cell_type": "code",
      "source": [
        "fig = plt.figure()\n",
        "fig.suptitle('Algorithm Comparison')\n",
        "ax = fig.add_subplot(111)\n",
        "plt.boxplot(results)\n",
        "ax.set_xticklabels(names)\n",
        "# plt.savefig('model_comparison.png')\n",
        "plt.show()"
      ],
      "metadata": {
        "colab": {
          "base_uri": "https://localhost:8080/",
          "height": 294
        },
        "id": "tAebFR2MS23K",
        "outputId": "a77b6a90-d7e8-4f65-d9d3-306cb49a83e5"
      },
      "execution_count": 61,
      "outputs": [
        {
          "output_type": "display_data",
          "data": {
            "image/png": "[encoded data removed]",
            "text/plain": [
              "<Figure size 432x288 with 1 Axes>"
            ]
          },
          "metadata": {
            "needs_background": "light"
          }
        }
      ]
    },
    {
      "cell_type": "code",
      "source": [
        "for name,model in models:\n",
        "#     model = m['model'] # select the model\n",
        "    model.fit(x_train, y_train) # train the model\n",
        "    y_pred=model.predict(x_val) # predict the test data\n",
        "# Compute False postive rate, and True positive rate\n",
        "    fpr, tpr, thresholds = roc_curve(y_val, model.predict_proba(x_val)[:,1])\n",
        "# Calculate Area under the curve to display on the plot\n",
        "    auc =roc_auc_score(y_val,model.predict(x_val))\n",
        "# Now, plot the computed values\n",
        "    plt.plot(fpr, tpr, label='%s ROC (area = %0.2f)' % (name, auc))\n",
        "# Custom settings for the plot \n",
        "plt.plot([0, 1], [0, 1],'r--')\n",
        "plt.xlim([0.0, 1.0])\n",
        "plt.ylim([0.0, 1.05])\n",
        "plt.xlabel('1-Specificity(False Positive Rate)')\n",
        "plt.ylabel('Sensitivity(True Positive Rate)')\n",
        "plt.title('Receiver Operating Characteristic')\n",
        "plt.legend(loc=\"lower right\")\n",
        "plt.show()   # Display"
      ],
      "metadata": {
        "colab": {
          "base_uri": "https://localhost:8080/",
          "height": 295
        },
        "id": "Otrpf4rQSkYP",
        "outputId": "488df708-d0d2-4540-cf96-a485b392ea0a"
      },
      "execution_count": 62,
      "outputs": [
        {
          "output_type": "display_data",
          "data": {
            "image/png": "[encoded data removed]",
            "text/plain": [
              "<Figure size 432x288 with 1 Axes>"
            ]
          },
          "metadata": {
            "needs_background": "light"
          }
        }
      ]
    },
    {
      "cell_type": "code",
      "source": [
        ""
      ],
      "metadata": {
        "id": "Ycj_oG5VUpjC"
      },
      "execution_count": null,
      "outputs": []
    },
    {
      "cell_type": "markdown",
      "source": [
        "### Baseline model with Balanced Dataset"
      ],
      "metadata": {
        "id": "g5sUuW6GUzlj"
      }
    },
    {
      "cell_type": "code",
      "source": [
        "from imblearn.over_sampling import SMOTE"
      ],
      "metadata": {
        "id": "d7Ye432ZT1ta"
      },
      "execution_count": 63,
      "outputs": []
    },
    {
      "cell_type": "code",
      "source": [
        "smote = SMOTE()\n",
        "\n",
        "x_balanced, y_balanced = smote.fit_resample(x_train_ohe, y_train_all)\n",
        "\n",
        "x_train_balanced, x_val_balanced, y_train_balanced, y_val_balanced = train_test_split(x_balanced,\n",
        "                                                                                      y_balanced,\n",
        "                                                                                      test_size=0.3,\n",
        "                                                                                      random_state=5)"
      ],
      "metadata": {
        "id": "vSetEV5rT1pD"
      },
      "execution_count": 64,
      "outputs": []
    },
    {
      "cell_type": "code",
      "source": [
        "plt.subplot(121)\n",
        "sns.countplot(y_train)\n",
        "plt.title('Imbalanced dataset')\n",
        "\n",
        "plt.subplot(122)\n",
        "sns.countplot(y_train_balanced)\n",
        "plt.title('Balanced dataset')\n",
        "\n",
        "plt.tight_layout()\n",
        "plt.show()"
      ],
      "metadata": {
        "colab": {
          "base_uri": "https://localhost:8080/",
          "height": 297
        },
        "id": "ik6TwuFyUpob",
        "outputId": "717091bd-ae65-49f7-f976-b7d25445239e"
      },
      "execution_count": 65,
      "outputs": [
        {
          "output_type": "display_data",
          "data": {
            "image/png": "[encoded data removed]",
            "text/plain": [
              "<Figure size 432x288 with 2 Axes>"
            ]
          },
          "metadata": {
            "needs_background": "light"
          }
        }
      ]
    },
    {
      "cell_type": "code",
      "source": [
        "lr_balanced=LogisticRegression(solver=\"liblinear\", random_state=0)\n",
        "\n",
        "lr_balanced.fit(x_train_balanced,y_train_balanced)"
      ],
      "metadata": {
        "colab": {
          "base_uri": "https://localhost:8080/"
        },
        "id": "pJPC9ai7Updu",
        "outputId": "a5ae3e04-2ab4-4b24-cb8d-cc58ad7031db"
      },
      "execution_count": 66,
      "outputs": [
        {
          "output_type": "execute_result",
          "data": {
            "text/plain": [
              "LogisticRegression(random_state=0, solver='liblinear')"
            ]
          },
          "metadata": {},
          "execution_count": 66
        }
      ]
    },
    {
      "cell_type": "code",
      "source": [
        "ns_probs = [0 for _ in range(len(y_val_balanced))]\n",
        "\n",
        "lr_probs = lr_balanced.predict_proba(x_val_balanced)\n",
        "# keep probabilities for the positive outcome only\n",
        "lr_probs = lr_probs[:, 1]\n",
        "# calculate scores\n",
        "ns_auc = roc_auc_score(y_val_balanced, ns_probs)\n",
        "lr_auc = roc_auc_score(y_val_balanced, lr_probs)\n",
        "# summarize scores\n",
        "print('No Skill: ROC AUC=%.3f' % (ns_auc))\n",
        "print('Logistic: ROC AUC=%.3f' % (lr_auc))\n",
        "# calculate roc curves\n",
        "ns_fpr, ns_tpr, _ = roc_curve(y_val_balanced, ns_probs)\n",
        "lr_fpr, lr_tpr, _ = roc_curve(y_val_balanced, lr_probs)\n",
        "# plot the roc curve for the model\n",
        "plt.plot(ns_fpr, ns_tpr, linestyle='--', label='No Skill')\n",
        "plt.plot(lr_fpr, lr_tpr, marker='.', label='Logistic')\n",
        "# axis labels\n",
        "plt.xlabel('False Positive Rate')\n",
        "plt.ylabel('True Positive Rate')\n",
        "# show the legend\n",
        "plt.legend()\n",
        "# show the plot\n",
        "\n",
        "plt.title('ROC-AUC_Curve')\n",
        "\n",
        "plt.show()"
      ],
      "metadata": {
        "colab": {
          "base_uri": "https://localhost:8080/",
          "height": 330
        },
        "id": "HLEf-M2tUpYi",
        "outputId": "1211efba-7dc5-43fd-d39e-8a2ce22e83ae"
      },
      "execution_count": 67,
      "outputs": [
        {
          "output_type": "stream",
          "name": "stdout",
          "text": [
            "No Skill: ROC AUC=0.500\n",
            "Logistic: ROC AUC=0.852\n"
          ]
        },
        {
          "output_type": "display_data",
          "data": {
            "image/png": "[encoded data removed]",
            "text/plain": [
              "<Figure size 432x288 with 1 Axes>"
            ]
          },
          "metadata": {
            "needs_background": "light"
          }
        }
      ]
    },
    {
      "cell_type": "markdown",
      "source": [
        "with balanced dataset, ROC_AUC score is 85.3"
      ],
      "metadata": {
        "id": "QnQLEDYwUpTo"
      }
    },
    {
      "cell_type": "code",
      "source": [
        ""
      ],
      "metadata": {
        "id": "GBBFDi_iT1iE"
      },
      "execution_count": 67,
      "outputs": []
    },
    {
      "cell_type": "markdown",
      "source": [
        "#### Testing other models"
      ],
      "metadata": {
        "id": "BgV26NCAZp5C"
      }
    },
    {
      "cell_type": "code",
      "source": [
        "models=[]\n",
        "models.append(('LogisticRegression',LogisticRegression(solver=\"liblinear\", random_state=5)))\n",
        "models.append(('DecisionTree',DecisionTreeClassifier(random_state=5)))\n",
        "models.append(('RandomForest',RandomForestClassifier(random_state=5)))\n",
        "models.append(('knn',KNeighborsClassifier()))"
      ],
      "metadata": {
        "id": "BtpG1b4QY6Zd"
      },
      "execution_count": 68,
      "outputs": []
    },
    {
      "cell_type": "code",
      "source": [
        "results=[]\n",
        "names=[]\n",
        "for name,model in models:   \n",
        "    kf=KFold(n_splits=5,shuffle=True,random_state=5)\n",
        "    cv_score=cross_val_score(model,x_train_balanced,y_train_balanced,cv=kf,\n",
        "                             scoring='roc_auc',verbose=1,n_jobs=-1)\n",
        "    results.append(cv_score)\n",
        "    names.append(name)\n",
        "    msg = \"%s: %f (%f)\" % (name, cv_score.mean(), cv_score.std())\n",
        "    print(msg)"
      ],
      "metadata": {
        "colab": {
          "base_uri": "https://localhost:8080/"
        },
        "id": "TqVPt1weY6UX",
        "outputId": "ce6c5a55-5e35-4515-a73a-67aba4222a58"
      },
      "execution_count": 69,
      "outputs": [
        {
          "output_type": "stream",
          "name": "stderr",
          "text": [
            "[Parallel(n_jobs=-1)]: Using backend LokyBackend with 2 concurrent workers.\n",
            "[Parallel(n_jobs=-1)]: Done   5 out of   5 | elapsed:   29.8s finished\n",
            "[Parallel(n_jobs=-1)]: Using backend LokyBackend with 2 concurrent workers.\n"
          ]
        },
        {
          "output_type": "stream",
          "name": "stdout",
          "text": [
            "LogisticRegression: 0.851534 (0.001019)\n"
          ]
        },
        {
          "output_type": "stream",
          "name": "stderr",
          "text": [
            "[Parallel(n_jobs=-1)]: Done   5 out of   5 | elapsed:  2.3min finished\n",
            "[Parallel(n_jobs=-1)]: Using backend LokyBackend with 2 concurrent workers.\n"
          ]
        },
        {
          "output_type": "stream",
          "name": "stdout",
          "text": [
            "DecisionTree: 0.883116 (0.001385)\n"
          ]
        },
        {
          "output_type": "stream",
          "name": "stderr",
          "text": [
            "[Parallel(n_jobs=-1)]: Done   5 out of   5 | elapsed: 104.0min finished\n",
            "[Parallel(n_jobs=-1)]: Using backend LokyBackend with 2 concurrent workers.\n"
          ]
        },
        {
          "output_type": "stream",
          "name": "stdout",
          "text": [
            "RandomForest: 0.956014 (0.000549)\n",
            "knn: 0.901605 (0.001128)\n"
          ]
        },
        {
          "output_type": "stream",
          "name": "stderr",
          "text": [
            "[Parallel(n_jobs=-1)]: Done   5 out of   5 | elapsed: 104.7min finished\n"
          ]
        }
      ]
    },
    {
      "cell_type": "code",
      "source": [
        ""
      ],
      "metadata": {
        "id": "P_kBictnY6Qh"
      },
      "execution_count": 69,
      "outputs": []
    },
    {
      "cell_type": "code",
      "source": [
        "fig = plt.figure()\n",
        "fig.suptitle('Algorithm Comparison')\n",
        "ax = fig.add_subplot(111)\n",
        "plt.boxplot(results)\n",
        "ax.set_xticklabels(names)\n",
        "# plt.savefig('model_comparison.png')\n",
        "plt.show()"
      ],
      "metadata": {
        "colab": {
          "base_uri": "https://localhost:8080/",
          "height": 294
        },
        "id": "ltl0mzOYY6L_",
        "outputId": "5a2a597e-e143-4c28-f096-9d027867590c"
      },
      "execution_count": 70,
      "outputs": [
        {
          "output_type": "display_data",
          "data": {
            "image/png": "[encoded data removed]",
            "text/plain": [
              "<Figure size 432x288 with 1 Axes>"
            ]
          },
          "metadata": {
            "needs_background": "light"
          }
        }
      ]
    },
    {
      "cell_type": "code",
      "source": [
        "for name,model in models:\n",
        "#     model = m['model'] # select the model\n",
        "    model.fit(x_train_balanced, y_train_balanced) # train the model\n",
        "    y_pred=model.predict(x_val_balanced) # predict the test data\n",
        "# Compute False postive rate, and True positive rate\n",
        "    fpr, tpr, thresholds = roc_curve(y_val_balanced, model.predict_proba(x_val_balanced)[:,1])\n",
        "# Calculate Area under the curve to display on the plot\n",
        "    auc =roc_auc_score(y_val_balanced,model.predict(x_val_balanced))\n",
        "# Now, plot the computed values\n",
        "    plt.plot(fpr, tpr, label='%s ROC (area = %0.2f)' % (name, auc))\n",
        "# Custom settings for the plot \n",
        "plt.plot([0, 1], [0, 1],'r--')\n",
        "plt.xlim([0.0, 1.0])\n",
        "plt.ylim([0.0, 1.05])\n",
        "plt.xlabel('1-Specificity(False Positive Rate)')\n",
        "plt.ylabel('Sensitivity(True Positive Rate)')\n",
        "plt.title('Receiver Operating Characteristic')\n",
        "plt.legend(loc=\"lower right\")\n",
        "plt.show()   # Display"
      ],
      "metadata": {
        "id": "ENc2CbI1Y6Hp"
      },
      "execution_count": null,
      "outputs": []
    },
    {
      "cell_type": "code",
      "source": [
        ""
      ],
      "metadata": {
        "id": "gNKks-BQY6Cv"
      },
      "execution_count": null,
      "outputs": []
    },
    {
      "cell_type": "markdown",
      "source": [
        "## With Set 2 Features"
      ],
      "metadata": {
        "id": "8cop0OrPY5-l"
      }
    },
    {
      "cell_type": "markdown",
      "source": [
        "### Baseline model with imbalanced dataset"
      ],
      "metadata": {
        "id": "CSTS7RwGY551"
      }
    },
    {
      "cell_type": "code",
      "source": [
        "x_train,x_val,y_train,y_val = train_test_split(x_train_r,y_train_all,test_size = 0.30 ,random_state = 5)"
      ],
      "metadata": {
        "id": "andRn0tvY51I"
      },
      "execution_count": null,
      "outputs": []
    },
    {
      "cell_type": "code",
      "source": [
        "lr=LogisticRegression(solver=\"liblinear\", random_state=5)\n",
        "\n",
        "lr.fit(x_train,y_train)"
      ],
      "metadata": {
        "id": "5b0E6M8LY5w9"
      },
      "execution_count": null,
      "outputs": []
    },
    {
      "cell_type": "code",
      "source": [
        ""
      ],
      "metadata": {
        "id": "i9c7GJYjY5sF"
      },
      "execution_count": null,
      "outputs": []
    },
    {
      "cell_type": "code",
      "source": [
        "ns_probs = [0 for _ in range(len(y_val))]\n",
        "\n",
        "lr_probs = lr.predict_proba(x_val)\n",
        "# keep probabilities for the positive outcome only\n",
        "lr_probs = lr_probs[:, 1]\n",
        "# calculate scores\n",
        "ns_auc = roc_auc_score(y_val, ns_probs)\n",
        "lr_auc = roc_auc_score(y_val, lr_probs)\n",
        "# summarize scores\n",
        "print('No Skill: ROC AUC=%.3f' % (ns_auc))\n",
        "print('Logistic: ROC AUC=%.3f' % (lr_auc))\n",
        "# calculate roc curves\n",
        "ns_fpr, ns_tpr, _ = roc_curve(y_val, ns_probs)\n",
        "lr_fpr, lr_tpr, _ = roc_curve(y_val, lr_probs)\n",
        "# plot the roc curve for the model\n",
        "plt.plot(ns_fpr, ns_tpr, linestyle='--', label='No Skill')\n",
        "plt.plot(lr_fpr, lr_tpr, marker='.', label='Logistic')\n",
        "# axis labels\n",
        "plt.xlabel('False Positive Rate')\n",
        "plt.ylabel('True Positive Rate')\n",
        "# show the legend\n",
        "plt.legend()\n",
        "# show the plot\n",
        "\n",
        "plt.show()"
      ],
      "metadata": {
        "id": "W3IgUh-GY5nv"
      },
      "execution_count": null,
      "outputs": []
    },
    {
      "cell_type": "code",
      "source": [
        ""
      ],
      "metadata": {
        "id": "dHURWa1GaCjY"
      },
      "execution_count": null,
      "outputs": []
    },
    {
      "cell_type": "code",
      "source": [
        ""
      ],
      "metadata": {
        "id": "n8QLEIzqaCvG"
      },
      "execution_count": null,
      "outputs": []
    },
    {
      "cell_type": "markdown",
      "source": [
        "#### Testing other models"
      ],
      "metadata": {
        "id": "64Aaql0YY5jX"
      }
    },
    {
      "cell_type": "code",
      "source": [
        "models=[]\n",
        "models.append(('LogisticRegression',LogisticRegression(solver=\"liblinear\", random_state=5)))\n",
        "models.append(('DecisionTree',DecisionTreeClassifier(random_state=5)))\n",
        "models.append(('RandomForest',RandomForestClassifier(random_state=5)))\n",
        "models.append(('knn',KNeighborsClassifier()))"
      ],
      "metadata": {
        "id": "ifHuUGmWY5eR"
      },
      "execution_count": null,
      "outputs": []
    },
    {
      "cell_type": "code",
      "source": [
        "results=[]\n",
        "names=[]\n",
        "for name,model in models:   \n",
        "    kf=KFold(n_splits=5,shuffle=True,random_state=5)\n",
        "    cv_score=cross_val_score(model,x_train,y_train,cv=kf,\n",
        "                             scoring='roc_auc',verbose=1,n_jobs=-1)\n",
        "    results.append(cv_score)\n",
        "    names.append(name)\n",
        "    msg = \"%s: %f (%f)\" % (name, cv_score.mean(), cv_score.std())\n",
        "    print(msg)"
      ],
      "metadata": {
        "id": "_RbKOCbwY5aR"
      },
      "execution_count": null,
      "outputs": []
    },
    {
      "cell_type": "code",
      "source": [
        "fig = plt.figure()\n",
        "fig.suptitle('Algorithm Comparison')\n",
        "ax = fig.add_subplot(111)\n",
        "plt.boxplot(results)\n",
        "ax.set_xticklabels(names)\n",
        "# plt.savefig('model_comparison.png')\n",
        "plt.show()"
      ],
      "metadata": {
        "id": "WnOFw1ZaY5VP"
      },
      "execution_count": null,
      "outputs": []
    },
    {
      "cell_type": "code",
      "source": [
        "for name,model in models:\n",
        "#     model = m['model'] # select the model\n",
        "    model.fit(x_train, y_train) # train the model\n",
        "    y_pred=model.predict(x_val) # predict the test data\n",
        "# Compute False postive rate, and True positive rate\n",
        "    fpr, tpr, thresholds = roc_curve(y_val, model.predict_proba(x_val)[:,1])\n",
        "# Calculate Area under the curve to display on the plot\n",
        "    auc =roc_auc_score(y_val,model.predict(x_val))\n",
        "# Now, plot the computed values\n",
        "    plt.plot(fpr, tpr, label='%s ROC (area = %0.2f)' % (name, auc))\n",
        "# Custom settings for the plot \n",
        "plt.plot([0, 1], [0, 1],'r--')\n",
        "plt.xlim([0.0, 1.0])\n",
        "plt.ylim([0.0, 1.05])\n",
        "plt.xlabel('1-Specificity(False Positive Rate)')\n",
        "plt.ylabel('Sensitivity(True Positive Rate)')\n",
        "plt.title('Receiver Operating Characteristic')\n",
        "plt.legend(loc=\"lower right\")\n",
        "plt.show()   # Display"
      ],
      "metadata": {
        "id": "Rg-MsFDzaL7Y"
      },
      "execution_count": null,
      "outputs": []
    },
    {
      "cell_type": "code",
      "source": [
        ""
      ],
      "metadata": {
        "id": "q-FmAN2faMAe"
      },
      "execution_count": null,
      "outputs": []
    },
    {
      "cell_type": "code",
      "source": [
        ""
      ],
      "metadata": {
        "id": "EGmYO-wqY5Qx"
      },
      "execution_count": null,
      "outputs": []
    },
    {
      "cell_type": "markdown",
      "source": [
        "### Baseline model with balanced dataset"
      ],
      "metadata": {
        "id": "n-zJC0SnY5K6"
      }
    },
    {
      "cell_type": "code",
      "source": [
        "smote = SMOTE()\n",
        "\n",
        "x_balanced, y_balanced = smote.fit_resample(x_train_r, y_train_all)\n",
        "\n",
        "x_train_balanced, x_val_balanced, y_train_balanced, y_val_balanced = train_test_split(x_balanced,\n",
        "                                                                                      y_balanced,\n",
        "                                                                                      test_size=0.3,\n",
        "                                                                                      random_state=5)"
      ],
      "metadata": {
        "id": "uEW8qUMuJ93u"
      },
      "execution_count": null,
      "outputs": []
    },
    {
      "cell_type": "code",
      "source": [
        "plt.subplot(121)\n",
        "sns.countplot(y_train)\n",
        "plt.title('Imbalanced dataset')\n",
        "\n",
        "plt.subplot(122)\n",
        "sns.countplot(y_train_balanced)\n",
        "plt.title('Balanced dataset')\n",
        "\n",
        "plt.tight_layout()\n",
        "plt.show()"
      ],
      "metadata": {
        "id": "YaC7UciKJ996"
      },
      "execution_count": null,
      "outputs": []
    },
    {
      "cell_type": "code",
      "source": [
        "lr_balanced=LogisticRegression(solver=\"liblinear\", random_state=0)\n",
        "\n",
        "lr_balanced.fit(x_train_balanced,y_train_balanced)"
      ],
      "metadata": {
        "id": "_XVuIFOxU0pC"
      },
      "execution_count": null,
      "outputs": []
    },
    {
      "cell_type": "code",
      "source": [
        "ns_probs = [0 for _ in range(len(y_val_balanced))]\n",
        "\n",
        "lr_probs = lr_balanced.predict_proba(x_val_balanced)\n",
        "# keep probabilities for the positive outcome only\n",
        "lr_probs = lr_probs[:, 1]\n",
        "# calculate scores\n",
        "ns_auc = roc_auc_score(y_val_balanced, ns_probs)\n",
        "lr_auc = roc_auc_score(y_val_balanced, lr_probs)\n",
        "# summarize scores\n",
        "print('No Skill: ROC AUC=%.3f' % (ns_auc))\n",
        "print('Logistic: ROC AUC=%.3f' % (lr_auc))\n",
        "# calculate roc curves\n",
        "ns_fpr, ns_tpr, _ = roc_curve(y_val_balanced, ns_probs)\n",
        "lr_fpr, lr_tpr, _ = roc_curve(y_val_balanced, lr_probs)\n",
        "# plot the roc curve for the model\n",
        "plt.plot(ns_fpr, ns_tpr, linestyle='--', label='No Skill')\n",
        "plt.plot(lr_fpr, lr_tpr, marker='.', label='Logistic')\n",
        "# axis labels\n",
        "plt.xlabel('False Positive Rate')\n",
        "plt.ylabel('True Positive Rate')\n",
        "# show the legend\n",
        "plt.legend()\n",
        "# show the plot\n",
        "\n",
        "plt.title('ROC-AUC_Curve')\n",
        "\n",
        "plt.show()"
      ],
      "metadata": {
        "id": "2jLrR4lIU0tE"
      },
      "execution_count": null,
      "outputs": []
    },
    {
      "cell_type": "code",
      "source": [
        ""
      ],
      "metadata": {
        "id": "wy0dqdg0U0xi"
      },
      "execution_count": null,
      "outputs": []
    },
    {
      "cell_type": "markdown",
      "source": [
        "#### Testing other models"
      ],
      "metadata": {
        "id": "44IUiBQaZvdh"
      }
    },
    {
      "cell_type": "code",
      "source": [
        "models=[]\n",
        "models.append(('LogisticRegression',LogisticRegression(solver=\"liblinear\", random_state=5)))\n",
        "models.append(('DecisionTree',DecisionTreeClassifier(random_state=5)))\n",
        "models.append(('RandomForest',RandomForestClassifier(random_state=5)))\n",
        "models.append(('knn',KNeighborsClassifier()))"
      ],
      "metadata": {
        "id": "arN-hcVmZyh7"
      },
      "execution_count": null,
      "outputs": []
    },
    {
      "cell_type": "code",
      "source": [
        "results=[]\n",
        "names=[]\n",
        "for name,model in models:   \n",
        "    kf=KFold(n_splits=5,shuffle=True,random_state=5)\n",
        "    cv_score=cross_val_score(model,x_train_balanced,y_train_balanced,cv=kf,\n",
        "                             scoring='roc_auc',verbose=1,n_jobs=-1)\n",
        "    results.append(cv_score)\n",
        "    names.append(name)\n",
        "    msg = \"%s: %f (%f)\" % (name, cv_score.mean(), cv_score.std())\n",
        "    print(msg)"
      ],
      "metadata": {
        "id": "UGLjbP-7ZybI"
      },
      "execution_count": null,
      "outputs": []
    },
    {
      "cell_type": "code",
      "source": [
        "fig = plt.figure()\n",
        "fig.suptitle('Algorithm Comparison')\n",
        "ax = fig.add_subplot(111)\n",
        "plt.boxplot(results)\n",
        "ax.set_xticklabels(names)\n",
        "# plt.savefig('model_comparison.png')\n",
        "plt.show()"
      ],
      "metadata": {
        "id": "Vpvs_Z41Zvhv"
      },
      "execution_count": null,
      "outputs": []
    },
    {
      "cell_type": "code",
      "source": [
        "for name,model in models:\n",
        "#     model = m['model'] # select the model\n",
        "    model.fit(x_train_balanced, y_train_balanced) # train the model\n",
        "    y_pred=model.predict(x_val_balanced) # predict the test data\n",
        "# Compute False postive rate, and True positive rate\n",
        "    fpr, tpr, thresholds = roc_curve(y_val_balanced, model.predict_proba(x_val_balanced)[:,1])\n",
        "# Calculate Area under the curve to display on the plot\n",
        "    auc =roc_auc_score(y_val_balanced,model.predict(x_val_balanced))\n",
        "# Now, plot the computed values\n",
        "    plt.plot(fpr, tpr, label='%s ROC (area = %0.2f)' % (name, auc))\n",
        "# Custom settings for the plot \n",
        "plt.plot([0, 1], [0, 1],'r--')\n",
        "plt.xlim([0.0, 1.0])\n",
        "plt.ylim([0.0, 1.05])\n",
        "plt.xlabel('1-Specificity(False Positive Rate)')\n",
        "plt.ylabel('Sensitivity(True Positive Rate)')\n",
        "plt.title('Receiver Operating Characteristic')\n",
        "plt.legend(loc=\"lower right\")\n",
        "plt.show()   # Display"
      ],
      "metadata": {
        "id": "j8zlDwJpZvnM"
      },
      "execution_count": null,
      "outputs": []
    },
    {
      "cell_type": "code",
      "source": [
        ""
      ],
      "metadata": {
        "id": "ya11U5I5aeRS"
      },
      "execution_count": null,
      "outputs": []
    },
    {
      "cell_type": "code",
      "source": [
        ""
      ],
      "metadata": {
        "id": "amRH9XB5nM2I"
      },
      "execution_count": null,
      "outputs": []
    },
    {
      "cell_type": "code",
      "source": [
        ""
      ],
      "metadata": {
        "id": "UFFCJb2_nMxa"
      },
      "execution_count": null,
      "outputs": []
    },
    {
      "cell_type": "code",
      "source": [
        ""
      ],
      "metadata": {
        "id": "E-w41XcRnMsD"
      },
      "execution_count": null,
      "outputs": []
    },
    {
      "cell_type": "code",
      "source": [
        ""
      ],
      "metadata": {
        "id": "k2dN5dbsaef-"
      },
      "execution_count": null,
      "outputs": []
    }
  ]
}