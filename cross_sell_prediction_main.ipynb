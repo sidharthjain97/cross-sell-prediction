{
  "nbformat": 4,
  "nbformat_minor": 0,
  "metadata": {
    "colab": {
      "name": "cross-sell-prediction-main.ipynb",
      "provenance": [],
      "collapsed_sections": [
        "lPJ1ejJBUzhL"
      ]
    },
    "kernelspec": {
      "name": "python3",
      "display_name": "Python 3"
    },
    "language_info": {
      "name": "python"
    }
  },
  "cells": [
    {
      "cell_type": "code",
      "execution_count": null,
      "metadata": {
        "id": "7a4_P60pUx7O"
      },
      "outputs": [],
      "source": [
        ""
      ]
    },
    {
      "cell_type": "markdown",
      "source": [
        "# Importing Libraries"
      ],
      "metadata": {
        "id": "-XjdooRTUyls"
      }
    },
    {
      "cell_type": "code",
      "source": [
        "import pandas as pd\n",
        "import numpy as np\n",
        "import matplotlib.pyplot as plt\n",
        "import seaborn as sns\n",
        "from tqdm import tqdm\n",
        "from collections import Counter\n",
        "import warnings\n",
        "warnings.filterwarnings(\"ignore\")"
      ],
      "metadata": {
        "id": "LmUX8joCUyqj"
      },
      "execution_count": 1,
      "outputs": []
    },
    {
      "cell_type": "code",
      "source": [
        "from sklearn.metrics import accuracy_score, f1_score, auc, roc_curve, confusion_matrix, roc_auc_score\n",
        "from sklearn.linear_model import LogisticRegression\n",
        "from sklearn.tree import DecisionTreeClassifier\n",
        "from sklearn.ensemble import RandomForestClassifier\n",
        "from sklearn.model_selection import GridSearchCV"
      ],
      "metadata": {
        "id": "ZoVVMiuMUyua"
      },
      "execution_count": 2,
      "outputs": []
    },
    {
      "cell_type": "code",
      "source": [
        "train = pd.read_csv('train.csv')\n",
        "train.shape"
      ],
      "metadata": {
        "colab": {
          "base_uri": "https://localhost:8080/"
        },
        "id": "jOE0ZnlnUyyL",
        "outputId": "5c6cdbb2-15d0-4779-aee9-f9fbc620086f"
      },
      "execution_count": 3,
      "outputs": [
        {
          "output_type": "execute_result",
          "data": {
            "text/plain": [
              "(381109, 12)"
            ]
          },
          "metadata": {},
          "execution_count": 3
        }
      ]
    },
    {
      "cell_type": "code",
      "source": [
        "test = pd.read_csv('test.csv')\n",
        "test.shape"
      ],
      "metadata": {
        "colab": {
          "base_uri": "https://localhost:8080/"
        },
        "id": "z_kn7Eg01Fsp",
        "outputId": "2775c367-5543-4251-d57c-e7d9eb25eec9"
      },
      "execution_count": 4,
      "outputs": [
        {
          "output_type": "execute_result",
          "data": {
            "text/plain": [
              "(127037, 11)"
            ]
          },
          "metadata": {},
          "execution_count": 4
        }
      ]
    },
    {
      "cell_type": "code",
      "source": [
        "train.head()"
      ],
      "metadata": {
        "colab": {
          "base_uri": "https://localhost:8080/",
          "height": 270
        },
        "id": "HfQIaQGiUy2S",
        "outputId": "06766097-a277-414b-d130-3e9c8b100e01"
      },
      "execution_count": 5,
      "outputs": [
        {
          "output_type": "execute_result",
          "data": {
            "text/html": [
              "\n",
              "  <div id=\"df-63952db7-55bd-4e7b-9987-7915ad9d3e39\">\n",
              "    <div class=\"colab-df-container\">\n",
              "      <div>\n",
              "<style scoped>\n",
              "    .dataframe tbody tr th:only-of-type {\n",
              "        vertical-align: middle;\n",
              "    }\n",
              "\n",
              "    .dataframe tbody tr th {\n",
              "        vertical-align: top;\n",
              "    }\n",
              "\n",
              "    .dataframe thead th {\n",
              "        text-align: right;\n",
              "    }\n",
              "</style>\n",
              "<table border=\"1\" class=\"dataframe\">\n",
              "  <thead>\n",
              "    <tr style=\"text-align: right;\">\n",
              "      <th></th>\n",
              "      <th>id</th>\n",
              "      <th>Gender</th>\n",
              "      <th>Age</th>\n",
              "      <th>Driving_License</th>\n",
              "      <th>Region_Code</th>\n",
              "      <th>Previously_Insured</th>\n",
              "      <th>Vehicle_Age</th>\n",
              "      <th>Vehicle_Damage</th>\n",
              "      <th>Annual_Premium</th>\n",
              "      <th>Policy_Sales_Channel</th>\n",
              "      <th>Vintage</th>\n",
              "      <th>Response</th>\n",
              "    </tr>\n",
              "  </thead>\n",
              "  <tbody>\n",
              "    <tr>\n",
              "      <th>0</th>\n",
              "      <td>1</td>\n",
              "      <td>Male</td>\n",
              "      <td>44</td>\n",
              "      <td>1</td>\n",
              "      <td>28.0</td>\n",
              "      <td>0</td>\n",
              "      <td>&gt; 2 Years</td>\n",
              "      <td>Yes</td>\n",
              "      <td>40454.0</td>\n",
              "      <td>26.0</td>\n",
              "      <td>217</td>\n",
              "      <td>1</td>\n",
              "    </tr>\n",
              "    <tr>\n",
              "      <th>1</th>\n",
              "      <td>2</td>\n",
              "      <td>Male</td>\n",
              "      <td>76</td>\n",
              "      <td>1</td>\n",
              "      <td>3.0</td>\n",
              "      <td>0</td>\n",
              "      <td>1-2 Year</td>\n",
              "      <td>No</td>\n",
              "      <td>33536.0</td>\n",
              "      <td>26.0</td>\n",
              "      <td>183</td>\n",
              "      <td>0</td>\n",
              "    </tr>\n",
              "    <tr>\n",
              "      <th>2</th>\n",
              "      <td>3</td>\n",
              "      <td>Male</td>\n",
              "      <td>47</td>\n",
              "      <td>1</td>\n",
              "      <td>28.0</td>\n",
              "      <td>0</td>\n",
              "      <td>&gt; 2 Years</td>\n",
              "      <td>Yes</td>\n",
              "      <td>38294.0</td>\n",
              "      <td>26.0</td>\n",
              "      <td>27</td>\n",
              "      <td>1</td>\n",
              "    </tr>\n",
              "    <tr>\n",
              "      <th>3</th>\n",
              "      <td>4</td>\n",
              "      <td>Male</td>\n",
              "      <td>21</td>\n",
              "      <td>1</td>\n",
              "      <td>11.0</td>\n",
              "      <td>1</td>\n",
              "      <td>&lt; 1 Year</td>\n",
              "      <td>No</td>\n",
              "      <td>28619.0</td>\n",
              "      <td>152.0</td>\n",
              "      <td>203</td>\n",
              "      <td>0</td>\n",
              "    </tr>\n",
              "    <tr>\n",
              "      <th>4</th>\n",
              "      <td>5</td>\n",
              "      <td>Female</td>\n",
              "      <td>29</td>\n",
              "      <td>1</td>\n",
              "      <td>41.0</td>\n",
              "      <td>1</td>\n",
              "      <td>&lt; 1 Year</td>\n",
              "      <td>No</td>\n",
              "      <td>27496.0</td>\n",
              "      <td>152.0</td>\n",
              "      <td>39</td>\n",
              "      <td>0</td>\n",
              "    </tr>\n",
              "  </tbody>\n",
              "</table>\n",
              "</div>\n",
              "      <button class=\"colab-df-convert\" onclick=\"convertToInteractive('df-63952db7-55bd-4e7b-9987-7915ad9d3e39')\"\n",
              "              title=\"Convert this dataframe to an interactive table.\"\n",
              "              style=\"display:none;\">\n",
              "        \n",
              "  <svg xmlns=\"http://www.w3.org/2000/svg\" height=\"24px\"viewBox=\"0 0 24 24\"\n",
              "       width=\"24px\">\n",
              "    <path d=\"M0 0h24v24H0V0z\" fill=\"none\"/>\n",
              "    <path d=\"M18.56 5.44l.94 2.06.94-2.06 2.06-.94-2.06-.94-.94-2.06-.94 2.06-2.06.94zm-11 1L8.5 8.5l.94-2.06 2.06-.94-2.06-.94L8.5 2.5l-.94 2.06-2.06.94zm10 10l.94 2.06.94-2.06 2.06-.94-2.06-.94-.94-2.06-.94 2.06-2.06.94z\"/><path d=\"M17.41 7.96l-1.37-1.37c-.4-.4-.92-.59-1.43-.59-.52 0-1.04.2-1.43.59L10.3 9.45l-7.72 7.72c-.78.78-.78 2.05 0 2.83L4 21.41c.39.39.9.59 1.41.59.51 0 1.02-.2 1.41-.59l7.78-7.78 2.81-2.81c.8-.78.8-2.07 0-2.86zM5.41 20L4 18.59l7.72-7.72 1.47 1.35L5.41 20z\"/>\n",
              "  </svg>\n",
              "      </button>\n",
              "      \n",
              "  <style>\n",
              "    .colab-df-container {\n",
              "      display:flex;\n",
              "      flex-wrap:wrap;\n",
              "      gap: 12px;\n",
              "    }\n",
              "\n",
              "    .colab-df-convert {\n",
              "      background-color: #E8F0FE;\n",
              "      border: none;\n",
              "      border-radius: 50%;\n",
              "      cursor: pointer;\n",
              "      display: none;\n",
              "      fill: #1967D2;\n",
              "      height: 32px;\n",
              "      padding: 0 0 0 0;\n",
              "      width: 32px;\n",
              "    }\n",
              "\n",
              "    .colab-df-convert:hover {\n",
              "      background-color: #E2EBFA;\n",
              "      box-shadow: 0px 1px 2px rgba(60, 64, 67, 0.3), 0px 1px 3px 1px rgba(60, 64, 67, 0.15);\n",
              "      fill: #174EA6;\n",
              "    }\n",
              "\n",
              "    [theme=dark] .colab-df-convert {\n",
              "      background-color: #3B4455;\n",
              "      fill: #D2E3FC;\n",
              "    }\n",
              "\n",
              "    [theme=dark] .colab-df-convert:hover {\n",
              "      background-color: #434B5C;\n",
              "      box-shadow: 0px 1px 3px 1px rgba(0, 0, 0, 0.15);\n",
              "      filter: drop-shadow(0px 1px 2px rgba(0, 0, 0, 0.3));\n",
              "      fill: #FFFFFF;\n",
              "    }\n",
              "  </style>\n",
              "\n",
              "      <script>\n",
              "        const buttonEl =\n",
              "          document.querySelector('#df-63952db7-55bd-4e7b-9987-7915ad9d3e39 button.colab-df-convert');\n",
              "        buttonEl.style.display =\n",
              "          google.colab.kernel.accessAllowed ? 'block' : 'none';\n",
              "\n",
              "        async function convertToInteractive(key) {\n",
              "          const element = document.querySelector('#df-63952db7-55bd-4e7b-9987-7915ad9d3e39');\n",
              "          const dataTable =\n",
              "            await google.colab.kernel.invokeFunction('convertToInteractive',\n",
              "                                                     [key], {});\n",
              "          if (!dataTable) return;\n",
              "\n",
              "          const docLinkHtml = 'Like what you see? Visit the ' +\n",
              "            '<a target=\"_blank\" href=https://colab.research.google.com/notebooks/data_table.ipynb>data table notebook</a>'\n",
              "            + ' to learn more about interactive tables.';\n",
              "          element.innerHTML = '';\n",
              "          dataTable['output_type'] = 'display_data';\n",
              "          await google.colab.output.renderOutput(dataTable, element);\n",
              "          const docLink = document.createElement('div');\n",
              "          docLink.innerHTML = docLinkHtml;\n",
              "          element.appendChild(docLink);\n",
              "        }\n",
              "      </script>\n",
              "    </div>\n",
              "  </div>\n",
              "  "
            ],
            "text/plain": [
              "   id  Gender  Age  ...  Policy_Sales_Channel  Vintage  Response\n",
              "0   1    Male   44  ...                  26.0      217         1\n",
              "1   2    Male   76  ...                  26.0      183         0\n",
              "2   3    Male   47  ...                  26.0       27         1\n",
              "3   4    Male   21  ...                 152.0      203         0\n",
              "4   5  Female   29  ...                 152.0       39         0\n",
              "\n",
              "[5 rows x 12 columns]"
            ]
          },
          "metadata": {},
          "execution_count": 5
        }
      ]
    },
    {
      "cell_type": "code",
      "source": [
        "train.info()"
      ],
      "metadata": {
        "colab": {
          "base_uri": "https://localhost:8080/"
        },
        "id": "bwq9wQUxUy6r",
        "outputId": "bb8f78c4-d6eb-4d9f-ca3d-ec93db9e3050"
      },
      "execution_count": 6,
      "outputs": [
        {
          "output_type": "stream",
          "name": "stdout",
          "text": [
            "<class 'pandas.core.frame.DataFrame'>\n",
            "RangeIndex: 381109 entries, 0 to 381108\n",
            "Data columns (total 12 columns):\n",
            " #   Column                Non-Null Count   Dtype  \n",
            "---  ------                --------------   -----  \n",
            " 0   id                    381109 non-null  int64  \n",
            " 1   Gender                381109 non-null  object \n",
            " 2   Age                   381109 non-null  int64  \n",
            " 3   Driving_License       381109 non-null  int64  \n",
            " 4   Region_Code           381109 non-null  float64\n",
            " 5   Previously_Insured    381109 non-null  int64  \n",
            " 6   Vehicle_Age           381109 non-null  object \n",
            " 7   Vehicle_Damage        381109 non-null  object \n",
            " 8   Annual_Premium        381109 non-null  float64\n",
            " 9   Policy_Sales_Channel  381109 non-null  float64\n",
            " 10  Vintage               381109 non-null  int64  \n",
            " 11  Response              381109 non-null  int64  \n",
            "dtypes: float64(3), int64(6), object(3)\n",
            "memory usage: 34.9+ MB\n"
          ]
        }
      ]
    },
    {
      "cell_type": "code",
      "source": [
        "train.isna().sum()"
      ],
      "metadata": {
        "colab": {
          "base_uri": "https://localhost:8080/"
        },
        "id": "jlMaMREOUy-7",
        "outputId": "3dce1584-dbf1-45c9-df30-fbaf75ab829e"
      },
      "execution_count": 7,
      "outputs": [
        {
          "output_type": "execute_result",
          "data": {
            "text/plain": [
              "id                      0\n",
              "Gender                  0\n",
              "Age                     0\n",
              "Driving_License         0\n",
              "Region_Code             0\n",
              "Previously_Insured      0\n",
              "Vehicle_Age             0\n",
              "Vehicle_Damage          0\n",
              "Annual_Premium          0\n",
              "Policy_Sales_Channel    0\n",
              "Vintage                 0\n",
              "Response                0\n",
              "dtype: int64"
            ]
          },
          "metadata": {},
          "execution_count": 7
        }
      ]
    },
    {
      "cell_type": "code",
      "source": [
        ""
      ],
      "metadata": {
        "id": "MkOryW86UzCz"
      },
      "execution_count": 7,
      "outputs": []
    },
    {
      "cell_type": "markdown",
      "source": [
        "# Data Preprocessing\n",
        "* Convert the categorical features\n",
        "* Divide the numerical features into bins\n",
        "* Drop the unnecessary columns"
      ],
      "metadata": {
        "id": "OFhYy4RdUzGa"
      }
    },
    {
      "cell_type": "code",
      "source": [
        ""
      ],
      "metadata": {
        "id": "X0Gi9rcCUzKb"
      },
      "execution_count": 7,
      "outputs": []
    },
    {
      "cell_type": "code",
      "source": [
        "train['Gender'].unique()"
      ],
      "metadata": {
        "colab": {
          "base_uri": "https://localhost:8080/"
        },
        "id": "jJRvy5da2vA9",
        "outputId": "748d9cdd-36a9-4fd3-9e3f-9327992eaaea"
      },
      "execution_count": 14,
      "outputs": [
        {
          "output_type": "execute_result",
          "data": {
            "text/plain": [
              "array(['Male', 'Female'], dtype=object)"
            ]
          },
          "metadata": {},
          "execution_count": 14
        }
      ]
    },
    {
      "cell_type": "code",
      "source": [
        "train['Driving_License'].unique()"
      ],
      "metadata": {
        "colab": {
          "base_uri": "https://localhost:8080/"
        },
        "id": "-qsks13IjVcd",
        "outputId": "727aab73-da90-48b8-f964-3c44857044e0"
      },
      "execution_count": 8,
      "outputs": [
        {
          "output_type": "execute_result",
          "data": {
            "text/plain": [
              "array([1, 0])"
            ]
          },
          "metadata": {},
          "execution_count": 8
        }
      ]
    },
    {
      "cell_type": "code",
      "source": [
        "train['Previously_Insured'].unique()"
      ],
      "metadata": {
        "colab": {
          "base_uri": "https://localhost:8080/"
        },
        "id": "5rPkmxu1jZ3N",
        "outputId": "4f53a4cd-5c42-4cb2-9032-4db6f2c313ed"
      },
      "execution_count": 9,
      "outputs": [
        {
          "output_type": "execute_result",
          "data": {
            "text/plain": [
              "array([0, 1])"
            ]
          },
          "metadata": {},
          "execution_count": 9
        }
      ]
    },
    {
      "cell_type": "code",
      "source": [
        "train['Region_Code'].unique()"
      ],
      "metadata": {
        "colab": {
          "base_uri": "https://localhost:8080/"
        },
        "id": "gswBl0cijZrT",
        "outputId": "a35ed540-858c-433c-87be-251073715613"
      },
      "execution_count": 10,
      "outputs": [
        {
          "output_type": "execute_result",
          "data": {
            "text/plain": [
              "array([28.,  3., 11., 41., 33.,  6., 35., 50., 15., 45.,  8., 36., 30.,\n",
              "       26., 16., 47., 48., 19., 39., 23., 37.,  5., 17.,  2.,  7., 29.,\n",
              "       46., 27., 25., 13., 18., 20., 49., 22., 44.,  0.,  9., 31., 12.,\n",
              "       34., 21., 10., 14., 38., 24., 40., 43., 32.,  4., 51., 42.,  1.,\n",
              "       52.])"
            ]
          },
          "metadata": {},
          "execution_count": 10
        }
      ]
    },
    {
      "cell_type": "code",
      "source": [
        "train['Vehicle_Age'].unique()"
      ],
      "metadata": {
        "colab": {
          "base_uri": "https://localhost:8080/"
        },
        "id": "NgO09oZajZQk",
        "outputId": "4f5b7e1d-dbb9-45a1-dd60-a39e5fa8f615"
      },
      "execution_count": 11,
      "outputs": [
        {
          "output_type": "execute_result",
          "data": {
            "text/plain": [
              "array(['> 2 Years', '1-2 Year', '< 1 Year'], dtype=object)"
            ]
          },
          "metadata": {},
          "execution_count": 11
        }
      ]
    },
    {
      "cell_type": "code",
      "source": [
        "train['Policy_Sales_Channel'].unique()"
      ],
      "metadata": {
        "colab": {
          "base_uri": "https://localhost:8080/"
        },
        "id": "VJPs_SWujwNW",
        "outputId": "4306efac-8342-4ffc-aae3-94547bb4dba0"
      },
      "execution_count": 12,
      "outputs": [
        {
          "output_type": "execute_result",
          "data": {
            "text/plain": [
              "array([ 26., 152., 160., 124.,  14.,  13.,  30., 156., 163., 157., 122.,\n",
              "        19.,  22.,  15., 154.,  16.,  52., 155.,  11., 151., 125.,  25.,\n",
              "        61.,   1.,  86.,  31., 150.,  23.,  60.,  21., 121.,   3., 139.,\n",
              "        12.,  29.,  55.,   7.,  47., 127., 153.,  78., 158.,  89.,  32.,\n",
              "         8.,  10., 120.,  65.,   4.,  42.,  83., 136.,  24.,  18.,  56.,\n",
              "        48., 106.,  54.,  93., 116.,  91.,  45.,   9., 145., 147.,  44.,\n",
              "       109.,  37., 140., 107., 128., 131., 114., 118., 159., 119., 105.,\n",
              "       135.,  62., 138., 129.,  88.,  92., 111., 113.,  73.,  36.,  28.,\n",
              "        35.,  59.,  53., 148., 133., 108.,  64.,  39.,  94., 132.,  46.,\n",
              "        81., 103.,  90.,  51.,  27., 146.,  63.,  96.,  40.,  66., 100.,\n",
              "        95., 123.,  98.,  75.,  69., 130., 134.,  49.,  97.,  38.,  17.,\n",
              "       110.,  80.,  71., 117.,  58.,  20.,  76., 104.,  87.,  84., 137.,\n",
              "       126.,  68.,  67., 101., 115.,  57.,  82.,  79., 112.,  99.,  70.,\n",
              "         2.,  34.,  33.,  74., 102., 149.,  43.,   6.,  50., 144., 143.,\n",
              "        41.])"
            ]
          },
          "metadata": {},
          "execution_count": 12
        }
      ]
    },
    {
      "cell_type": "code",
      "source": [
        "train['Vehicle_Damage'].unique()"
      ],
      "metadata": {
        "colab": {
          "base_uri": "https://localhost:8080/"
        },
        "id": "0PvwXAiLj3tI",
        "outputId": "0fa9e7a8-e7de-4cd2-85d9-f63679ccf3b9"
      },
      "execution_count": 13,
      "outputs": [
        {
          "output_type": "execute_result",
          "data": {
            "text/plain": [
              "array(['Yes', 'No'], dtype=object)"
            ]
          },
          "metadata": {},
          "execution_count": 13
        }
      ]
    },
    {
      "cell_type": "code",
      "source": [
        ""
      ],
      "metadata": {
        "id": "QrZPqN0nj3gX"
      },
      "execution_count": null,
      "outputs": []
    },
    {
      "cell_type": "markdown",
      "source": [
        "Annual Premium could also be divided into bins"
      ],
      "metadata": {
        "id": "6SMuaawU1cX5"
      }
    },
    {
      "cell_type": "code",
      "source": [
        "def data_prep(data):\n",
        "    data = data.drop(columns=['id', 'Vintage'], axis=1)\n",
        "    cols = ['Gender', 'Vehicle_Damage', 'Vehicle_Age']\n",
        "    data = pd.get_dummies(data,columns=cols, drop_first=True)\n",
        "    data['Age'] = pd.cut(data['Age'], bins=[0,29,35,50,100])\n",
        "    data['Age'] = data['Age'].cat.codes\n",
        "    return data"
      ],
      "metadata": {
        "id": "8_P8omc3UzOr"
      },
      "execution_count": null,
      "outputs": []
    },
    {
      "cell_type": "code",
      "source": [
        "train_dum = data_prep(train)\n",
        "test_dum = data_prep(test)"
      ],
      "metadata": {
        "id": "DukJkVDRUzSU"
      },
      "execution_count": null,
      "outputs": []
    },
    {
      "cell_type": "code",
      "source": [
        "train_dum.head()"
      ],
      "metadata": {
        "colab": {
          "base_uri": "https://localhost:8080/",
          "height": 288
        },
        "id": "QAoSEIYPUzWD",
        "outputId": "39fdbe35-d00c-49c7-9d89-be4025f00533"
      },
      "execution_count": null,
      "outputs": [
        {
          "output_type": "execute_result",
          "data": {
            "text/html": [
              "\n",
              "  <div id=\"df-3c629d1a-61ce-4618-bd70-e24885b4382e\">\n",
              "    <div class=\"colab-df-container\">\n",
              "      <div>\n",
              "<style scoped>\n",
              "    .dataframe tbody tr th:only-of-type {\n",
              "        vertical-align: middle;\n",
              "    }\n",
              "\n",
              "    .dataframe tbody tr th {\n",
              "        vertical-align: top;\n",
              "    }\n",
              "\n",
              "    .dataframe thead th {\n",
              "        text-align: right;\n",
              "    }\n",
              "</style>\n",
              "<table border=\"1\" class=\"dataframe\">\n",
              "  <thead>\n",
              "    <tr style=\"text-align: right;\">\n",
              "      <th></th>\n",
              "      <th>Age</th>\n",
              "      <th>Driving_License</th>\n",
              "      <th>Region_Code</th>\n",
              "      <th>Previously_Insured</th>\n",
              "      <th>Annual_Premium</th>\n",
              "      <th>Policy_Sales_Channel</th>\n",
              "      <th>Response</th>\n",
              "      <th>Gender_Male</th>\n",
              "      <th>Vehicle_Damage_Yes</th>\n",
              "      <th>Vehicle_Age_&lt; 1 Year</th>\n",
              "      <th>Vehicle_Age_&gt; 2 Years</th>\n",
              "    </tr>\n",
              "  </thead>\n",
              "  <tbody>\n",
              "    <tr>\n",
              "      <th>0</th>\n",
              "      <td>2</td>\n",
              "      <td>1</td>\n",
              "      <td>28.0</td>\n",
              "      <td>0</td>\n",
              "      <td>40454.0</td>\n",
              "      <td>26.0</td>\n",
              "      <td>1</td>\n",
              "      <td>1</td>\n",
              "      <td>1</td>\n",
              "      <td>0</td>\n",
              "      <td>1</td>\n",
              "    </tr>\n",
              "    <tr>\n",
              "      <th>1</th>\n",
              "      <td>3</td>\n",
              "      <td>1</td>\n",
              "      <td>3.0</td>\n",
              "      <td>0</td>\n",
              "      <td>33536.0</td>\n",
              "      <td>26.0</td>\n",
              "      <td>0</td>\n",
              "      <td>1</td>\n",
              "      <td>0</td>\n",
              "      <td>0</td>\n",
              "      <td>0</td>\n",
              "    </tr>\n",
              "    <tr>\n",
              "      <th>2</th>\n",
              "      <td>2</td>\n",
              "      <td>1</td>\n",
              "      <td>28.0</td>\n",
              "      <td>0</td>\n",
              "      <td>38294.0</td>\n",
              "      <td>26.0</td>\n",
              "      <td>1</td>\n",
              "      <td>1</td>\n",
              "      <td>1</td>\n",
              "      <td>0</td>\n",
              "      <td>1</td>\n",
              "    </tr>\n",
              "    <tr>\n",
              "      <th>3</th>\n",
              "      <td>0</td>\n",
              "      <td>1</td>\n",
              "      <td>11.0</td>\n",
              "      <td>1</td>\n",
              "      <td>28619.0</td>\n",
              "      <td>152.0</td>\n",
              "      <td>0</td>\n",
              "      <td>1</td>\n",
              "      <td>0</td>\n",
              "      <td>1</td>\n",
              "      <td>0</td>\n",
              "    </tr>\n",
              "    <tr>\n",
              "      <th>4</th>\n",
              "      <td>0</td>\n",
              "      <td>1</td>\n",
              "      <td>41.0</td>\n",
              "      <td>1</td>\n",
              "      <td>27496.0</td>\n",
              "      <td>152.0</td>\n",
              "      <td>0</td>\n",
              "      <td>0</td>\n",
              "      <td>0</td>\n",
              "      <td>1</td>\n",
              "      <td>0</td>\n",
              "    </tr>\n",
              "  </tbody>\n",
              "</table>\n",
              "</div>\n",
              "      <button class=\"colab-df-convert\" onclick=\"convertToInteractive('df-3c629d1a-61ce-4618-bd70-e24885b4382e')\"\n",
              "              title=\"Convert this dataframe to an interactive table.\"\n",
              "              style=\"display:none;\">\n",
              "        \n",
              "  <svg xmlns=\"http://www.w3.org/2000/svg\" height=\"24px\"viewBox=\"0 0 24 24\"\n",
              "       width=\"24px\">\n",
              "    <path d=\"M0 0h24v24H0V0z\" fill=\"none\"/>\n",
              "    <path d=\"M18.56 5.44l.94 2.06.94-2.06 2.06-.94-2.06-.94-.94-2.06-.94 2.06-2.06.94zm-11 1L8.5 8.5l.94-2.06 2.06-.94-2.06-.94L8.5 2.5l-.94 2.06-2.06.94zm10 10l.94 2.06.94-2.06 2.06-.94-2.06-.94-.94-2.06-.94 2.06-2.06.94z\"/><path d=\"M17.41 7.96l-1.37-1.37c-.4-.4-.92-.59-1.43-.59-.52 0-1.04.2-1.43.59L10.3 9.45l-7.72 7.72c-.78.78-.78 2.05 0 2.83L4 21.41c.39.39.9.59 1.41.59.51 0 1.02-.2 1.41-.59l7.78-7.78 2.81-2.81c.8-.78.8-2.07 0-2.86zM5.41 20L4 18.59l7.72-7.72 1.47 1.35L5.41 20z\"/>\n",
              "  </svg>\n",
              "      </button>\n",
              "      \n",
              "  <style>\n",
              "    .colab-df-container {\n",
              "      display:flex;\n",
              "      flex-wrap:wrap;\n",
              "      gap: 12px;\n",
              "    }\n",
              "\n",
              "    .colab-df-convert {\n",
              "      background-color: #E8F0FE;\n",
              "      border: none;\n",
              "      border-radius: 50%;\n",
              "      cursor: pointer;\n",
              "      display: none;\n",
              "      fill: #1967D2;\n",
              "      height: 32px;\n",
              "      padding: 0 0 0 0;\n",
              "      width: 32px;\n",
              "    }\n",
              "\n",
              "    .colab-df-convert:hover {\n",
              "      background-color: #E2EBFA;\n",
              "      box-shadow: 0px 1px 2px rgba(60, 64, 67, 0.3), 0px 1px 3px 1px rgba(60, 64, 67, 0.15);\n",
              "      fill: #174EA6;\n",
              "    }\n",
              "\n",
              "    [theme=dark] .colab-df-convert {\n",
              "      background-color: #3B4455;\n",
              "      fill: #D2E3FC;\n",
              "    }\n",
              "\n",
              "    [theme=dark] .colab-df-convert:hover {\n",
              "      background-color: #434B5C;\n",
              "      box-shadow: 0px 1px 3px 1px rgba(0, 0, 0, 0.15);\n",
              "      filter: drop-shadow(0px 1px 2px rgba(0, 0, 0, 0.3));\n",
              "      fill: #FFFFFF;\n",
              "    }\n",
              "  </style>\n",
              "\n",
              "      <script>\n",
              "        const buttonEl =\n",
              "          document.querySelector('#df-3c629d1a-61ce-4618-bd70-e24885b4382e button.colab-df-convert');\n",
              "        buttonEl.style.display =\n",
              "          google.colab.kernel.accessAllowed ? 'block' : 'none';\n",
              "\n",
              "        async function convertToInteractive(key) {\n",
              "          const element = document.querySelector('#df-3c629d1a-61ce-4618-bd70-e24885b4382e');\n",
              "          const dataTable =\n",
              "            await google.colab.kernel.invokeFunction('convertToInteractive',\n",
              "                                                     [key], {});\n",
              "          if (!dataTable) return;\n",
              "\n",
              "          const docLinkHtml = 'Like what you see? Visit the ' +\n",
              "            '<a target=\"_blank\" href=https://colab.research.google.com/notebooks/data_table.ipynb>data table notebook</a>'\n",
              "            + ' to learn more about interactive tables.';\n",
              "          element.innerHTML = '';\n",
              "          dataTable['output_type'] = 'display_data';\n",
              "          await google.colab.output.renderOutput(dataTable, element);\n",
              "          const docLink = document.createElement('div');\n",
              "          docLink.innerHTML = docLinkHtml;\n",
              "          element.appendChild(docLink);\n",
              "        }\n",
              "      </script>\n",
              "    </div>\n",
              "  </div>\n",
              "  "
            ],
            "text/plain": [
              "   Age  Driving_License  ...  Vehicle_Age_< 1 Year  Vehicle_Age_> 2 Years\n",
              "0    2                1  ...                     0                      1\n",
              "1    3                1  ...                     0                      0\n",
              "2    2                1  ...                     0                      1\n",
              "3    0                1  ...                     1                      0\n",
              "4    0                1  ...                     1                      0\n",
              "\n",
              "[5 rows x 11 columns]"
            ]
          },
          "metadata": {},
          "execution_count": 32
        }
      ]
    },
    {
      "cell_type": "code",
      "source": [
        "test_dum.head()"
      ],
      "metadata": {
        "colab": {
          "base_uri": "https://localhost:8080/",
          "height": 288
        },
        "id": "NSgMQyPkUzZo",
        "outputId": "7e9a1aa5-133d-4bdd-ce47-522aaf3dedef"
      },
      "execution_count": null,
      "outputs": [
        {
          "output_type": "execute_result",
          "data": {
            "text/html": [
              "\n",
              "  <div id=\"df-0431a45e-bb7a-40f0-9fbe-da0c1b29a502\">\n",
              "    <div class=\"colab-df-container\">\n",
              "      <div>\n",
              "<style scoped>\n",
              "    .dataframe tbody tr th:only-of-type {\n",
              "        vertical-align: middle;\n",
              "    }\n",
              "\n",
              "    .dataframe tbody tr th {\n",
              "        vertical-align: top;\n",
              "    }\n",
              "\n",
              "    .dataframe thead th {\n",
              "        text-align: right;\n",
              "    }\n",
              "</style>\n",
              "<table border=\"1\" class=\"dataframe\">\n",
              "  <thead>\n",
              "    <tr style=\"text-align: right;\">\n",
              "      <th></th>\n",
              "      <th>Age</th>\n",
              "      <th>Driving_License</th>\n",
              "      <th>Region_Code</th>\n",
              "      <th>Previously_Insured</th>\n",
              "      <th>Annual_Premium</th>\n",
              "      <th>Policy_Sales_Channel</th>\n",
              "      <th>Gender_Male</th>\n",
              "      <th>Vehicle_Damage_Yes</th>\n",
              "      <th>Vehicle_Age_&lt; 1 Year</th>\n",
              "      <th>Vehicle_Age_&gt; 2 Years</th>\n",
              "    </tr>\n",
              "  </thead>\n",
              "  <tbody>\n",
              "    <tr>\n",
              "      <th>0</th>\n",
              "      <td>0</td>\n",
              "      <td>1</td>\n",
              "      <td>11.0</td>\n",
              "      <td>1</td>\n",
              "      <td>35786.0</td>\n",
              "      <td>152.0</td>\n",
              "      <td>1</td>\n",
              "      <td>0</td>\n",
              "      <td>1</td>\n",
              "      <td>0</td>\n",
              "    </tr>\n",
              "    <tr>\n",
              "      <th>1</th>\n",
              "      <td>2</td>\n",
              "      <td>1</td>\n",
              "      <td>28.0</td>\n",
              "      <td>0</td>\n",
              "      <td>33762.0</td>\n",
              "      <td>7.0</td>\n",
              "      <td>1</td>\n",
              "      <td>1</td>\n",
              "      <td>0</td>\n",
              "      <td>0</td>\n",
              "    </tr>\n",
              "    <tr>\n",
              "      <th>2</th>\n",
              "      <td>2</td>\n",
              "      <td>1</td>\n",
              "      <td>28.0</td>\n",
              "      <td>0</td>\n",
              "      <td>40050.0</td>\n",
              "      <td>124.0</td>\n",
              "      <td>1</td>\n",
              "      <td>1</td>\n",
              "      <td>0</td>\n",
              "      <td>0</td>\n",
              "    </tr>\n",
              "    <tr>\n",
              "      <th>3</th>\n",
              "      <td>0</td>\n",
              "      <td>1</td>\n",
              "      <td>27.0</td>\n",
              "      <td>1</td>\n",
              "      <td>37356.0</td>\n",
              "      <td>152.0</td>\n",
              "      <td>1</td>\n",
              "      <td>1</td>\n",
              "      <td>1</td>\n",
              "      <td>0</td>\n",
              "    </tr>\n",
              "    <tr>\n",
              "      <th>4</th>\n",
              "      <td>0</td>\n",
              "      <td>1</td>\n",
              "      <td>28.0</td>\n",
              "      <td>1</td>\n",
              "      <td>59097.0</td>\n",
              "      <td>152.0</td>\n",
              "      <td>1</td>\n",
              "      <td>0</td>\n",
              "      <td>1</td>\n",
              "      <td>0</td>\n",
              "    </tr>\n",
              "  </tbody>\n",
              "</table>\n",
              "</div>\n",
              "      <button class=\"colab-df-convert\" onclick=\"convertToInteractive('df-0431a45e-bb7a-40f0-9fbe-da0c1b29a502')\"\n",
              "              title=\"Convert this dataframe to an interactive table.\"\n",
              "              style=\"display:none;\">\n",
              "        \n",
              "  <svg xmlns=\"http://www.w3.org/2000/svg\" height=\"24px\"viewBox=\"0 0 24 24\"\n",
              "       width=\"24px\">\n",
              "    <path d=\"M0 0h24v24H0V0z\" fill=\"none\"/>\n",
              "    <path d=\"M18.56 5.44l.94 2.06.94-2.06 2.06-.94-2.06-.94-.94-2.06-.94 2.06-2.06.94zm-11 1L8.5 8.5l.94-2.06 2.06-.94-2.06-.94L8.5 2.5l-.94 2.06-2.06.94zm10 10l.94 2.06.94-2.06 2.06-.94-2.06-.94-.94-2.06-.94 2.06-2.06.94z\"/><path d=\"M17.41 7.96l-1.37-1.37c-.4-.4-.92-.59-1.43-.59-.52 0-1.04.2-1.43.59L10.3 9.45l-7.72 7.72c-.78.78-.78 2.05 0 2.83L4 21.41c.39.39.9.59 1.41.59.51 0 1.02-.2 1.41-.59l7.78-7.78 2.81-2.81c.8-.78.8-2.07 0-2.86zM5.41 20L4 18.59l7.72-7.72 1.47 1.35L5.41 20z\"/>\n",
              "  </svg>\n",
              "      </button>\n",
              "      \n",
              "  <style>\n",
              "    .colab-df-container {\n",
              "      display:flex;\n",
              "      flex-wrap:wrap;\n",
              "      gap: 12px;\n",
              "    }\n",
              "\n",
              "    .colab-df-convert {\n",
              "      background-color: #E8F0FE;\n",
              "      border: none;\n",
              "      border-radius: 50%;\n",
              "      cursor: pointer;\n",
              "      display: none;\n",
              "      fill: #1967D2;\n",
              "      height: 32px;\n",
              "      padding: 0 0 0 0;\n",
              "      width: 32px;\n",
              "    }\n",
              "\n",
              "    .colab-df-convert:hover {\n",
              "      background-color: #E2EBFA;\n",
              "      box-shadow: 0px 1px 2px rgba(60, 64, 67, 0.3), 0px 1px 3px 1px rgba(60, 64, 67, 0.15);\n",
              "      fill: #174EA6;\n",
              "    }\n",
              "\n",
              "    [theme=dark] .colab-df-convert {\n",
              "      background-color: #3B4455;\n",
              "      fill: #D2E3FC;\n",
              "    }\n",
              "\n",
              "    [theme=dark] .colab-df-convert:hover {\n",
              "      background-color: #434B5C;\n",
              "      box-shadow: 0px 1px 3px 1px rgba(0, 0, 0, 0.15);\n",
              "      filter: drop-shadow(0px 1px 2px rgba(0, 0, 0, 0.3));\n",
              "      fill: #FFFFFF;\n",
              "    }\n",
              "  </style>\n",
              "\n",
              "      <script>\n",
              "        const buttonEl =\n",
              "          document.querySelector('#df-0431a45e-bb7a-40f0-9fbe-da0c1b29a502 button.colab-df-convert');\n",
              "        buttonEl.style.display =\n",
              "          google.colab.kernel.accessAllowed ? 'block' : 'none';\n",
              "\n",
              "        async function convertToInteractive(key) {\n",
              "          const element = document.querySelector('#df-0431a45e-bb7a-40f0-9fbe-da0c1b29a502');\n",
              "          const dataTable =\n",
              "            await google.colab.kernel.invokeFunction('convertToInteractive',\n",
              "                                                     [key], {});\n",
              "          if (!dataTable) return;\n",
              "\n",
              "          const docLinkHtml = 'Like what you see? Visit the ' +\n",
              "            '<a target=\"_blank\" href=https://colab.research.google.com/notebooks/data_table.ipynb>data table notebook</a>'\n",
              "            + ' to learn more about interactive tables.';\n",
              "          element.innerHTML = '';\n",
              "          dataTable['output_type'] = 'display_data';\n",
              "          await google.colab.output.renderOutput(dataTable, element);\n",
              "          const docLink = document.createElement('div');\n",
              "          docLink.innerHTML = docLinkHtml;\n",
              "          element.appendChild(docLink);\n",
              "        }\n",
              "      </script>\n",
              "    </div>\n",
              "  </div>\n",
              "  "
            ],
            "text/plain": [
              "   Age  Driving_License  ...  Vehicle_Age_< 1 Year  Vehicle_Age_> 2 Years\n",
              "0    0                1  ...                     1                      0\n",
              "1    2                1  ...                     0                      0\n",
              "2    2                1  ...                     0                      0\n",
              "3    0                1  ...                     1                      0\n",
              "4    0                1  ...                     1                      0\n",
              "\n",
              "[5 rows x 10 columns]"
            ]
          },
          "metadata": {},
          "execution_count": 33
        }
      ]
    },
    {
      "cell_type": "code",
      "source": [
        ""
      ],
      "metadata": {
        "id": "wSagMv7C2WzR"
      },
      "execution_count": null,
      "outputs": []
    },
    {
      "cell_type": "markdown",
      "source": [
        "### Gender"
      ],
      "metadata": {
        "id": "5kNzJWJi2Wvi"
      }
    },
    {
      "cell_type": "code",
      "source": [
        "x_train_gender = train['Gender'].apply(lambda x: 1 if x=='Male' else 0)\n",
        "x_train_gender = x_train_gender.values.reshape(-1, 1)\n",
        "\n",
        "x_test_gender = test['Gender'].apply(lambda x:1 if x=='Male' else 0)\n",
        "x_test_gender = x_test_gender.values.reshape(-1, 1)\n",
        "\n",
        "print(x_train_gender.shape)\n",
        "print(x_test_gender.shape)"
      ],
      "metadata": {
        "colab": {
          "base_uri": "https://localhost:8080/"
        },
        "id": "GOwkGvG-2WtB",
        "outputId": "5993e46f-5898-46be-e058-9f0443cba61c"
      },
      "execution_count": 15,
      "outputs": [
        {
          "output_type": "stream",
          "name": "stdout",
          "text": [
            "(381109, 1)\n",
            "(127037, 1)\n"
          ]
        }
      ]
    },
    {
      "cell_type": "code",
      "source": [
        ""
      ],
      "metadata": {
        "id": "e4TNLaW72WlJ"
      },
      "execution_count": null,
      "outputs": []
    },
    {
      "cell_type": "markdown",
      "source": [
        "### Age"
      ],
      "metadata": {
        "id": "jBmVkH_f2We5"
      }
    },
    {
      "cell_type": "code",
      "source": [
        "from sklearn.preprocessing import MinMaxScaler"
      ],
      "metadata": {
        "id": "6qxJg9zM2WbJ"
      },
      "execution_count": 16,
      "outputs": []
    },
    {
      "cell_type": "code",
      "source": [
        "scaler = MinMaxScaler()\n",
        "\n",
        "scaler.fit(train['Age'].values.reshape(-1,1))\n",
        "x_train_age = scaler.transform(train['Age'].values.reshape(-1,1))\n",
        "x_test_age = scaler.transform(test['Age'].values.reshape(-1,1))\n",
        "\n",
        "print(x_train_age.shape)\n",
        "print(x_test_age.shape)"
      ],
      "metadata": {
        "colab": {
          "base_uri": "https://localhost:8080/"
        },
        "id": "mLsyG2l92WY5",
        "outputId": "6d15077e-c55a-4a58-de3c-5da1d9f3708c"
      },
      "execution_count": 18,
      "outputs": [
        {
          "output_type": "stream",
          "name": "stdout",
          "text": [
            "(381109, 1)\n",
            "(127037, 1)\n"
          ]
        }
      ]
    },
    {
      "cell_type": "code",
      "source": [
        ""
      ],
      "metadata": {
        "id": "wA7hn0ET2WUQ"
      },
      "execution_count": null,
      "outputs": []
    },
    {
      "cell_type": "code",
      "source": [
        "x_train_age_n = train['Age'].values.reshape(-1,1)\n",
        "x_test_age_n = test['Age'].values.reshape(-1,1)\n",
        "\n",
        "print(x_train_age_n.shape)\n",
        "print(x_test_age_n.shape)"
      ],
      "metadata": {
        "colab": {
          "base_uri": "https://localhost:8080/"
        },
        "id": "i1ioxLBd2WNV",
        "outputId": "25e3ab00-21cd-4462-9a36-a08daa4c1573"
      },
      "execution_count": 20,
      "outputs": [
        {
          "output_type": "stream",
          "name": "stdout",
          "text": [
            "(381109, 1)\n",
            "(127037, 1)\n"
          ]
        }
      ]
    },
    {
      "cell_type": "code",
      "source": [
        ""
      ],
      "metadata": {
        "id": "45dPF1yB2WJi"
      },
      "execution_count": null,
      "outputs": []
    },
    {
      "cell_type": "markdown",
      "source": [
        "Feature engineering: new categorical feature for Age"
      ],
      "metadata": {
        "id": "p_yq6gzv2WFx"
      }
    },
    {
      "cell_type": "code",
      "source": [
        "x_train_age_cat = train['Age'].apply(lambda x:1 if x>=30 else 0)\n",
        "x_train_age_cat = x_train_age_cat.values.reshape(-1, 1)\n",
        "\n",
        "x_test_age_cat = test['Age'].apply(lambda x:1 if x>=30 else 0)\n",
        "x_test_age_cat = x_test_age_cat.values.reshape(-1, 1)\n",
        "\n",
        "print(x_train_age_cat.shape)\n",
        "print(x_test_age_cat.shape)"
      ],
      "metadata": {
        "colab": {
          "base_uri": "https://localhost:8080/"
        },
        "id": "ZyA9ZP6zBuRV",
        "outputId": "09c5016d-f456-4a60-f21f-970186d7f200"
      },
      "execution_count": 21,
      "outputs": [
        {
          "output_type": "stream",
          "name": "stdout",
          "text": [
            "(381109, 1)\n",
            "(127037, 1)\n"
          ]
        }
      ]
    },
    {
      "cell_type": "code",
      "source": [
        ""
      ],
      "metadata": {
        "id": "6yGxuHbrBuLg"
      },
      "execution_count": null,
      "outputs": []
    },
    {
      "cell_type": "markdown",
      "source": [
        "### Driving License"
      ],
      "metadata": {
        "id": "-g6f3oBJBuEQ"
      }
    },
    {
      "cell_type": "code",
      "source": [
        "x_train_license = train['Driving_License'].values.reshape(-1, 1)\n",
        "x_test_license = test['Driving_License'].values.reshape(-1, 1)\n",
        "\n",
        "print(x_train_license.shape)\n",
        "print(x_test_license.shape)"
      ],
      "metadata": {
        "colab": {
          "base_uri": "https://localhost:8080/"
        },
        "id": "wkS5zbZ-2WCh",
        "outputId": "d083e606-7882-4261-e3e2-a14b70a0389a"
      },
      "execution_count": 23,
      "outputs": [
        {
          "output_type": "stream",
          "name": "stdout",
          "text": [
            "(381109, 1)\n",
            "(127037, 1)\n"
          ]
        }
      ]
    },
    {
      "cell_type": "code",
      "source": [
        ""
      ],
      "metadata": {
        "id": "6GxTZ2ckCjYk"
      },
      "execution_count": null,
      "outputs": []
    },
    {
      "cell_type": "markdown",
      "source": [
        "### Region Code"
      ],
      "metadata": {
        "id": "46HTjY_XCjc4"
      }
    },
    {
      "cell_type": "code",
      "source": [
        "from sklearn.preprocessing import OneHotEncoder"
      ],
      "metadata": {
        "id": "XktmurNtCjgy"
      },
      "execution_count": 24,
      "outputs": []
    },
    {
      "cell_type": "code",
      "source": [
        "encoder = OneHotEncoder()\n",
        "encoder.fit(train[\"Region_Code\"].values.reshape(-1, 1))\n",
        "\n",
        "x_train_region_code = encoder.transform(train['Region_Code'].values.reshape(-1, 1))\n",
        "x_test_region_code = encoder.transform(test['Region_Code'].values.reshape(-1, 1))\n",
        "\n",
        "print(x_train_region_code.shape)\n",
        "print(x_test_region_code.shape)"
      ],
      "metadata": {
        "colab": {
          "base_uri": "https://localhost:8080/"
        },
        "id": "NhRz1xVOCjkd",
        "outputId": "129b2e78-dc39-4f74-ea26-efefc5ba574d"
      },
      "execution_count": 25,
      "outputs": [
        {
          "output_type": "stream",
          "name": "stdout",
          "text": [
            "(381109, 53)\n",
            "(127037, 53)\n"
          ]
        }
      ]
    },
    {
      "cell_type": "code",
      "source": [
        "train['Region_Code'].value_counts()"
      ],
      "metadata": {
        "colab": {
          "base_uri": "https://localhost:8080/"
        },
        "id": "m8nF7NxZCjno",
        "outputId": "1e020ee6-b913-40c8-e968-e9e25c0d7f20"
      },
      "execution_count": 26,
      "outputs": [
        {
          "output_type": "execute_result",
          "data": {
            "text/plain": [
              "28.0    106415\n",
              "8.0      33877\n",
              "46.0     19749\n",
              "41.0     18263\n",
              "15.0     13308\n",
              "30.0     12191\n",
              "29.0     11065\n",
              "50.0     10243\n",
              "3.0       9251\n",
              "11.0      9232\n",
              "36.0      8797\n",
              "33.0      7654\n",
              "47.0      7436\n",
              "35.0      6942\n",
              "6.0       6280\n",
              "45.0      5605\n",
              "37.0      5501\n",
              "18.0      5153\n",
              "48.0      4681\n",
              "14.0      4678\n",
              "39.0      4644\n",
              "10.0      4374\n",
              "21.0      4266\n",
              "2.0       4038\n",
              "13.0      4036\n",
              "7.0       3279\n",
              "12.0      3198\n",
              "9.0       3101\n",
              "27.0      2823\n",
              "32.0      2787\n",
              "43.0      2639\n",
              "17.0      2617\n",
              "26.0      2587\n",
              "25.0      2503\n",
              "24.0      2415\n",
              "38.0      2026\n",
              "0.0       2021\n",
              "16.0      2007\n",
              "31.0      1960\n",
              "23.0      1960\n",
              "20.0      1935\n",
              "49.0      1832\n",
              "4.0       1801\n",
              "34.0      1664\n",
              "19.0      1535\n",
              "22.0      1309\n",
              "40.0      1295\n",
              "5.0       1279\n",
              "1.0       1008\n",
              "44.0       808\n",
              "42.0       591\n",
              "52.0       267\n",
              "51.0       183\n",
              "Name: Region_Code, dtype: int64"
            ]
          },
          "metadata": {},
          "execution_count": 26
        }
      ]
    },
    {
      "cell_type": "code",
      "source": [
        ""
      ],
      "metadata": {
        "id": "0LlF9ab_Cjqx"
      },
      "execution_count": null,
      "outputs": []
    },
    {
      "cell_type": "markdown",
      "source": [
        "in response coding, when we calculate the probability of a feature value belonging to a particular class"
      ],
      "metadata": {
        "id": "4xfnhKK5CjuR"
      }
    },
    {
      "cell_type": "code",
      "source": [
        "def get_feature_dict(feature):\n",
        "    value_counts = train[feature].value_counts()\n",
        "    my_dict = dict()\n",
        "    for i, denominator in value_counts.items():\n",
        "        class_count = train[(train['Response']==1) & (train[feature]==i)]\n",
        "        my_dict[i] = round((class_count.shape[0]/ denominator), 6)\n",
        "    return my_dict"
      ],
      "metadata": {
        "id": "Zk5Dw_zwCjyC"
      },
      "execution_count": 29,
      "outputs": []
    },
    {
      "cell_type": "code",
      "source": [
        "region_code_dict = get_feature_dict('Region_Code')\n",
        "region_code_dict"
      ],
      "metadata": {
        "colab": {
          "base_uri": "https://localhost:8080/"
        },
        "id": "iaWMxBRbCj16",
        "outputId": "ed5f7721-d4fc-448f-d2d4-5039342cff6d"
      },
      "execution_count": 30,
      "outputs": [
        {
          "output_type": "execute_result",
          "data": {
            "text/plain": [
              "{0.0: 0.086096,\n",
              " 1.0: 0.108135,\n",
              " 2.0: 0.071075,\n",
              " 3.0: 0.127662,\n",
              " 4.0: 0.158245,\n",
              " 5.0: 0.115715,\n",
              " 6.0: 0.069904,\n",
              " 7.0: 0.131747,\n",
              " 8.0: 0.096142,\n",
              " 9.0: 0.081587,\n",
              " 10.0: 0.060128,\n",
              " 11.0: 0.11276,\n",
              " 12.0: 0.097561,\n",
              " 13.0: 0.090188,\n",
              " 14.0: 0.090209,\n",
              " 15.0: 0.071987,\n",
              " 16.0: 0.066766,\n",
              " 17.0: 0.07031,\n",
              " 18.0: 0.131574,\n",
              " 19.0: 0.162866,\n",
              " 20.0: 0.115245,\n",
              " 21.0: 0.071027,\n",
              " 22.0: 0.063407,\n",
              " 23.0: 0.153061,\n",
              " 24.0: 0.141615,\n",
              " 25.0: 0.042749,\n",
              " 26.0: 0.072284,\n",
              " 27.0: 0.074035,\n",
              " 28.0: 0.187163,\n",
              " 29.0: 0.123362,\n",
              " 30.0: 0.073825,\n",
              " 31.0: 0.10051,\n",
              " 32.0: 0.085755,\n",
              " 33.0: 0.099294,\n",
              " 34.0: 0.075721,\n",
              " 35.0: 0.124604,\n",
              " 36.0: 0.079914,\n",
              " 37.0: 0.079258,\n",
              " 38.0: 0.192004,\n",
              " 39.0: 0.1236,\n",
              " 40.0: 0.118147,\n",
              " 41.0: 0.121776,\n",
              " 42.0: 0.07445,\n",
              " 43.0: 0.092459,\n",
              " 44.0: 0.040842,\n",
              " 45.0: 0.109723,\n",
              " 46.0: 0.102891,\n",
              " 47.0: 0.087682,\n",
              " 48.0: 0.101901,\n",
              " 49.0: 0.074782,\n",
              " 50.0: 0.062677,\n",
              " 51.0: 0.153005,\n",
              " 52.0: 0.123596}"
            ]
          },
          "metadata": {},
          "execution_count": 30
        }
      ]
    },
    {
      "cell_type": "code",
      "source": [
        ""
      ],
      "metadata": {
        "id": "VtQMM-wE2V_R"
      },
      "execution_count": null,
      "outputs": []
    },
    {
      "cell_type": "code",
      "source": [
        "pkn = test['Region_Code'].copy()\n",
        "pkn = pkn.apply(lambda x: region_code_dict[x])\n",
        "pkn"
      ],
      "metadata": {
        "colab": {
          "base_uri": "https://localhost:8080/"
        },
        "id": "YoyaWdgF2V8j",
        "outputId": "079969d5-c661-4fd0-f1ef-e0db3e7fb1de"
      },
      "execution_count": 31,
      "outputs": [
        {
          "output_type": "execute_result",
          "data": {
            "text/plain": [
              "0         0.112760\n",
              "1         0.187163\n",
              "2         0.187163\n",
              "3         0.074035\n",
              "4         0.187163\n",
              "            ...   \n",
              "127032    0.079258\n",
              "127033    0.187163\n",
              "127034    0.102891\n",
              "127035    0.187163\n",
              "127036    0.123362\n",
              "Name: Region_Code, Length: 127037, dtype: float64"
            ]
          },
          "metadata": {},
          "execution_count": 31
        }
      ]
    },
    {
      "cell_type": "code",
      "source": [
        "x_train_region_code_resp = train['Region_Code'].apply(lambda x:region_code_dict[x])\n",
        "x_train_region_code_resp = x_train_region_code_resp.values.reshape(-1, 1)\n",
        "\n",
        "x_test_region_code_resp = test['Region_Code'].apply(lambda x: region_code_dict[x] \n",
        "                                                    if x in region_code_dict.keys() \n",
        "                                                    else np.median(list(region_code_dict.values())))\n",
        "x_test_region_code_resp = x_test_region_code_resp.values.reshape(-1, 1)\n",
        "\n",
        "print(x_train_region_code_resp.shape)\n",
        "print(x_test_region_code_resp.shape)"
      ],
      "metadata": {
        "colab": {
          "base_uri": "https://localhost:8080/"
        },
        "id": "YgcNxCJm2Vyq",
        "outputId": "43264774-96c8-4fe1-d745-4222691aa69b"
      },
      "execution_count": 32,
      "outputs": [
        {
          "output_type": "stream",
          "name": "stdout",
          "text": [
            "(381109, 1)\n",
            "(127037, 1)\n"
          ]
        }
      ]
    },
    {
      "cell_type": "code",
      "source": [
        ""
      ],
      "metadata": {
        "id": "x7zjCoG82VvB"
      },
      "execution_count": null,
      "outputs": []
    },
    {
      "cell_type": "markdown",
      "source": [
        "### Previously Insured"
      ],
      "metadata": {
        "id": "s9uxW0r-2VsJ"
      }
    },
    {
      "cell_type": "code",
      "source": [
        "x_train_prev_ins = train['Previously_Insured'].values.reshape(-1, 1)\n",
        "x_test_prev_ins = test['Previously_Insured'].values.reshape(-1, 1)\n",
        "\n",
        "print(x_train_prev_ins.shape)\n",
        "print(x_test_prev_ins.shape)"
      ],
      "metadata": {
        "colab": {
          "base_uri": "https://localhost:8080/"
        },
        "id": "jKmGmmLR2Vkh",
        "outputId": "f5f2c846-7929-4ad3-f429-a189a439b11a"
      },
      "execution_count": 33,
      "outputs": [
        {
          "output_type": "stream",
          "name": "stdout",
          "text": [
            "(381109, 1)\n",
            "(127037, 1)\n"
          ]
        }
      ]
    },
    {
      "cell_type": "code",
      "source": [
        ""
      ],
      "metadata": {
        "id": "u9giibs92VeZ"
      },
      "execution_count": null,
      "outputs": []
    },
    {
      "cell_type": "markdown",
      "source": [
        "### Vehice Age"
      ],
      "metadata": {
        "id": "FOzUPOTq2VaL"
      }
    },
    {
      "cell_type": "code",
      "source": [
        "from sklearn.preprocessing import OneHotEncoder"
      ],
      "metadata": {
        "id": "K6V0cmSN2VUa"
      },
      "execution_count": 34,
      "outputs": []
    },
    {
      "cell_type": "code",
      "source": [
        "encoder = OneHotEncoder()\n",
        "encoder.fit(train['Vehicle_Age'].values.reshape(-1, 1))\n",
        "\n",
        "x_train_vehicle_age = encoder.transform(train['Vehicle_Age'].values.reshape(-1, 1))\n",
        "x_test_vehicle_age = encoder.transform(test['Vehicle_Age'].values.reshape(-1, 1))\n",
        "\n",
        "print(x_train_vehicle_age.shape)\n",
        "print(x_test_vehicle_age.shape)"
      ],
      "metadata": {
        "colab": {
          "base_uri": "https://localhost:8080/"
        },
        "id": "-lBIaaHduxdH",
        "outputId": "4117f622-d5cc-4782-9591-7c7208624e3a"
      },
      "execution_count": 35,
      "outputs": [
        {
          "output_type": "stream",
          "name": "stdout",
          "text": [
            "(381109, 3)\n",
            "(127037, 3)\n"
          ]
        }
      ]
    },
    {
      "cell_type": "code",
      "source": [
        ""
      ],
      "metadata": {
        "id": "L5yG7ZPyuxYZ"
      },
      "execution_count": null,
      "outputs": []
    },
    {
      "cell_type": "markdown",
      "source": [
        "label encoding 'Vehicle Age'"
      ],
      "metadata": {
        "id": "1eTgs3Q5uxRj"
      }
    },
    {
      "cell_type": "code",
      "source": [
        "x_train_vehicle_age_n = train[\"Vehicle_Age\"].replace({'< 1 Year':0, '1-2 Year':1, '> 2 Years':2})\n",
        "x_train_vehicle_age_n = x_train_vehicle_age_n.values.reshape(-1, 1)\n",
        "\n",
        "x_test_vehicle_age_n = test[\"Vehicle_Age\"].replace({'< 1 Year':0, '1-2 Year':1, '> 2 Years':2})\n",
        "x_test_vehicle_age_n = x_test_vehicle_age_n.values.reshape(-1, 1)"
      ],
      "metadata": {
        "id": "xAFcUuCF2VOG"
      },
      "execution_count": 36,
      "outputs": []
    },
    {
      "cell_type": "markdown",
      "source": [
        "Response Coding"
      ],
      "metadata": {
        "id": "y8_9boPcvgU0"
      }
    },
    {
      "cell_type": "code",
      "source": [
        "vehicle_age_dict = get_feature_dict('Vehicle_Age')\n",
        "vehicle_age_dict"
      ],
      "metadata": {
        "colab": {
          "base_uri": "https://localhost:8080/"
        },
        "id": "rvyc9qxGvgKR",
        "outputId": "4afded6a-242c-48fd-9d3c-fdc7cc1fbb41"
      },
      "execution_count": 37,
      "outputs": [
        {
          "output_type": "execute_result",
          "data": {
            "text/plain": [
              "{'1-2 Year': 0.173755, '< 1 Year': 0.043705, '> 2 Years': 0.293746}"
            ]
          },
          "metadata": {},
          "execution_count": 37
        }
      ]
    },
    {
      "cell_type": "code",
      "source": [
        "x_train_vehicle_age_resp = train['Vehicle_Age'].apply(lambda x: vehicle_age_dict[x])\n",
        "x_train_vehicle_age_resp = x_train_vehicle_age_resp.values.reshape(-1, 1)\n",
        "\n",
        "x_test_vehicle_age_resp = test['Vehicle_Age'].apply(lambda x: vehicle_age_dict[x])\n",
        "x_test_vehicle_age_resp = x_test_vehicle_age_resp.values.reshape(-1, 1)\n",
        "\n",
        "print(x_train_vehicle_age_resp.shape)\n",
        "print(x_test_vehicle_age_resp.shape)"
      ],
      "metadata": {
        "colab": {
          "base_uri": "https://localhost:8080/"
        },
        "id": "03z0zxzCvgEw",
        "outputId": "859c4000-ba81-4b3c-ed4f-051ef58a5e08"
      },
      "execution_count": 39,
      "outputs": [
        {
          "output_type": "stream",
          "name": "stdout",
          "text": [
            "(381109, 1)\n",
            "(127037, 1)\n"
          ]
        }
      ]
    },
    {
      "cell_type": "code",
      "source": [
        ""
      ],
      "metadata": {
        "id": "YI97mCFqvf_a"
      },
      "execution_count": null,
      "outputs": []
    },
    {
      "cell_type": "markdown",
      "source": [
        "### Vehicle Damage"
      ],
      "metadata": {
        "id": "JIhgPgJ5vf66"
      }
    },
    {
      "cell_type": "code",
      "source": [
        "x_train_damage = train['Vehicle_Damage'].apply(lambda x: 1 if x=='Yes' else 0)\n",
        "x_train_damage = x_train_damage.values.reshape(-1, 1)\n",
        "\n",
        "x_test_damage = test['Vehicle_Damage'].apply(lambda x: 1 if x=='Yes' else 0)\n",
        "x_test_damage = x_test_damage.values.reshape(-1, 1)\n",
        "\n",
        "print(x_train_damage.shape)\n",
        "print(x_test_damage.shape)"
      ],
      "metadata": {
        "colab": {
          "base_uri": "https://localhost:8080/"
        },
        "id": "X3PJU-oKwi85",
        "outputId": "8cf0c051-033a-4555-a6ae-0ce0fa8286db"
      },
      "execution_count": 40,
      "outputs": [
        {
          "output_type": "stream",
          "name": "stdout",
          "text": [
            "(381109, 1)\n",
            "(127037, 1)\n"
          ]
        }
      ]
    },
    {
      "cell_type": "code",
      "source": [
        ""
      ],
      "metadata": {
        "id": "JF4JrMF_wi4L"
      },
      "execution_count": null,
      "outputs": []
    },
    {
      "cell_type": "markdown",
      "source": [
        "### Annual Premium"
      ],
      "metadata": {
        "id": "JSG_A5ptwiyZ"
      }
    },
    {
      "cell_type": "code",
      "source": [
        "scaler = MinMaxScaler()\n",
        "scaler.fit(train['Annual_Premium'].values.reshape(-1, 1))\n",
        "x_train_premium = scaler.transform(train['Annual_Premium'].values.reshape(-1, 1))\n",
        "x_test_premium = scaler.transform(test['Annual_Premium'].values.reshape(-1, 1))\n",
        "\n",
        "print(x_train_premium.shape)\n",
        "print(x_test_premium.shape)"
      ],
      "metadata": {
        "colab": {
          "base_uri": "https://localhost:8080/"
        },
        "id": "yCrq6BR3witR",
        "outputId": "59828929-1c13-468e-ab91-003d1cdf25ed"
      },
      "execution_count": 42,
      "outputs": [
        {
          "output_type": "stream",
          "name": "stdout",
          "text": [
            "(381109, 1)\n",
            "(127037, 1)\n"
          ]
        }
      ]
    },
    {
      "cell_type": "code",
      "source": [
        "x_train_premium_n = train['Annual_Premium'].values.reshape(-1, 1)\n",
        "x_test_premium_n = test['Annual_Premium'].values.reshape(-1, 1)\n",
        "\n",
        "print(x_train_premium_n.shape)\n",
        "print(x_test_premium_n.shape)"
      ],
      "metadata": {
        "colab": {
          "base_uri": "https://localhost:8080/"
        },
        "id": "bwl6dWBvwioN",
        "outputId": "2752c329-f569-48ae-8856-9a09727dda24"
      },
      "execution_count": 43,
      "outputs": [
        {
          "output_type": "stream",
          "name": "stdout",
          "text": [
            "(381109, 1)\n",
            "(127037, 1)\n"
          ]
        }
      ]
    },
    {
      "cell_type": "code",
      "source": [
        ""
      ],
      "metadata": {
        "id": "1tRQEwjewijC"
      },
      "execution_count": null,
      "outputs": []
    },
    {
      "cell_type": "code",
      "source": [
        ""
      ],
      "metadata": {
        "id": "PMC9tHZQwibq"
      },
      "execution_count": null,
      "outputs": []
    },
    {
      "cell_type": "markdown",
      "source": [
        "### Policy Sales Channel"
      ],
      "metadata": {
        "id": "AYQpQ42Bvf0x"
      }
    },
    {
      "cell_type": "code",
      "source": [
        "encoder = OneHotEncoder(handle_unknown = 'ignore')\n",
        "encoder.fit(train['Policy_Sales_Channel'].values.reshape(-1, 1))\n",
        "\n",
        "x_train_sales_chnl = encoder.transform(train['Policy_Sales_Channel'].values.reshape(-1, 1))\n",
        "x_test_sales_chnl = encoder.transform(test['Policy_Sales_Channel'].values.reshape(-1, 1))\n",
        "\n",
        "print(x_train_sales_chnl.shape)\n",
        "print(x_test_sales_chnl.shape)"
      ],
      "metadata": {
        "colab": {
          "base_uri": "https://localhost:8080/"
        },
        "id": "JT9ZaQgTwp6T",
        "outputId": "adc541f2-1c9a-488e-c9d0-912ef8902bd2"
      },
      "execution_count": 44,
      "outputs": [
        {
          "output_type": "stream",
          "name": "stdout",
          "text": [
            "(381109, 155)\n",
            "(127037, 155)\n"
          ]
        }
      ]
    },
    {
      "cell_type": "markdown",
      "source": [
        "Response Encoding"
      ],
      "metadata": {
        "id": "hD-86vY4wp-_"
      }
    },
    {
      "cell_type": "code",
      "source": [
        "sales_chnl_dict = get_feature_dict('Policy_Sales_Channel')\n",
        "sales_chnl_dict"
      ],
      "metadata": {
        "colab": {
          "base_uri": "https://localhost:8080/"
        },
        "id": "c81QOlqwvfut",
        "outputId": "203ec956-bca9-4c0b-d978-8184f6d17ec9"
      },
      "execution_count": 45,
      "outputs": [
        {
          "output_type": "execute_result",
          "data": {
            "text/plain": [
              "{1.0: 0.032588,\n",
              " 2.0: 0.25,\n",
              " 3.0: 0.304015,\n",
              " 4.0: 0.200393,\n",
              " 6.0: 0.0,\n",
              " 7.0: 0.113892,\n",
              " 8.0: 0.082508,\n",
              " 9.0: 0.100592,\n",
              " 10.0: 0.189394,\n",
              " 11.0: 0.089776,\n",
              " 12.0: 0.168582,\n",
              " 13.0: 0.147453,\n",
              " 14.0: 0.101286,\n",
              " 15.0: 0.087838,\n",
              " 16.0: 0.086042,\n",
              " 17.0: 0.1875,\n",
              " 18.0: 0.035928,\n",
              " 19.0: 0.085586,\n",
              " 20.0: 0.111111,\n",
              " 21.0: 0.081081,\n",
              " 22.0: 0.054217,\n",
              " 23.0: 0.137441,\n",
              " 24.0: 0.132,\n",
              " 25.0: 0.199675,\n",
              " 26.0: 0.199385,\n",
              " 27.0: 0.333333,\n",
              " 28.0: 0.333333,\n",
              " 29.0: 0.125741,\n",
              " 30.0: 0.110638,\n",
              " 31.0: 0.253566,\n",
              " 32.0: 0.095238,\n",
              " 33.0: 0.0,\n",
              " 34.0: 0.0,\n",
              " 35.0: 0.133333,\n",
              " 36.0: 0.326923,\n",
              " 37.0: 0.098684,\n",
              " 38.0: 0.0,\n",
              " 39.0: 0.1,\n",
              " 40.0: 0.133333,\n",
              " 41.0: 0.0,\n",
              " 42.0: 0.19697,\n",
              " 43.0: 1.0,\n",
              " 44.0: 0.19802,\n",
              " 45.0: 0.148936,\n",
              " 46.0: 0.0,\n",
              " 47.0: 0.126984,\n",
              " 48.0: 0.05,\n",
              " 49.0: 0.142857,\n",
              " 50.0: 0.0,\n",
              " 51.0: 0.083333,\n",
              " 52.0: 0.109005,\n",
              " 53.0: 0.21875,\n",
              " 54.0: 0.16,\n",
              " 55.0: 0.149525,\n",
              " 56.0: 0.184615,\n",
              " 57.0: 0.2,\n",
              " 58.0: 0.111111,\n",
              " 59.0: 0.19685,\n",
              " 60.0: 0.102515,\n",
              " 61.0: 0.096718,\n",
              " 62.0: 0.166667,\n",
              " 63.0: 0.052632,\n",
              " 64.0: 0.05618,\n",
              " 65.0: 0.067797,\n",
              " 66.0: 0.055556,\n",
              " 67.0: 0.0,\n",
              " 68.0: 0.25,\n",
              " 69.0: 0.166667,\n",
              " 70.0: 0.0,\n",
              " 71.0: 0.0,\n",
              " 73.0: 0.076923,\n",
              " 74.0: 0.0,\n",
              " 75.0: 0.0,\n",
              " 76.0: 0.0,\n",
              " 78.0: 0.130435,\n",
              " 79.0: 0.0,\n",
              " 80.0: 0.285714,\n",
              " 81.0: 0.285714,\n",
              " 82.0: 0.0,\n",
              " 83.0: 0.0,\n",
              " 84.0: 0.0,\n",
              " 86.0: 0.125,\n",
              " 87.0: 0.285714,\n",
              " 88.0: 0.058824,\n",
              " 89.0: 0.142857,\n",
              " 90.0: 0.269231,\n",
              " 91.0: 0.183544,\n",
              " 92.0: 0.125,\n",
              " 93.0: 0.107143,\n",
              " 94.0: 0.195652,\n",
              " 95.0: 0.0,\n",
              " 96.0: 0.0,\n",
              " 97.0: 0.076923,\n",
              " 98.0: 0.047619,\n",
              " 99.0: 0.0,\n",
              " 100.0: 0.25,\n",
              " 101.0: 0.285714,\n",
              " 102.0: 0.0,\n",
              " 103.0: 0.125,\n",
              " 104.0: 0.0,\n",
              " 105.0: 0.0,\n",
              " 106.0: 0.230769,\n",
              " 107.0: 0.037037,\n",
              " 108.0: 0.026316,\n",
              " 109.0: 0.12,\n",
              " 110.0: 0.090909,\n",
              " 111.0: 0.132353,\n",
              " 112.0: 0.0,\n",
              " 113.0: 0.067308,\n",
              " 114.0: 0.130435,\n",
              " 115.0: 0.0,\n",
              " 116.0: 0.116883,\n",
              " 117.0: 0.0,\n",
              " 118.0: 0.0,\n",
              " 119.0: 0.048544,\n",
              " 120.0: 0.084525,\n",
              " 121.0: 0.296875,\n",
              " 122.0: 0.173212,\n",
              " 123.0: 1.0,\n",
              " 124.0: 0.189148,\n",
              " 125.0: 0.123782,\n",
              " 126.0: 0.0,\n",
              " 127.0: 0.072727,\n",
              " 128.0: 0.094891,\n",
              " 129.0: 0.068182,\n",
              " 130.0: 0.090909,\n",
              " 131.0: 0.115702,\n",
              " 132.0: 0.064516,\n",
              " 133.0: 0.047059,\n",
              " 134.0: 0.0,\n",
              " 135.0: 0.089109,\n",
              " 136.0: 0.216216,\n",
              " 137.0: 0.0,\n",
              " 138.0: 0.096774,\n",
              " 139.0: 0.090909,\n",
              " 140.0: 0.065421,\n",
              " 143.0: 0.0,\n",
              " 144.0: 0.0,\n",
              " 145.0: 0.132184,\n",
              " 146.0: 0.0,\n",
              " 147.0: 0.184783,\n",
              " 148.0: 0.103896,\n",
              " 149.0: 0.0,\n",
              " 150.0: 0.24359,\n",
              " 151.0: 0.031403,\n",
              " 152.0: 0.028624,\n",
              " 153.0: 0.059308,\n",
              " 154.0: 0.245954,\n",
              " 155.0: 0.320097,\n",
              " 156.0: 0.215458,\n",
              " 157.0: 0.268402,\n",
              " 158.0: 0.27439,\n",
              " 159.0: 0.019608,\n",
              " 160.0: 0.02181,\n",
              " 163.0: 0.304183}"
            ]
          },
          "metadata": {},
          "execution_count": 45
        }
      ]
    },
    {
      "cell_type": "code",
      "source": [
        "x_train_sales_chnl_resp = train['Policy_Sales_Channel'].apply(lambda x: sales_chnl_dict[x])\n",
        "x_train_sales_chnl_resp = x_train_sales_chnl_resp.values.reshape(-1, 1)\n",
        "\n",
        "x_test_sales_chnl_resp = test['Policy_Sales_Channel'].apply(lambda x: sales_chnl_dict[x] if x in sales_chnl_dict.keys() \n",
        "                                                                                              else np.median(list(sales_chnl_dict.values())))\n",
        "x_test_sales_chnl_resp = x_test_sales_chnl_resp.values.reshape(-1, 1)\n",
        "\n",
        "print(x_train_sales_chnl_resp.shape)\n",
        "print(x_test_sales_chnl_resp.shape)"
      ],
      "metadata": {
        "colab": {
          "base_uri": "https://localhost:8080/"
        },
        "id": "TYVGOy7Pwsi6",
        "outputId": "9a20aa95-ba4c-410b-f360-8ebf439abba9"
      },
      "execution_count": 46,
      "outputs": [
        {
          "output_type": "stream",
          "name": "stdout",
          "text": [
            "(381109, 1)\n",
            "(127037, 1)\n"
          ]
        }
      ]
    },
    {
      "cell_type": "code",
      "source": [
        ""
      ],
      "metadata": {
        "id": "Mw7qzLpfwuxV"
      },
      "execution_count": null,
      "outputs": []
    },
    {
      "cell_type": "markdown",
      "source": [
        "### Vinatge"
      ],
      "metadata": {
        "id": "jX1DeNrZwr_V"
      }
    },
    {
      "cell_type": "code",
      "source": [
        "scaler = MinMaxScaler()\n",
        "scaler.fit(train['Vintage'].values.reshape(-1, 1))\n",
        "x_train_vintage = scaler.transform(train['Vintage'].values.reshape(-1, 1))\n",
        "x_test_vintage = scaler.transform(test['Vintage'].values.reshape(-1, 1))\n",
        "\n",
        "print(x_train_vintage.shape)\n",
        "print(x_test_vintage.shape)"
      ],
      "metadata": {
        "colab": {
          "base_uri": "https://localhost:8080/"
        },
        "id": "4R9__I8xwvec",
        "outputId": "9d027b9d-7a6b-4f4b-9da5-a77e03c1ef8c"
      },
      "execution_count": 47,
      "outputs": [
        {
          "output_type": "stream",
          "name": "stdout",
          "text": [
            "(381109, 1)\n",
            "(127037, 1)\n"
          ]
        }
      ]
    },
    {
      "cell_type": "code",
      "source": [
        "x_train_vintage_n = train['Vintage'].values.reshape(-1, 1)\n",
        "x_test_vintage_n =  test['Vintage'].values.reshape(-1, 1)\n",
        "\n",
        "print(x_train_vintage_n.shape)\n",
        "print(x_test_vintage_n.shape)"
      ],
      "metadata": {
        "colab": {
          "base_uri": "https://localhost:8080/"
        },
        "id": "aiQS_aVe13y2",
        "outputId": "fa6c2bef-7e99-42f5-9e10-9c8e5be0f9d6"
      },
      "execution_count": 52,
      "outputs": [
        {
          "output_type": "stream",
          "name": "stdout",
          "text": [
            "(381109, 1)\n",
            "(127037, 1)\n"
          ]
        }
      ]
    },
    {
      "cell_type": "code",
      "source": [
        ""
      ],
      "metadata": {
        "id": "x0apYUnEwvi6"
      },
      "execution_count": null,
      "outputs": []
    },
    {
      "cell_type": "markdown",
      "source": [
        "# Stacking all features together"
      ],
      "metadata": {
        "id": "HyQ3Fx_cwvmy"
      }
    },
    {
      "cell_type": "markdown",
      "source": [
        "### Set 1: Label Encoded + One Hot encoded categorical features + scaled numerical features"
      ],
      "metadata": {
        "id": "3vQn6WP2wvrc"
      }
    },
    {
      "cell_type": "code",
      "source": [
        "y_train = train['Response'].values"
      ],
      "metadata": {
        "id": "WL908dfgwvvU"
      },
      "execution_count": 50,
      "outputs": []
    },
    {
      "cell_type": "code",
      "source": [
        "from scipy.sparse import hstack\n",
        "\n",
        "x_train_ohe = hstack((x_train_gender, x_train_age, x_train_license, \n",
        "                      x_train_region_code, x_train_prev_ins, \n",
        "                       x_train_vehicle_age, x_train_damage, \n",
        "                      x_train_premium, x_train_sales_chnl, x_train_vintage))\n",
        "\n",
        "x_test_ohe = hstack((x_test_gender, x_test_age, x_test_license, \n",
        "                     x_test_region_code, x_test_prev_ins, \n",
        "                      x_test_vehicle_age, x_test_damage, \n",
        "                     x_test_premium, x_test_sales_chnl, x_test_vintage)) \n",
        "\n",
        "print(\"train data shape:\", (x_train_ohe.shape, y_train.shape))\n",
        "print(\"test data shape:\", x_test_ohe.shape)"
      ],
      "metadata": {
        "colab": {
          "base_uri": "https://localhost:8080/"
        },
        "id": "1MBF7EFwwvzR",
        "outputId": "e64c9736-f21d-4a84-a66f-0f2afe6406c9"
      },
      "execution_count": 51,
      "outputs": [
        {
          "output_type": "stream",
          "name": "stdout",
          "text": [
            "train data shape: ((381109, 218), (381109,))\n",
            "test data shape: (127037, 218)\n"
          ]
        }
      ]
    },
    {
      "cell_type": "code",
      "source": [
        ""
      ],
      "metadata": {
        "id": "hm4FsKo2wv28"
      },
      "execution_count": null,
      "outputs": []
    },
    {
      "cell_type": "markdown",
      "source": [
        "### Set 2: Label Encoded + Response encoded categorical features + Numerical features"
      ],
      "metadata": {
        "id": "z3yHhJL3wv60"
      }
    },
    {
      "cell_type": "code",
      "source": [
        "x_train_r = np.hstack((x_train_gender, x_train_age_n, x_train_age_cat, x_train_license, \n",
        "                       x_train_region_code_resp, x_train_prev_ins, \n",
        "                       x_train_vehicle_age_resp, x_train_damage, x_train_premium_n, \n",
        "                       x_train_sales_chnl_resp, x_train_vintage_n))\n",
        "\n",
        "x_test_r = np.hstack((x_test_gender, x_test_age_n, x_test_age_cat, x_test_license, \n",
        "                      x_test_region_code_resp, x_test_prev_ins, \n",
        "                      x_test_vehicle_age_resp, x_test_damage, x_test_premium_n, \n",
        "                      x_test_sales_chnl_resp, x_test_vintage_n)) \n",
        "\n",
        "print(\"train data shape:\", (x_train_r.shape, y_train.shape))\n",
        "print(\"test data shape:\", x_test_r.shape)"
      ],
      "metadata": {
        "colab": {
          "base_uri": "https://localhost:8080/"
        },
        "id": "ThwMZnS11O3c",
        "outputId": "5b6d7e1a-5bb9-402f-dd08-999ff0f442ce"
      },
      "execution_count": 53,
      "outputs": [
        {
          "output_type": "stream",
          "name": "stdout",
          "text": [
            "train data shape: ((381109, 11), (381109,))\n",
            "test data shape: (127037, 11)\n"
          ]
        }
      ]
    },
    {
      "cell_type": "code",
      "source": [
        ""
      ],
      "metadata": {
        "id": "M5BVrai-1OuS"
      },
      "execution_count": null,
      "outputs": []
    },
    {
      "cell_type": "code",
      "source": [
        ""
      ],
      "metadata": {
        "id": "FphJEhyMUzdr"
      },
      "execution_count": null,
      "outputs": []
    },
    {
      "cell_type": "markdown",
      "source": [
        "# Train-Validation Split"
      ],
      "metadata": {
        "id": "lPJ1ejJBUzhL"
      }
    },
    {
      "cell_type": "code",
      "source": [
        "inputs = train_dum.drop('Response', axis=1)\n",
        "targets = train_dum['Response']\n",
        "\n",
        "x_test = test_dum.copy()"
      ],
      "metadata": {
        "id": "v2nSvHPEUzky"
      },
      "execution_count": null,
      "outputs": []
    },
    {
      "cell_type": "code",
      "source": [
        "from sklearn.model_selection import StratifiedKFold"
      ],
      "metadata": {
        "id": "luSIlaGPUzoz"
      },
      "execution_count": null,
      "outputs": []
    },
    {
      "cell_type": "code",
      "source": [
        "skf = StratifiedKFold(n_splits=10)\n",
        "\n",
        "for train_idx, val_idx in skf.split(inputs, targets):\n",
        "    x_train, x_val = inputs.iloc[train_idx], inputs.iloc[val_idx]\n",
        "    y_train, y_val = targets.iloc[train_idx], targets.iloc[val_idx]"
      ],
      "metadata": {
        "id": "Yl8goFkAUztD"
      },
      "execution_count": null,
      "outputs": []
    },
    {
      "cell_type": "code",
      "source": [
        ""
      ],
      "metadata": {
        "id": "2jvQHdT0Uzwq"
      },
      "execution_count": null,
      "outputs": []
    },
    {
      "cell_type": "markdown",
      "source": [
        "# Building ML models"
      ],
      "metadata": {
        "id": "w8DFmMNpU0BE"
      }
    },
    {
      "cell_type": "code",
      "source": [
        ""
      ],
      "metadata": {
        "id": "kJFeTbNpU0FS"
      },
      "execution_count": null,
      "outputs": []
    },
    {
      "cell_type": "code",
      "source": [
        ""
      ],
      "metadata": {
        "id": "JvkW-pARU0JT"
      },
      "execution_count": null,
      "outputs": []
    },
    {
      "cell_type": "code",
      "source": [
        ""
      ],
      "metadata": {
        "id": "KYtf60A4U0NS"
      },
      "execution_count": null,
      "outputs": []
    },
    {
      "cell_type": "code",
      "source": [
        ""
      ],
      "metadata": {
        "id": "QyC4GNleU0RD"
      },
      "execution_count": null,
      "outputs": []
    },
    {
      "cell_type": "code",
      "source": [
        ""
      ],
      "metadata": {
        "id": "WPWGK7uYU0VB"
      },
      "execution_count": null,
      "outputs": []
    },
    {
      "cell_type": "code",
      "source": [
        ""
      ],
      "metadata": {
        "id": "0xBP5cDOU0Yd"
      },
      "execution_count": null,
      "outputs": []
    },
    {
      "cell_type": "code",
      "source": [
        ""
      ],
      "metadata": {
        "id": "oPtCB2OOU0cp"
      },
      "execution_count": null,
      "outputs": []
    },
    {
      "cell_type": "code",
      "source": [
        ""
      ],
      "metadata": {
        "id": "2B8EAPn2U0g6"
      },
      "execution_count": null,
      "outputs": []
    },
    {
      "cell_type": "code",
      "source": [
        ""
      ],
      "metadata": {
        "id": "Sc3FKglaU0kw"
      },
      "execution_count": null,
      "outputs": []
    },
    {
      "cell_type": "code",
      "source": [
        ""
      ],
      "metadata": {
        "id": "_XVuIFOxU0pC"
      },
      "execution_count": null,
      "outputs": []
    },
    {
      "cell_type": "code",
      "source": [
        ""
      ],
      "metadata": {
        "id": "2jLrR4lIU0tE"
      },
      "execution_count": null,
      "outputs": []
    },
    {
      "cell_type": "code",
      "source": [
        ""
      ],
      "metadata": {
        "id": "wy0dqdg0U0xi"
      },
      "execution_count": null,
      "outputs": []
    }
  ]
}